{
 "cells": [
  {
   "cell_type": "code",
   "id": "initial_id",
   "metadata": {
    "collapsed": true,
    "ExecuteTime": {
     "end_time": "2025-01-09T17:27:40.978374Z",
     "start_time": "2025-01-09T17:27:40.920629Z"
    }
   },
   "source": [
    "%load_ext autoreload\n",
    "%autoreload 2"
   ],
   "outputs": [
    {
     "name": "stdout",
     "output_type": "stream",
     "text": [
      "The autoreload extension is already loaded. To reload it, use:\n",
      "  %reload_ext autoreload\n"
     ]
    }
   ],
   "execution_count": 14
  },
  {
   "metadata": {
    "ExecuteTime": {
     "end_time": "2025-01-09T17:27:45.014590Z",
     "start_time": "2025-01-09T17:27:40.979370Z"
    }
   },
   "cell_type": "code",
   "source": [
    "import numpy as np\n",
    "import matplotlib.pyplot as plt\n",
    "from DSS_analyzer_Mariner import Data1D_GAUGE, Data1D_PumpingCurve\n",
    "datapath = \"./\"\n",
    "gauge_data_folder = datapath + \"s_well/gauge_data/\"\n",
    "gauge_dataframe = Data1D_GAUGE.Data1D_GAUGE(gauge_data_folder + f\"gauge6_data_swell.npz\")\n",
    "# Plot the gauge data\n",
    "from DSS_analyzer_Mariner import Data1D_PumpingCurve\n",
    "pumping_curve_filepath = datapath + f\"prod/pumping_curve/pumping_curve_stage7.npz\"\n",
    "pumping_curve = Data1D_PumpingCurve.Data1D_PumpingCurve(pumping_curve_filepath)\n",
    "\n",
    "# Crop the pressure gauge data,\n",
    "start_time = pumping_curve.get_start_time()\n",
    "end_time = pumping_curve.get_end_time()\n",
    "gauge_dataframe.crop(start_time, end_time)\n",
    "\n",
    "gauge_md_index = np.array([265, 520,  789, 1043, 1312, 1567])\n",
    "frac_hit_index = np.array([589, 830])"
   ],
   "id": "9cef14b356e92945",
   "outputs": [],
   "execution_count": 15
  },
  {
   "metadata": {
    "ExecuteTime": {
     "end_time": "2025-01-09T17:27:45.073331Z",
     "start_time": "2025-01-09T17:27:45.016581Z"
    }
   },
   "cell_type": "code",
   "source": [
    "# Interpolate the gauge data for any time point, the function would return the interpolated value\n",
    "from scipy.interpolate import interp1d\n",
    "def interpolate_gauge_data(time):\n",
    "    gauge_data = gauge_dataframe.data\n",
    "    gauge_taxis = gauge_dataframe.calculate_time()\n",
    "    gauge_interpolator = interp1d(gauge_taxis * 3600, gauge_data, kind='linear')\n",
    "    return gauge_interpolator(time)"
   ],
   "id": "9823ba5ff091c402",
   "outputs": [],
   "execution_count": 16
  },
  {
   "metadata": {
    "ExecuteTime": {
     "end_time": "2025-01-09T17:27:45.130081Z",
     "start_time": "2025-01-09T17:27:45.074327Z"
    }
   },
   "cell_type": "code",
   "source": [
    "# Simulator parameters\n",
    "nx = 5000\n",
    "# nx = 1800\n",
    "total_time = 13000\n",
    "d = 140 * np.ones(nx)\n",
    "dx = 1\n",
    "x = np.arange(0, nx*dx, dx)\n",
    "x = x - nx * dx / 2 # make the center of the domain as 0\n",
    "u_snapshot = [] # store the snapshot of u\n",
    "u_current = np.zeros(nx)\n",
    "t = list([0]) # store the time points\n",
    "dt = 0\n",
    "dt_init = 10.0"
   ],
   "id": "28b4aee7f351a2f8",
   "outputs": [],
   "execution_count": 17
  },
  {
   "metadata": {
    "ExecuteTime": {
     "end_time": "2025-01-09T17:27:45.196787Z",
     "start_time": "2025-01-09T17:27:45.132072Z"
    }
   },
   "cell_type": "code",
   "source": [
    "# Load the pumping curve data at next stage\n",
    "pumping_curve_filepath = datapath + f\"prod/pumping_curve/pumping_curve_stage8.npz\"\n",
    "pumping_curve = Data1D_PumpingCurve.Data1D_PumpingCurve(pumping_curve_filepath)"
   ],
   "id": "e95706da63bb2025",
   "outputs": [],
   "execution_count": 18
  },
  {
   "metadata": {
    "ExecuteTime": {
     "end_time": "2025-01-09T17:27:45.251546Z",
     "start_time": "2025-01-09T17:27:45.197783Z"
    }
   },
   "cell_type": "code",
   "source": "end_time_full = pumping_curve.get_end_time()",
   "id": "408ce25286fc04c8",
   "outputs": [],
   "execution_count": 19
  },
  {
   "metadata": {
    "ExecuteTime": {
     "end_time": "2025-01-09T17:27:45.305309Z",
     "start_time": "2025-01-09T17:27:45.252541Z"
    }
   },
   "cell_type": "code",
   "source": "print(\"The total time of 2 stages is\", (end_time_full - start_time).total_seconds(), \"sec\")",
   "id": "84f0ea1342c93598",
   "outputs": [
    {
     "name": "stdout",
     "output_type": "stream",
     "text": [
      "The total time of 2 stages is 36898.0 sec\n"
     ]
    }
   ],
   "execution_count": 20
  },
  {
   "metadata": {},
   "cell_type": "markdown",
   "source": [
    "# Phase 1\n",
    "\n",
    "## simulator"
   ],
   "id": "387f1b79e3ca26ad"
  },
  {
   "metadata": {
    "ExecuteTime": {
     "end_time": "2025-01-09T17:27:45.365046Z",
     "start_time": "2025-01-09T17:27:45.306305Z"
    }
   },
   "cell_type": "code",
   "source": [
    "# Simulator\n",
    "def build_matrix_phase1(dt):\n",
    "    alpha = d * dt / dx**2\n",
    "    \n",
    "    A = np.zeros((nx, nx))\n",
    "    \n",
    "    for i in range(1, nx-1):\n",
    "        A[i, i-1] = -alpha[i]\n",
    "        A[i, i] = 1 + 2 * alpha[i]\n",
    "        A[i, i+1] = -alpha[i]\n",
    "    \n",
    "    A[0, 0] = 1\n",
    "    A[-1, -1] = 1\n",
    "    A[0, 1] = -1\n",
    "    A[-1, -2] = -1\n",
    "    \n",
    "# Simulator\n",
    "def build_matrix_phase1(dt):\n",
    "    alpha = d * dt / dx**2\n",
    "    \n",
    "    A = np.zeros((nx, nx))\n",
    "    \n",
    "    for i in range(1, nx-1):\n",
    "        A[i, i-1] = -alpha[i]\n",
    "        A[i, i] = 1 + 2 * alpha[i]\n",
    "        A[i, i+1] = -alpha[i]\n",
    "    \n",
    "    A[0, 0] = 1\n",
    "    A[-1, -1] = 1\n",
    "    A[0, 1] = -1\n",
    "    A[-1, -2] = -1\n",
    "    \n",
    "    # Source term\n",
    "    phase1_frac_hit_index = int(np.where(x == frac_hit_index[0])[0])\n",
    "    A[phase1_frac_hit_index, :] = 0\n",
    "    A[phase1_frac_hit_index, phase1_frac_hit_index] = 1\n",
    "    \n",
    "    return A\n",
    "\n",
    "def build_rhs_phase1(u_current, t):\n",
    "    rhs = u_current.copy()\n",
    "    rhs[0] = 0\n",
    "    rhs[-1] = 0\n",
    "    # Source term.\n",
    "    phase1_frac_hit_index = int(np.where(x == frac_hit_index[0])[0])\n",
    "    rhs[phase1_frac_hit_index] = interpolate_gauge_data(t)\n",
    "    # print(f\"Time: {t}, Source: {interpolate_gauge_data(t)}\") # debug info\n",
    "    return rhs"
   ],
   "id": "7f22aedde5abbef3",
   "outputs": [],
   "execution_count": 21
  },
  {
   "metadata": {
    "ExecuteTime": {
     "end_time": "2025-01-09T17:27:45.418809Z",
     "start_time": "2025-01-09T17:27:45.366041Z"
    }
   },
   "cell_type": "code",
   "source": [
    "# Create snapshot\n",
    "u_current = gauge_dataframe.data[0] * np.ones_like(u_current) # initial condition\n",
    "u_snapshot.append(u_current.copy())"
   ],
   "id": "3051c7b79fa88734",
   "outputs": [],
   "execution_count": 22
  },
  {
   "metadata": {
    "ExecuteTime": {
     "end_time": "2025-01-09T17:27:45.472572Z",
     "start_time": "2025-01-09T17:27:45.419805Z"
    }
   },
   "cell_type": "code",
   "source": [
    "# full step\n",
    "def full_step_phase1(u_current, dt, t):\n",
    "    A = build_matrix_phase1(dt)\n",
    "    rhs = build_rhs_phase1(u_current, t)\n",
    "    return np.linalg.solve(A, rhs)\n",
    "\n",
    "# half step\n",
    "def half_step_phase1(u_current, dt, t):\n",
    "    dt_half = dt / 2\n",
    "    A_half = build_matrix_phase1(dt_half)\n",
    "    rhs_half = build_rhs_phase1(u_current, t)\n",
    "    u_middle = np.linalg.solve(A_half, rhs_half)\n",
    "    \n",
    "    b_half = build_rhs_phase1(u_middle, t)\n",
    "    u_final = np.linalg.solve(A_half, b_half)\n",
    "    \n",
    "    return u_final"
   ],
   "id": "72904c2460ee0a04",
   "outputs": [],
   "execution_count": 23
  },
  {
   "metadata": {
    "ExecuteTime": {
     "end_time": "2025-01-09T17:27:45.528326Z",
     "start_time": "2025-01-09T17:27:45.475559Z"
    }
   },
   "cell_type": "code",
   "source": [
    "# Time sampling optimizer\n",
    "def adjust_dt(dt_current, error, tol=1e-3):\n",
    "    safety_factor = 0.9\n",
    "    p = 2\n",
    "    \n",
    "    dt_new = safety_factor * dt_current * (tol / max(error, 1e-16))**(1/(p+1))\n",
    "    \n",
    "    dt_new = min(2.0 * dt_init, max(0.5 * dt_current, dt_new))\n",
    "    \n",
    "    return dt_new"
   ],
   "id": "f3f8fdbd04b101ab",
   "outputs": [],
   "execution_count": 24
  },
  {
   "metadata": {
    "ExecuteTime": {
     "end_time": "2025-01-09T17:27:46.221272Z",
     "start_time": "2025-01-09T17:27:45.529322Z"
    }
   },
   "cell_type": "code",
   "source": [
    "# test the full step\n",
    "dt = dt_init\n",
    "\n",
    "u_current = full_step_phase1(u_current, dt, t[-1])\n",
    "u_snapshot.append(u_current.copy())\n",
    "t.append(t[-1] + dt)"
   ],
   "id": "d75d5b34b967eea5",
   "outputs": [],
   "execution_count": 25
  },
  {
   "metadata": {},
   "cell_type": "markdown",
   "source": "## Simulation",
   "id": "5a4266710a2698b5"
  },
  {
   "metadata": {
    "jupyter": {
     "is_executing": true
    },
    "ExecuteTime": {
     "start_time": "2025-01-09T17:27:46.223264Z"
    }
   },
   "cell_type": "code",
   "source": [
    "while t[-1] < total_time: # time loop\n",
    "    print(\"dt = \", dt)\n",
    "    # calculate the full step\n",
    "    u_current = full_step_phase1(u_current, dt, t[-1])\n",
    "    \n",
    "    # calculate the half step\n",
    "    u_current_half = half_step_phase1(u_current, dt, t[-1])\n",
    "    \n",
    "    # calculate the error\n",
    "    error = np.linalg.norm(u_current_half - u_current) / np.linalg.norm(u_current)\n",
    "    # print(f\"Time: {t[-1]}, Error: {error}\")\n",
    "    # adjust the time step\n",
    "    dt = adjust_dt(dt, error)\n",
    "    \n",
    "    if error <= 1e-3:\n",
    "        # store the snapshot if the error is small enough.\n",
    "        u_snapshot.append(u_current.copy())\n",
    "        t.append(t[-1] + dt)\n",
    "        \n",
    "        # update the time step\n",
    "        dt = min(dt, 10)\n",
    "    else:\n",
    "        # the error is too large, reduce the time step. Don't store the snapshot.\n",
    "        dt = max(0.5 * dt, 0.5)\n",
    "    \n",
    "    # store the snapshot\n",
    "    u_snapshot.append(u_current.copy())\n",
    "    print(f\"Time: {t[-1]}, Error: {error:.6f}\")\n",
    "    t.append(t[-1] + dt)"
   ],
   "id": "13e8ba1d21d5d557",
   "outputs": [
    {
     "name": "stdout",
     "output_type": "stream",
     "text": [
      "dt =  10.0\n",
      "Time: 30.0, Error: 0.000001\n",
      "dt =  10\n",
      "Time: 60.0, Error: 0.000003\n",
      "dt =  10\n",
      "Time: 90.0, Error: 0.000005\n",
      "dt =  10\n",
      "Time: 120.0, Error: 0.000006\n",
      "dt =  10\n",
      "Time: 150.0, Error: 0.000007\n",
      "dt =  10\n",
      "Time: 180.0, Error: 0.000005\n",
      "dt =  10\n",
      "Time: 210.0, Error: 0.000005\n",
      "dt =  10\n",
      "Time: 240.0, Error: 0.000017\n",
      "dt =  10\n",
      "Time: 270.0, Error: 0.000029\n",
      "dt =  10\n",
      "Time: 300.0, Error: 0.000037\n",
      "dt =  10\n",
      "Time: 330.0, Error: 0.000041\n",
      "dt =  10\n",
      "Time: 360.0, Error: 0.000044\n",
      "dt =  10\n",
      "Time: 390.0, Error: 0.000045\n",
      "dt =  10\n",
      "Time: 420.0, Error: 0.000046\n",
      "dt =  10\n",
      "Time: 450.0, Error: 0.000047\n",
      "dt =  10\n",
      "Time: 480.0, Error: 0.000048\n",
      "dt =  10\n",
      "Time: 510.0, Error: 0.000048\n",
      "dt =  10\n",
      "Time: 540.0, Error: 0.000048\n",
      "dt =  10\n",
      "Time: 570.0, Error: 0.000048\n",
      "dt =  10\n",
      "Time: 600.0, Error: 0.000048\n",
      "dt =  10\n",
      "Time: 630.0, Error: 0.000048\n",
      "dt =  10\n",
      "Time: 660.0, Error: 0.000048\n",
      "dt =  10\n",
      "Time: 690.0, Error: 0.000049\n",
      "dt =  10\n",
      "Time: 720.0, Error: 0.000051\n",
      "dt =  10\n",
      "Time: 750.0, Error: 0.000052\n",
      "dt =  10\n",
      "Time: 780.0, Error: 0.000052\n",
      "dt =  10\n",
      "Time: 810.0, Error: 0.000052\n",
      "dt =  10\n",
      "Time: 840.0, Error: 0.000051\n",
      "dt =  10\n",
      "Time: 870.0, Error: 0.000050\n",
      "dt =  10\n"
     ]
    }
   ],
   "execution_count": null
  },
  {
   "metadata": {},
   "cell_type": "markdown",
   "source": "# Phase 2 (stage 1 - stage 2)",
   "id": "98dba8413f1e5a04"
  },
  {
   "metadata": {
    "jupyter": {
     "is_executing": true
    }
   },
   "cell_type": "code",
   "source": "total_time_interval = 3000 # I define the time in this phase",
   "id": "6f12a3f0ca969bff",
   "outputs": [],
   "execution_count": null
  },
  {
   "metadata": {},
   "cell_type": "markdown",
   "source": "## Simulator",
   "id": "929c32f78e585d26"
  },
  {
   "metadata": {
    "jupyter": {
     "is_executing": true
    }
   },
   "cell_type": "code",
   "source": [
    "# Simulator\n",
    "def build_matrix_phase2(dt):\n",
    "    alpha = d * dt / dx**2\n",
    "    \n",
    "    A = np.zeros((nx, nx))\n",
    "    \n",
    "    for i in range(1, nx-1):\n",
    "        A[i, i-1] = -alpha[i]\n",
    "        A[i, i] = 1 + 2 * alpha[i]\n",
    "        A[i, i+1] = -alpha[i]\n",
    "    \n",
    "    A[0, 0] = 1\n",
    "    A[-1, -1] = 1\n",
    "    A[0, 1] = -1\n",
    "    A[-1, -2] = -1\n",
    "    \n",
    "    # Source term: there is no source term in phase 2.\n",
    "    return A\n",
    "\n",
    "def build_rhs_phase2(u_current, t):\n",
    "    rhs = u_current.copy()\n",
    "    rhs[0] = 0\n",
    "    rhs[-1] = 0\n",
    "    # Source term. There is no source term in phase 2.\n",
    "    return rhs\n",
    "\n",
    "# full step\n",
    "def full_step_phase2(u_current, dt, t):\n",
    "    A = build_matrix_phase2(dt)\n",
    "    rhs = build_rhs_phase2(u_current, t)\n",
    "    return np.linalg.solve(A, rhs)\n",
    "\n",
    "# half step\n",
    "def half_step_phase2(u_current, dt, t):\n",
    "    dt_half = dt / 2\n",
    "    A_half = build_matrix_phase2(dt_half)\n",
    "    rhs_half = build_rhs_phase2(u_current, t)\n",
    "    u_middle = np.linalg.solve(A_half, rhs_half)\n",
    "    \n",
    "    b_half = build_rhs_phase2(u_middle, t)\n",
    "    u_final = np.linalg.solve(A_half, b_half)\n",
    "    \n",
    "    return u_final"
   ],
   "id": "bb201eed05dc71ff",
   "outputs": [],
   "execution_count": null
  },
  {
   "metadata": {
    "jupyter": {
     "is_executing": true
    }
   },
   "cell_type": "code",
   "source": [
    "# In this case, I'll implement the first case: release the pressure, change the permeability. \n",
    "def pressure_diffusion_phase2(u_init, d):\n",
    "    \"\"\"\n",
    "    A simplified wrapper function for performing a specific period of numerical simulation,\n",
    "    mainly focusing on testing how different 'd' (diffusivity/permeability arrays) affect the results.\n",
    "    \n",
    "    Parameters\n",
    "    ----------\n",
    "    u_init : numpy.ndarray\n",
    "        The initial field (e.g., pressure field).\n",
    "    d : numpy.ndarray\n",
    "        The diffusivity (or permeability) array related to the diffusion process.\n",
    "        \n",
    "    Returns\n",
    "    ----------\n",
    "    result_snapshots : numpy.ndarray\n",
    "        An array of shape (N, ...) containing the solutions at various time steps.\n",
    "    \"\"\"\n",
    "    \n",
    "    # ========== 1. Preset internal parameters (modify if needed) ==========\n",
    "    # Example index of the fracture hit\n",
    "    \n",
    "    # Total time interval for this simulation phase\n",
    "    total_time_interval = 3000.0\n",
    "    \n",
    "    # Initial time step\n",
    "    dt = 1.0\n",
    "    \n",
    "    # Time sequence, starting from 0\n",
    "    t = [0.0]\n",
    "    \n",
    "    # Error threshold\n",
    "    error_threshold = 1e-3\n",
    "    \n",
    "    # Max and min time step\n",
    "    dt_max = 10.0\n",
    "    dt_min = 0.5\n",
    "    \n",
    "    # ========== 2. Initialization ==========\n",
    "    # Copy the initial field to avoid modifying the input directly\n",
    "    u_current = u_init.copy()\n",
    "    \n",
    "    # Store snapshots of the solution\n",
    "    u_snapshot = [u_current.copy()]\n",
    "    \n",
    "    # Calculate the end time for this simulation stage\n",
    "    total_time = t[-1] + total_time_interval\n",
    "    \n",
    "    # ========== 3. Time-stepping loop ==========\n",
    "    while t[-1] < total_time:\n",
    "        print(\"dt =\", dt)\n",
    "        \n",
    "        # Call the full-step and half-step functions (define them externally)\n",
    "        u_full = full_step_phase2(u_current, dt, t[-1])\n",
    "        u_half = half_step_phase2(u_current, dt, t[-1])\n",
    "        \n",
    "        # Compute the error\n",
    "        error = np.linalg.norm(u_half - u_current) / np.linalg.norm(u_current)\n",
    "        \n",
    "        # Adjust the time step (define this function externally as well)\n",
    "        dt_new = adjust_dt(dt, error)\n",
    "        \n",
    "        if error <= error_threshold:\n",
    "            # Error is small enough, accept this step\n",
    "            u_current = u_full.copy()\n",
    "            u_snapshot.append(u_current.copy())\n",
    "            t.append(t[-1] + dt)\n",
    "            dt = min(dt_new, dt_max)\n",
    "        else:\n",
    "            # Error is too large, reduce dt and retry\n",
    "            dt = max(0.5 * dt_new, dt_min)\n",
    "        \n",
    "        # Print current time step info\n",
    "        print(f\"Time: {t[-1]}, Error: {error:.6f}\")\n",
    "        \n",
    "        # You could choose whether or not to store a snapshot here every iteration\n",
    "        u_snapshot.append(u_current.copy())\n",
    "        t.append(t[-1] + dt)\n",
    "\n",
    "    # ========== 4. Convert snapshots to an array and return ==========\n",
    "    result_snapshots = np.array(u_snapshot)\n",
    "    t = np.array(t)\n",
    "    return result_snapshots, t"
   ],
   "id": "d9c5d92bb8457ba8",
   "outputs": [],
   "execution_count": null
  },
  {
   "metadata": {
    "jupyter": {
     "is_executing": true
    }
   },
   "cell_type": "code",
   "source": [
    "# # This block is for test\n",
    "# phase2_snapshot = []\n",
    "# phase2_taxis = []\n",
    "# phase1_frac_hit_index = int(np.where(x == frac_hit_index[0])[0])\n",
    "# # change the D\n",
    "# d[phase1_frac_hit_index] = d[phase1_frac_hit_index] * 0.001 # I change the diffusivity here to 0.001 * ORIGINAL\n",
    "# phase2_snapshot, taxis_phase2 = pressure_diffusion_phase2(u_snapshot[-1], d)"
   ],
   "id": "6537922e5aad00b0",
   "outputs": [],
   "execution_count": null
  },
  {
   "metadata": {
    "jupyter": {
     "is_executing": true
    }
   },
   "cell_type": "code",
   "source": [
    "# print(np.shape(u_snapshot))\n",
    "# print(np.shape(phase2_snapshot))\n",
    "# combined_snapshot = np.concatenate([u_snapshot, phase2_snapshot], axis=0)\n",
    "# # Update phase 2 taxis and combine\n",
    "# taxis_phase2 += t[-1]\n",
    "# combined_taxis = np.concatenate([t, taxis_phase2])\n",
    "# plt.figure()\n",
    "# plt.imshow(combined_snapshot, aspect='auto', extent=[x[0], x[-1], taxis_phase2[-1], 0])\n",
    "# plt.show()"
   ],
   "id": "794657b9f304ad3a",
   "outputs": [],
   "execution_count": null
  },
  {
   "metadata": {
    "jupyter": {
     "is_executing": true
    }
   },
   "cell_type": "code",
   "source": [
    "# loc_ind = 3200\n",
    "# plt.figure()\n",
    "# plt.plot(combined_taxis, combined_snapshot[:, loc_ind])\n",
    "# plt.title(f\"Pressure change in stage 1 (and interval) at loc {x[loc_ind]:.2f} ft\")\n",
    "# plt.show()"
   ],
   "id": "bb32b58bfca1275",
   "outputs": [],
   "execution_count": null
  },
  {
   "metadata": {
    "jupyter": {
     "is_executing": true
    }
   },
   "cell_type": "code",
   "source": [
    "# Create phase 2 snapshot, (nx, nt, len(diff_change_ratio))\n",
    "diff_change_ratio = np.array([0.5, 0.3, 0.1, 0.05, 0.01, 0.001])\n",
    "phase2_snapshots = []\n",
    "phase2_taxis = []\n",
    "for diff_ratio in diff_change_ratio:\n",
    "    phase1_frac_hit_index = int(np.where(x == frac_hit_index[0])[0])\n",
    "    d[phase1_frac_hit_index] = diff_ratio * d[phase1_frac_hit_index] # change the permeability at the fracture hit\n",
    "    phase2_snapshot, taxis_phase2 = pressure_diffusion_phase2(u_snapshot[-1], d)\n",
    "    phase2_snapshots.append(phase2_snapshot)\n",
    "    phase2_taxis.append(taxis_phase2)"
   ],
   "id": "1b8b40da1c70b332",
   "outputs": [],
   "execution_count": null
  },
  {
   "metadata": {
    "jupyter": {
     "is_executing": true
    }
   },
   "cell_type": "code",
   "source": [
    "# Compare the result\n",
    "loc_ind = 3300\n",
    "plt.figure()\n",
    "for iter in range(len(phase2_taxis)):\n",
    "    plt.plot(phase2_taxis[iter], phase2_snapshots[iter][:, loc_ind], label=f\"{diff_change_ratio[iter]}\")\n",
    "plt.xlabel(\"Time/s\")\n",
    "plt.ylabel(\"Pressure/psi\")\n",
    "plt.legend()\n",
    "plt.show()"
   ],
   "id": "5c9aeabb9b1e17c0",
   "outputs": [],
   "execution_count": null
  },
  {
   "metadata": {},
   "cell_type": "markdown",
   "source": [
    "# Phase 3\n",
    "## Add simulator"
   ],
   "id": "c3316f67463a729c"
  },
  {
   "metadata": {
    "jupyter": {
     "is_executing": true
    }
   },
   "cell_type": "code",
   "source": [
    "total_time_stage2 = 20898\n",
    "total_time = 36898"
   ],
   "id": "7965d7af541a18d8",
   "outputs": [],
   "execution_count": null
  },
  {
   "metadata": {
    "jupyter": {
     "is_executing": true
    }
   },
   "cell_type": "code",
   "source": [
    "# Simulator for phase 3. \n",
    "def build_matrix_phase3(dt):\n",
    "    alpha = d * dt / dx**2\n",
    "    \n",
    "    A = np.zeros((nx, nx))\n",
    "    \n",
    "    for i in range(1, nx-1):\n",
    "        A[i, i-1] = -alpha[i]\n",
    "        A[i, i] = 1 + 2 * alpha[i]\n",
    "        A[i, i+1] = -alpha[i]\n",
    "    \n",
    "    A[0, 0] = 1\n",
    "    A[-1, -1] = 1\n",
    "    A[0, 1] = -1\n",
    "    A[-1, -2] = -1\n",
    "    \n",
    "# Simulator\n",
    "def build_matrix_phase3(dt):\n",
    "    alpha = d * dt / dx**2\n",
    "    \n",
    "    A = np.zeros((nx, nx))\n",
    "    \n",
    "    for i in range(1, nx-1):\n",
    "        A[i, i-1] = -alpha[i]\n",
    "        A[i, i] = 1 + 2 * alpha[i]\n",
    "        A[i, i+1] = -alpha[i]\n",
    "    \n",
    "    A[0, 0] = 1\n",
    "    A[-1, -1] = 1\n",
    "    A[0, 1] = -1\n",
    "    A[-1, -2] = -1\n",
    "    \n",
    "    # Source term\n",
    "    phase3_frac_hit_index = int(np.where(x == frac_hit_index[1])[0])\n",
    "    A[phase3_frac_hit_index, :] = 0\n",
    "    A[phase3_frac_hit_index, phase3_frac_hit_index] = 1\n",
    "    \n",
    "    return A\n",
    "\n",
    "def build_rhs_phase3(u_current, t):\n",
    "    rhs = u_current.copy()\n",
    "    rhs[0] = 0\n",
    "    rhs[-1] = 0\n",
    "    # Source term.\n",
    "    phase3_frac_hit_index = int(np.where(x == frac_hit_index[1])[0])\n",
    "    rhs[phase3_frac_hit_index] = interpolate_gauge_data(t)\n",
    "    # print(f\"Time: {t}, Source: {interpolate_gauge_data(t)}\") # debug info\n",
    "    return rhs"
   ],
   "id": "bdc8b58e75b66dfa",
   "outputs": [],
   "execution_count": null
  },
  {
   "metadata": {
    "jupyter": {
     "is_executing": true
    }
   },
   "cell_type": "code",
   "source": [
    "def pressure_diffusion_phase3(u_init, d):\n",
    "    \"\"\"\n",
    "    A modified version of the Phase 2 simulation function, demonstrating how to\n",
    "    release pressure and change permeability in a specific region (e.g., frac_hit_index).\n",
    "    \n",
    "    Parameters\n",
    "    ----------\n",
    "    u_init : numpy.ndarray\n",
    "        The initial field (e.g., pressure field).\n",
    "    d : numpy.ndarray\n",
    "        The diffusivity (or permeability) array related to the diffusion process.\n",
    "        \n",
    "    Returns\n",
    "    ----------\n",
    "    result_snapshots : numpy.ndarray\n",
    "        An array of shape (N, ...) containing the solutions at various time steps.\n",
    "    \"\"\"\n",
    "    \n",
    "    # ========== 1. Preset internal parameters (modify if needed) ==========\n",
    "    total_time_interval = total_time_stage2 # Longer total time to simulate pressure release\n",
    "    dt = 1.0                     # Initial time step\n",
    "    t = [0.0]                    # Start time\n",
    "    error_threshold = 1e-3       # Error threshold\n",
    "    dt_max = 10.0                # Max allowable time step\n",
    "    dt_min = 0.5                 # Min allowable time step\n",
    "    \n",
    "    # ========== 2. Initialization ==========\n",
    "    # Copy the initial field to avoid modifying the input directly\n",
    "    u_current = u_init.copy()\n",
    "    \n",
    "    # Store snapshots of the solution\n",
    "    u_snapshot = [u_current.copy()]\n",
    "    \n",
    "    # Calculate the end time for this simulation stage\n",
    "    total_time = t[-1] + total_time_interval\n",
    "    \n",
    "    # ========== 3. Time-stepping loop ==========\n",
    "    while t[-1] < total_time:\n",
    "        print(\"dt =\", dt)\n",
    "        \n",
    "        # Full-step update (implement or import externally)\n",
    "        u_full = full_step_phase2(u_current, dt, t[-1])\n",
    "        \n",
    "        # Half-step update (implement or import externally)\n",
    "        u_half = half_step_phase2(u_current, dt, t[-1])\n",
    "        \n",
    "        # Compute the error\n",
    "        error = np.linalg.norm(u_half - u_current) / np.linalg.norm(u_current)\n",
    "        \n",
    "        # Adjust the time step (implement or import externally)\n",
    "        dt_new = adjust_dt(dt, error)\n",
    "        \n",
    "        if error <= error_threshold:\n",
    "            # Accept this step if the error is small enough\n",
    "            u_current = u_full.copy()\n",
    "            u_snapshot.append(u_current.copy())\n",
    "            t.append(t[-1] + dt)\n",
    "            dt = min(dt_new, dt_max)\n",
    "        else:\n",
    "            # If the error is too large, reduce dt, skip snapshot storage\n",
    "            dt = max(0.5 * dt_new, dt_min)\n",
    "        \n",
    "        # Print current time step info\n",
    "        print(f\"Time: {t[-1]}, Error: {error:.6f}\")\n",
    "        \n",
    "        # Optional: store additional snapshot every iteration\n",
    "        u_snapshot.append(u_current.copy())\n",
    "        t.append(t[-1] + dt)\n",
    "\n",
    "    # ========== 4. Convert snapshots to an array and return ==========\n",
    "    result_snapshots = np.array(u_snapshot)\n",
    "    # Also, return the time points for further analysis\n",
    "    return result_snapshots, np.array(t)"
   ],
   "id": "5c4b64dd3cb3e3fb",
   "outputs": [],
   "execution_count": null
  },
  {
   "metadata": {
    "jupyter": {
     "is_executing": true
    }
   },
   "cell_type": "code",
   "source": [
    "# Create phase 3 snapshot, (nx, nt, len(diff_change_ratio))\n",
    "phase3_snapshots = []\n",
    "phase3_taxis = []\n",
    "flag = 0\n",
    "for diff_ratio in diff_change_ratio:\n",
    "    phase3_snapshot, taxis_phase3 = pressure_diffusion_phase3(phase2_snapshots[flag][-1], d)\n",
    "    phase3_snapshots.append(phase3_snapshot)\n",
    "    phase3_taxis.append(taxis_phase3)\n",
    "    flag += 1"
   ],
   "id": "224b4e263539b944",
   "outputs": [],
   "execution_count": null
  },
  {
   "metadata": {
    "jupyter": {
     "is_executing": true
    }
   },
   "cell_type": "code",
   "source": [
    "# Combine the result for different perm\n",
    "for i in range(len(diff_change_ratio)):\n",
    "    # Combine the result for different perm, phase 1 and 2\n",
    "    tmp_snapshot = np.concatenate((u_snapshot, phase2_snapshots[i]), axis=0)\n",
    "    # phase 2 and 3\n",
    "    tmp_snapshot = np.concatenate((tmp_snapshot, phase3_snapshots[i]), axis=0)\n",
    "    # Save the snapshot\n",
    "    np.savez(f\"diffusion_snapshot_{i}.npz\", snapshot=tmp_snapshot, taxis=np.concatenate((t, phase2_taxis[i], phase3_taxis[i])))\n",
    "    # save the taxis\n",
    "    np.save(f\"diffusion_taxis_{i}.npy\", np.concatenate((t, phase2_taxis[i], phase3_taxis[i])))"
   ],
   "id": "c1dc47148e41ec4d",
   "outputs": [],
   "execution_count": null
  },
  {
   "metadata": {
    "jupyter": {
     "is_executing": true
    }
   },
   "cell_type": "code",
   "source": [
    "# Plot one of the results\n",
    "plt.figure(figsize=(12, 6))\n",
    "plt.imshow(tmp_snapshot, aspect='auto', cmap='jet', extent=[x[0], x[-1], 0, tmp_snapshot.shape[0]])\n",
    "plt.colorbar()\n",
    "plt.xlabel(\"x (m)\")\n",
    "plt.ylabel(\"Time step\")\n",
    "plt.title(\"Pressure diffusion\")\n",
    "plt.show()"
   ],
   "id": "860fed2965cf6296",
   "outputs": [],
   "execution_count": null
  },
  {
   "metadata": {
    "jupyter": {
     "is_executing": true
    }
   },
   "cell_type": "code",
   "source": "",
   "id": "2a5d533e454e42d0",
   "outputs": [],
   "execution_count": null
  }
 ],
 "metadata": {
  "kernelspec": {
   "display_name": "Python 3",
   "language": "python",
   "name": "python3"
  },
  "language_info": {
   "codemirror_mode": {
    "name": "ipython",
    "version": 2
   },
   "file_extension": ".py",
   "mimetype": "text/x-python",
   "name": "python",
   "nbconvert_exporter": "python",
   "pygments_lexer": "ipython2",
   "version": "2.7.6"
  }
 },
 "nbformat": 4,
 "nbformat_minor": 5
}
