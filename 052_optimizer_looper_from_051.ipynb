{
 "cells": [
  {
   "cell_type": "code",
   "id": "initial_id",
   "metadata": {
    "collapsed": true,
    "ExecuteTime": {
     "end_time": "2024-12-27T09:22:42.626473Z",
     "start_time": "2024-12-27T09:22:42.564744Z"
    }
   },
   "source": [
    "%load_ext autoreload\n",
    "%autoreload 2"
   ],
   "outputs": [
    {
     "name": "stdout",
     "output_type": "stream",
     "text": [
      "The autoreload extension is already loaded. To reload it, use:\n",
      "  %reload_ext autoreload\n"
     ]
    }
   ],
   "execution_count": 15
  },
  {
   "metadata": {
    "ExecuteTime": {
     "end_time": "2024-12-27T09:22:46.700520Z",
     "start_time": "2024-12-27T09:22:42.628463Z"
    }
   },
   "cell_type": "code",
   "source": [
    "import numpy as np\n",
    "import matplotlib.pyplot as plt\n",
    "from DSS_analyzer_Mariner import Data1D_GAUGE, Data1D_PumpingCurve\n",
    "datapath = \"./\"\n",
    "gauge_data_folder = datapath + \"s_well/gauge_data/\"\n",
    "gauge_dataframe = Data1D_GAUGE.Data1D_GAUGE(gauge_data_folder + f\"gauge6_data_swell.npz\")\n",
    "# Plot the gauge data\n",
    "from DSS_analyzer_Mariner import Data1D_PumpingCurve\n",
    "pumping_curve_filepath = datapath + f\"prod/pumping_curve/pumping_curve_stage7.npz\"\n",
    "pumping_curve = Data1D_PumpingCurve.Data1D_PumpingCurve(pumping_curve_filepath)\n",
    "\n",
    "# Crop the pressure gauge data,\n",
    "start_time = pumping_curve.get_start_time()\n",
    "end_time = pumping_curve.get_end_time()\n",
    "gauge_dataframe.crop(start_time, end_time)\n",
    "\n",
    "gauge_md_index = np.array([265, 520,  789, 1043, 1312, 1567])\n",
    "frac_hit_index = np.array([589, 830])"
   ],
   "id": "6d968198543fb812",
   "outputs": [],
   "execution_count": 16
  },
  {
   "metadata": {
    "ExecuteTime": {
     "end_time": "2024-12-27T09:22:46.758267Z",
     "start_time": "2024-12-27T09:22:46.701516Z"
    }
   },
   "cell_type": "code",
   "source": [
    "# Interpolate the gauge data for any time point, the function would return the interpolated value\n",
    "from scipy.interpolate import interp1d\n",
    "def interpolate_gauge_data(time):\n",
    "    gauge_data = gauge_dataframe.data\n",
    "    gauge_taxis = gauge_dataframe.calculate_time()\n",
    "    gauge_interpolator = interp1d(gauge_taxis * 3600, gauge_data, kind='linear')\n",
    "    return gauge_interpolator(time)"
   ],
   "id": "7a4192d5f5efbd70",
   "outputs": [],
   "execution_count": 17
  },
  {
   "metadata": {
    "ExecuteTime": {
     "end_time": "2024-12-27T09:22:46.816013Z",
     "start_time": "2024-12-27T09:22:46.760257Z"
    }
   },
   "cell_type": "code",
   "source": [
    "# Simulator parameters\n",
    "nx = 5000\n",
    "# nx = 1800\n",
    "total_time = 13000\n",
    "d = 140 * np.ones(nx)\n",
    "dx = 1\n",
    "x = np.arange(0, nx*dx, dx)\n",
    "x -= nx * dx / 2 # make the center of the domain as 0\n",
    "u_snapshot = [] # store the snapshot of u\n",
    "u_current = np.zeros(nx)\n",
    "t = list([0]) # store the time points\n",
    "dt = 0\n",
    "dt_init = 10.0"
   ],
   "id": "d922260783a49dbd",
   "outputs": [],
   "execution_count": 18
  },
  {
   "metadata": {
    "ExecuteTime": {
     "end_time": "2024-12-27T09:22:46.882718Z",
     "start_time": "2024-12-27T09:22:46.817008Z"
    }
   },
   "cell_type": "code",
   "source": [
    "# Load the pumping curve data at next stage\n",
    "pumping_curve_filepath = datapath + f\"prod/pumping_curve/pumping_curve_stage8.npz\"\n",
    "pumping_curve = Data1D_PumpingCurve.Data1D_PumpingCurve(pumping_curve_filepath)"
   ],
   "id": "5787578950b8667c",
   "outputs": [],
   "execution_count": 19
  },
  {
   "metadata": {
    "ExecuteTime": {
     "end_time": "2024-12-27T09:22:46.942455Z",
     "start_time": "2024-12-27T09:22:46.883714Z"
    }
   },
   "cell_type": "code",
   "source": [
    "end_time_full = pumping_curve.get_end_time()\n",
    "end_time_full"
   ],
   "id": "35ca850876d1fb83",
   "outputs": [
    {
     "data": {
      "text/plain": [
       "datetime.datetime(2020, 3, 18, 14, 39, 26)"
      ]
     },
     "execution_count": 20,
     "metadata": {},
     "output_type": "execute_result"
    }
   ],
   "execution_count": 20
  },
  {
   "metadata": {
    "ExecuteTime": {
     "end_time": "2024-12-27T09:22:47.002191Z",
     "start_time": "2024-12-27T09:22:46.943451Z"
    }
   },
   "cell_type": "code",
   "source": "print(\"The total time of 2 stages is\", (end_time_full - start_time).total_seconds(), \"sec\")",
   "id": "ebc74b3a4f0abee4",
   "outputs": [
    {
     "name": "stdout",
     "output_type": "stream",
     "text": [
      "The total time of 2 stages is 36898.0 sec\n"
     ]
    }
   ],
   "execution_count": 21
  },
  {
   "metadata": {
    "ExecuteTime": {
     "end_time": "2024-12-27T09:22:47.007170Z",
     "start_time": "2024-12-27T09:22:47.003187Z"
    }
   },
   "cell_type": "code",
   "source": [
    "# Simulator\n",
    "def build_matrix_phase1(dt):\n",
    "    alpha = d * dt / dx**2\n",
    "    \n",
    "    A = np.zeros((nx, nx))\n",
    "    \n",
    "    for i in range(1, nx-1):\n",
    "        A[i, i-1] = -alpha[i]\n",
    "        A[i, i] = 1 + 2 * alpha[i]\n",
    "        A[i, i+1] = -alpha[i]\n",
    "    \n",
    "    A[0, 0] = 1\n",
    "    A[-1, -1] = 1\n",
    "    A[0, 1] = -1\n",
    "    A[-1, -2] = -1\n",
    "    \n",
    "# Simulator\n",
    "def build_matrix_phase1(dt):\n",
    "    alpha = d * dt / dx**2\n",
    "    \n",
    "    A = np.zeros((nx, nx))\n",
    "    \n",
    "    for i in range(1, nx-1):\n",
    "        A[i, i-1] = -alpha[i]\n",
    "        A[i, i] = 1 + 2 * alpha[i]\n",
    "        A[i, i+1] = -alpha[i]\n",
    "    \n",
    "    A[0, 0] = 1\n",
    "    A[-1, -1] = 1\n",
    "    A[0, 1] = -1\n",
    "    A[-1, -2] = -1\n",
    "    \n",
    "    # Source term\n",
    "    phase1_frac_hit_index = int(np.where(x == frac_hit_index[0])[0])\n",
    "    A[phase1_frac_hit_index, :] = 0\n",
    "    A[phase1_frac_hit_index, phase1_frac_hit_index] = 1\n",
    "    \n",
    "    return A\n",
    "\n",
    "def build_rhs_phase1(u_current, t):\n",
    "    rhs = u_current.copy()\n",
    "    rhs[0] = 0\n",
    "    rhs[-1] = 0\n",
    "    # Source term.\n",
    "    rhs[frac_hit_index[0]] = interpolate_gauge_data(t)\n",
    "    # print(f\"Time: {t}, Source: {interpolate_gauge_data(t)}\") # debug info\n",
    "    return rhs"
   ],
   "id": "9474fb389e18b8a3",
   "outputs": [],
   "execution_count": 21
  },
  {
   "metadata": {},
   "cell_type": "code",
   "outputs": [],
   "execution_count": null,
   "source": [
    "u_current = gauge_dataframe.data[0] * np.ones_like(u_current) # initial condition\n",
    "u_snapshot.append(u_current.copy())"
   ],
   "id": "caa15026e7c8e857"
  },
  {
   "metadata": {},
   "cell_type": "code",
   "outputs": [],
   "execution_count": null,
   "source": [
    "# full step\n",
    "def full_step_phase1(u_current, dt, t):\n",
    "    A = build_matrix_phase1(dt)\n",
    "    rhs = build_rhs_phase1(u_current, t)\n",
    "    return np.linalg.solve(A, rhs)\n",
    "\n",
    "# half step\n",
    "def half_step_phase1(u_current, dt, t):\n",
    "    dt_half = dt / 2\n",
    "    A_half = build_matrix_phase1(dt_half)\n",
    "    rhs_half = build_rhs_phase1(u_current, t)\n",
    "    u_middle = np.linalg.solve(A_half, rhs_half)\n",
    "    \n",
    "    b_half = build_rhs_phase1(u_middle, t)\n",
    "    u_final = np.linalg.solve(A_half, b_half)\n",
    "    \n",
    "    return u_final"
   ],
   "id": "8f413eb87deb61ef"
  },
  {
   "metadata": {},
   "cell_type": "code",
   "outputs": [],
   "execution_count": null,
   "source": [
    "# Time sampling optimizer\n",
    "def adjust_dt(dt_current, error, tol=1e-3):\n",
    "    safety_factor = 0.9\n",
    "    p = 2\n",
    "    \n",
    "    dt_new = safety_factor * dt_current * (tol / max(error, 1e-16))**(1/(p+1))\n",
    "    \n",
    "    dt_new = min(2.0 * dt_init, max(0.5 * dt_current, dt_new))\n",
    "    \n",
    "    return dt_new"
   ],
   "id": "c917637bb9acd5f4"
  },
  {
   "metadata": {},
   "cell_type": "code",
   "outputs": [],
   "execution_count": null,
   "source": [
    "# test the full step\n",
    "dt = dt_init\n",
    "\n",
    "u_current = full_step_phase1(u_current, dt, t[-1])\n",
    "u_snapshot.append(u_current.copy())\n",
    "t.append(t[-1] + dt)"
   ],
   "id": "49ad93657fb54c11"
  },
  {
   "metadata": {},
   "cell_type": "code",
   "outputs": [],
   "execution_count": null,
   "source": [
    "while t[-1] < total_time: # time loop\n",
    "    print(\"dt = \", dt)\n",
    "    # calculate the full step\n",
    "    u_current = full_step_phase1(u_current, dt, t[-1])\n",
    "    \n",
    "    # calculate the half step\n",
    "    u_current_half = half_step_phase1(u_current, dt, t[-1])\n",
    "    \n",
    "    # calculate the error\n",
    "    error = np.linalg.norm(u_current_half - u_current) / np.linalg.norm(u_current)\n",
    "    # print(f\"Time: {t[-1]}, Error: {error}\")\n",
    "    # adjust the time step\n",
    "    dt = adjust_dt(dt, error)\n",
    "    \n",
    "    if error <= 1e-3:\n",
    "        # store the snapshot if the error is small enough.\n",
    "        u_snapshot.append(u_current.copy())\n",
    "        t.append(t[-1] + dt)\n",
    "        \n",
    "        # update the time step\n",
    "        dt = min(dt, 10)\n",
    "    else:\n",
    "        # the error is too large, reduce the time step. Don't store the snapshot.\n",
    "        dt = max(0.5 * dt, 0.5)\n",
    "    \n",
    "    # store the snapshot\n",
    "    u_snapshot.append(u_current.copy())\n",
    "    print(f\"Time: {t[-1]}, Error: {error:.6f}\")\n",
    "    t.append(t[-1] + dt)"
   ],
   "id": "e4a291dd33f5832e"
  },
  {
   "metadata": {},
   "cell_type": "markdown",
   "source": "# After stage 1 stimulation, apply the loop for different permeability values.",
   "id": "7a7c33e5987eab7a"
  },
  {
   "metadata": {
    "jupyter": {
     "is_executing": true
    }
   },
   "cell_type": "code",
   "source": "total_time_interval = 3000",
   "id": "690f0624843125cd",
   "outputs": [],
   "execution_count": null
  },
  {
   "metadata": {},
   "cell_type": "code",
   "outputs": [],
   "execution_count": null,
   "source": [
    "# Simulator\n",
    "def build_matrix_phase2(dt):\n",
    "    alpha = d * dt / dx**2\n",
    "    \n",
    "    A = np.zeros((nx, nx))\n",
    "    \n",
    "    for i in range(1, nx-1):\n",
    "        A[i, i-1] = -alpha[i]\n",
    "        A[i, i] = 1 + 2 * alpha[i]\n",
    "        A[i, i+1] = -alpha[i]\n",
    "    \n",
    "    A[0, 0] = 1\n",
    "    A[-1, -1] = 1\n",
    "    A[0, 1] = -1\n",
    "    A[-1, -2] = -1\n",
    "    \n",
    "    # Source term: there is no source term in phase 2.\n",
    "    return A\n",
    "\n",
    "def build_rhs_phase2(u_current, t):\n",
    "    rhs = u_current.copy()\n",
    "    rhs[0] = 0\n",
    "    rhs[-1] = 0\n",
    "    # Source term. There is no source term in phase 2.\n",
    "    return rhs\n",
    "\n",
    "# full step\n",
    "def full_step_phase2(u_current, dt, t):\n",
    "    A = build_matrix_phase2(dt)\n",
    "    rhs = build_rhs_phase2(u_current, t)\n",
    "    return np.linalg.solve(A, rhs)\n",
    "\n",
    "# half step\n",
    "def half_step_phase2(u_current, dt, t):\n",
    "    dt_half = dt / 2\n",
    "    A_half = build_matrix_phase2(dt_half)\n",
    "    rhs_half = build_rhs_phase2(u_current, t)\n",
    "    u_middle = np.linalg.solve(A_half, rhs_half)\n",
    "    \n",
    "    b_half = build_rhs_phase2(u_middle, t)\n",
    "    u_final = np.linalg.solve(A_half, b_half)\n",
    "    \n",
    "    return u_final"
   ],
   "id": "293cda11c3942092"
  },
  {
   "metadata": {},
   "cell_type": "code",
   "outputs": [],
   "execution_count": null,
   "source": [
    "# Add phase 3 simulator\n",
    "# Simulator for phase 3. \n",
    "def build_matrix_phase3(dt):\n",
    "    alpha = d * dt / dx**2\n",
    "    \n",
    "    A = np.zeros((nx, nx))\n",
    "    \n",
    "    for i in range(1, nx-1):\n",
    "        A[i, i-1] = -alpha[i]\n",
    "        A[i, i] = 1 + 2 * alpha[i]\n",
    "        A[i, i+1] = -alpha[i]\n",
    "    \n",
    "    A[0, 0] = 1\n",
    "    A[-1, -1] = 1\n",
    "    A[0, 1] = -1\n",
    "    A[-1, -2] = -1\n",
    "    \n",
    "# Simulator\n",
    "def build_matrix_phase3(dt):\n",
    "    alpha = d * dt / dx**2\n",
    "    \n",
    "    A = np.zeros((nx, nx))\n",
    "    \n",
    "    for i in range(1, nx-1):\n",
    "        A[i, i-1] = -alpha[i]\n",
    "        A[i, i] = 1 + 2 * alpha[i]\n",
    "        A[i, i+1] = -alpha[i]\n",
    "    \n",
    "    A[0, 0] = 1\n",
    "    A[-1, -1] = 1\n",
    "    A[0, 1] = -1\n",
    "    A[-1, -2] = -1\n",
    "    \n",
    "    # Source term\n",
    "    phase3_frac_hit_index = int(np.where(x == frac_hit_index[1])[0])\n",
    "    A[phase3_frac_hit_index, :] = 0\n",
    "    A[phase3_frac_hit_index, phase3_frac_hit_index] = 1\n",
    "    \n",
    "    return A\n",
    "\n",
    "def build_rhs_phase3(u_current, t):\n",
    "    rhs = u_current.copy()\n",
    "    rhs[0] = 0\n",
    "    rhs[-1] = 0\n",
    "    # Source term.\n",
    "    rhs[frac_hit_index[1]] = interpolate_gauge_data(t)\n",
    "    # print(f\"Time: {t}, Source: {interpolate_gauge_data(t)}\") # debug info\n",
    "    return rhs"
   ],
   "id": "d385c03bc7804e7f"
  },
  {
   "metadata": {},
   "cell_type": "code",
   "outputs": [],
   "execution_count": null,
   "source": [
    "# permeability values after the stage 1 stimulation\n",
    "diff_change_ratio = np.array([0.5, 0.3, 0.1, 0.05, 0.01, 0.001])"
   ],
   "id": "d71482c81e710428"
  },
  {
   "metadata": {},
   "cell_type": "code",
   "outputs": [],
   "execution_count": null,
   "source": [
    "# In this case, I'll implement the first case: release the pressure, change the permeability. \n",
    "def pressure_diffusion_phase2(u_init, d):\n",
    "    \"\"\"\n",
    "    A simplified wrapper function for performing a specific period of numerical simulation,\n",
    "    mainly focusing on testing how different 'd' (diffusivity/permeability arrays) affect the results.\n",
    "    \n",
    "    Parameters\n",
    "    ----------\n",
    "    u_init : numpy.ndarray\n",
    "        The initial field (e.g., pressure field).\n",
    "    d : numpy.ndarray\n",
    "        The diffusivity (or permeability) array related to the diffusion process.\n",
    "        \n",
    "    Returns\n",
    "    ----------\n",
    "    result_snapshots : numpy.ndarray\n",
    "        An array of shape (N, ...) containing the solutions at various time steps.\n",
    "    \"\"\"\n",
    "    \n",
    "    # ========== 1. Preset internal parameters (modify if needed) ==========\n",
    "    # Example index of the fracture hit\n",
    "    frac_hit_index = (10,)\n",
    "    \n",
    "    # Total time interval for this simulation phase\n",
    "    total_time_interval = 3000.0\n",
    "    \n",
    "    # Initial time step\n",
    "    dt = 1.0\n",
    "    \n",
    "    # Time sequence, starting from 0\n",
    "    t = [0.0]\n",
    "    \n",
    "    # Error threshold\n",
    "    error_threshold = 1e-3\n",
    "    \n",
    "    # Max and min time step\n",
    "    dt_max = 10.0\n",
    "    dt_min = 0.5\n",
    "    \n",
    "    # ========== 2. Initialization ==========\n",
    "    # Copy the initial field to avoid modifying the input directly\n",
    "    u_current = u_init.copy()\n",
    "    \n",
    "    # Store snapshots of the solution\n",
    "    u_snapshot = [u_current.copy()]\n",
    "    \n",
    "    # Calculate the end time for this simulation stage\n",
    "    total_time = t[-1] + total_time_interval\n",
    "    \n",
    "    # ========== 3. Time-stepping loop ==========\n",
    "    while t[-1] < total_time:\n",
    "        print(\"dt =\", dt)\n",
    "        \n",
    "        # Call the full-step and half-step functions (define them externally)\n",
    "        u_full = full_step_phase2(u_current, dt, t[-1])\n",
    "        u_half = half_step_phase2(u_current, dt, t[-1])\n",
    "        \n",
    "        # Compute the error\n",
    "        error = np.linalg.norm(u_half - u_current) / np.linalg.norm(u_current)\n",
    "        \n",
    "        # Adjust the time step (define this function externally as well)\n",
    "        dt_new = adjust_dt(dt, error)\n",
    "        \n",
    "        if error <= error_threshold:\n",
    "            # Error is small enough, accept this step\n",
    "            u_current = u_full.copy()\n",
    "            u_snapshot.append(u_current.copy())\n",
    "            t.append(t[-1] + dt)\n",
    "            dt = min(dt_new, dt_max)\n",
    "        else:\n",
    "            # Error is too large, reduce dt and retry\n",
    "            dt = max(0.5 * dt_new, dt_min)\n",
    "        \n",
    "        # Print current time step info\n",
    "        print(f\"Time: {t[-1]}, Error: {error:.6f}\")\n",
    "        \n",
    "        # You could choose whether or not to store a snapshot here every iteration\n",
    "        u_snapshot.append(u_current.copy())\n",
    "        t.append(t[-1] + dt)\n",
    "\n",
    "    # ========== 4. Convert snapshots to an array and return ==========\n",
    "    result_snapshots = np.array(u_snapshot)\n",
    "    return result_snapshots"
   ],
   "id": "4172eeec04631971"
  },
  {
   "metadata": {},
   "cell_type": "code",
   "outputs": [],
   "execution_count": null,
   "source": [
    "# Create phase 2 snapshot, (nx, nt, len(diff_change_ratio))\n",
    "phase2_snapshots = []\n",
    "for diff_ratio in diff_change_ratio:\n",
    "    d_new = diff_ratio * d\n",
    "    phase2_snapshot = pressure_diffusion_phase2(u_snapshot[-1], d_new)\n",
    "    phase2_snapshots.append(phase2_snapshot)"
   ],
   "id": "287b90fe226e2bfc"
  },
  {
   "metadata": {},
   "cell_type": "markdown",
   "source": "# Phase 3",
   "id": "2a1b338631978af4"
  },
  {
   "metadata": {},
   "cell_type": "code",
   "outputs": [],
   "execution_count": null,
   "source": [
    "# Add phase 3 simulator\n",
    "total_time_stage2 = 36898 - total_time_interval - total_time\n",
    "total_time += total_time_stage2\n",
    "\n",
    "# Simulator for phase 3. \n",
    "def build_matrix_phase3(dt):\n",
    "    alpha = d * dt / dx**2\n",
    "    \n",
    "    A = np.zeros((nx, nx))\n",
    "    \n",
    "    for i in range(1, nx-1):\n",
    "        A[i, i-1] = -alpha[i]\n",
    "        A[i, i] = 1 + 2 * alpha[i]\n",
    "        A[i, i+1] = -alpha[i]\n",
    "    \n",
    "    A[0, 0] = 1\n",
    "    A[-1, -1] = 1\n",
    "    A[0, 1] = -1\n",
    "    A[-1, -2] = -1\n",
    "    \n",
    "# Simulator\n",
    "def build_matrix_phase3(dt):\n",
    "    alpha = d * dt / dx**2\n",
    "    \n",
    "    A = np.zeros((nx, nx))\n",
    "    \n",
    "    for i in range(1, nx-1):\n",
    "        A[i, i-1] = -alpha[i]\n",
    "        A[i, i] = 1 + 2 * alpha[i]\n",
    "        A[i, i+1] = -alpha[i]\n",
    "    \n",
    "    A[0, 0] = 1\n",
    "    A[-1, -1] = 1\n",
    "    A[0, 1] = -1\n",
    "    A[-1, -2] = -1\n",
    "    \n",
    "    # Source term\n",
    "    phase3_frac_hit_index = int(np.where(x == frac_hit_index[1])[0])\n",
    "    A[phase3_frac_hit_index, :] = 0\n",
    "    A[phase3_frac_hit_index, phase3_frac_hit_index] = 1\n",
    "    \n",
    "    return A\n",
    "\n",
    "def build_rhs_phase3(u_current, t):\n",
    "    rhs = u_current.copy()\n",
    "    rhs[0] = 0\n",
    "    rhs[-1] = 0\n",
    "    # Source term.\n",
    "    rhs[frac_hit_index[1]] = interpolate_gauge_data(t)\n",
    "    # print(f\"Time: {t}, Source: {interpolate_gauge_data(t)}\") # debug info\n",
    "    return rhs"
   ],
   "id": "c4db48390723b1b4"
  },
  {
   "metadata": {},
   "cell_type": "code",
   "outputs": [],
   "execution_count": null,
   "source": [
    "def pressure_diffusion_phase3(u_init, d):\n",
    "    \"\"\"\n",
    "    A modified version of the Phase 2 simulation function, demonstrating how to\n",
    "    release pressure and change permeability in a specific region (e.g., frac_hit_index).\n",
    "    \n",
    "    Parameters\n",
    "    ----------\n",
    "    u_init : numpy.ndarray\n",
    "        The initial field (e.g., pressure field).\n",
    "    d : numpy.ndarray\n",
    "        The diffusivity (or permeability) array related to the diffusion process.\n",
    "        \n",
    "    Returns\n",
    "    ----------\n",
    "    result_snapshots : numpy.ndarray\n",
    "        An array of shape (N, ...) containing the solutions at various time steps.\n",
    "    \"\"\"\n",
    "    \n",
    "    # ========== 1. Preset internal parameters (modify if needed) ==========\n",
    "    frac_hit_index = (10,)       # Example index for changing permeability\n",
    "    total_time_interval = 3000.0 # Longer total time to simulate pressure release\n",
    "    dt = 1.0                     # Initial time step\n",
    "    t = [0.0]                    # Start time\n",
    "    error_threshold = 1e-3       # Error threshold\n",
    "    dt_max = 10.0                # Max allowable time step\n",
    "    dt_min = 0.5                 # Min allowable time step\n",
    "    \n",
    "    # ========== 2. Initialization ==========\n",
    "    # Copy the initial field to avoid modifying the input directly\n",
    "    u_current = u_init.copy()\n",
    "    \n",
    "    # Store snapshots of the solution\n",
    "    u_snapshot = [u_current.copy()]\n",
    "    \n",
    "    # Calculate the end time for this simulation stage\n",
    "    total_time = t[-1] + total_time_interval\n",
    "    \n",
    "    # Example: Change permeability (or diffusivity) at frac_hit_index\n",
    "    # (simulates the effect of fracture hit, pressure release, etc.)\n",
    "    d[frac_hit_index[0]] /= 200.0\n",
    "    \n",
    "    # ========== 3. Time-stepping loop ==========\n",
    "    while t[-1] < total_time:\n",
    "        print(\"dt =\", dt)\n",
    "        \n",
    "        # Full-step update (implement or import externally)\n",
    "        u_full = full_step_phase2(u_current, dt, t[-1])\n",
    "        \n",
    "        # Half-step update (implement or import externally)\n",
    "        u_half = half_step_phase2(u_current, dt, t[-1])\n",
    "        \n",
    "        # Compute the error\n",
    "        error = np.linalg.norm(u_half - u_current) / np.linalg.norm(u_current)\n",
    "        \n",
    "        # Adjust the time step (implement or import externally)\n",
    "        dt_new = adjust_dt(dt, error)\n",
    "        \n",
    "        if error <= error_threshold:\n",
    "            # Accept this step if the error is small enough\n",
    "            u_current = u_full.copy()\n",
    "            u_snapshot.append(u_current.copy())\n",
    "            t.append(t[-1] + dt)\n",
    "            dt = min(dt_new, dt_max)\n",
    "        else:\n",
    "            # If the error is too large, reduce dt, skip snapshot storage\n",
    "            dt = max(0.5 * dt_new, dt_min)\n",
    "        \n",
    "        # Print current time step info\n",
    "        print(f\"Time: {t[-1]}, Error: {error:.6f}\")\n",
    "        \n",
    "        # Optional: store additional snapshot every iteration\n",
    "        u_snapshot.append(u_current.copy())\n",
    "        t.append(t[-1] + dt)\n",
    "\n",
    "    # ========== 4. Convert snapshots to an array and return ==========\n",
    "    result_snapshots = np.array(u_snapshot)\n",
    "    return result_snapshots"
   ],
   "id": "a9be4feb2abdfda1"
  },
  {
   "metadata": {},
   "cell_type": "code",
   "outputs": [],
   "execution_count": null,
   "source": [
    "# Create phase 3 snapshot, (nx, nt, len(diff_change_ratio))\n",
    "phase3_snapshots = []\n",
    "for diff_ratio in diff_change_ratio:\n",
    "    d_new = diff_ratio * d\n",
    "    phase3_snapshot = pressure_diffusion_phase3(phase2_snapshots[-1], d_new)\n",
    "    phase3_snapshots.append(phase3_snapshot)"
   ],
   "id": "fc648cf318a4e527"
  },
  {
   "metadata": {},
   "cell_type": "code",
   "outputs": [],
   "execution_count": null,
   "source": [
    "# Save the snapshots\n",
    "np.savez(\"phase2_snapshots.npz\", phase2_snapshots)\n",
    "np.savez(\"phase3_snapshots.npz\", phase3_snapshots)\n",
    "# phase 1 snapshots\n",
    "np.savez(\"phase1_snapshots.npz\", u_snapshot)"
   ],
   "id": "ef6295561f7661f6"
  }
 ],
 "metadata": {
  "kernelspec": {
   "display_name": "Python 3",
   "language": "python",
   "name": "python3"
  },
  "language_info": {
   "codemirror_mode": {
    "name": "ipython",
    "version": 2
   },
   "file_extension": ".py",
   "mimetype": "text/x-python",
   "name": "python",
   "nbconvert_exporter": "python",
   "pygments_lexer": "ipython2",
   "version": "2.7.6"
  }
 },
 "nbformat": 4,
 "nbformat_minor": 5
}
