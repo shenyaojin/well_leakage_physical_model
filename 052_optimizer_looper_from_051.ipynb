{
 "cells": [
  {
   "cell_type": "code",
   "id": "initial_id",
   "metadata": {
    "collapsed": true,
    "ExecuteTime": {
     "end_time": "2024-12-27T09:22:42.626473Z",
     "start_time": "2024-12-27T09:22:42.564744Z"
    }
   },
   "source": [
    "%load_ext autoreload\n",
    "%autoreload 2"
   ],
   "outputs": [
    {
     "name": "stdout",
     "output_type": "stream",
     "text": [
      "The autoreload extension is already loaded. To reload it, use:\n",
      "  %reload_ext autoreload\n"
     ]
    }
   ],
   "execution_count": 15
  },
  {
   "metadata": {
    "ExecuteTime": {
     "end_time": "2024-12-27T09:22:46.700520Z",
     "start_time": "2024-12-27T09:22:42.628463Z"
    }
   },
   "cell_type": "code",
   "source": [
    "import numpy as np\n",
    "import matplotlib.pyplot as plt\n",
    "from DSS_analyzer_Mariner import Data1D_GAUGE, Data1D_PumpingCurve\n",
    "datapath = \"./\"\n",
    "gauge_data_folder = datapath + \"s_well/gauge_data/\"\n",
    "gauge_dataframe = Data1D_GAUGE.Data1D_GAUGE(gauge_data_folder + f\"gauge6_data_swell.npz\")\n",
    "# Plot the gauge data\n",
    "from DSS_analyzer_Mariner import Data1D_PumpingCurve\n",
    "pumping_curve_filepath = datapath + f\"prod/pumping_curve/pumping_curve_stage7.npz\"\n",
    "pumping_curve = Data1D_PumpingCurve.Data1D_PumpingCurve(pumping_curve_filepath)\n",
    "\n",
    "# Crop the pressure gauge data,\n",
    "start_time = pumping_curve.get_start_time()\n",
    "end_time = pumping_curve.get_end_time()\n",
    "gauge_dataframe.crop(start_time, end_time)\n",
    "\n",
    "gauge_md_index = np.array([265, 520,  789, 1043, 1312, 1567])\n",
    "frac_hit_index = np.array([589, 830])"
   ],
   "id": "6d968198543fb812",
   "outputs": [],
   "execution_count": 16
  },
  {
   "metadata": {
    "ExecuteTime": {
     "end_time": "2024-12-27T09:22:46.758267Z",
     "start_time": "2024-12-27T09:22:46.701516Z"
    }
   },
   "cell_type": "code",
   "source": [
    "# Interpolate the gauge data for any time point, the function would return the interpolated value\n",
    "from scipy.interpolate import interp1d\n",
    "def interpolate_gauge_data(time):\n",
    "    gauge_data = gauge_dataframe.data\n",
    "    gauge_taxis = gauge_dataframe.calculate_time()\n",
    "    gauge_interpolator = interp1d(gauge_taxis * 3600, gauge_data, kind='linear')\n",
    "    return gauge_interpolator(time)"
   ],
   "id": "7a4192d5f5efbd70",
   "outputs": [],
   "execution_count": 17
  },
  {
   "metadata": {
    "ExecuteTime": {
     "end_time": "2024-12-27T09:22:46.816013Z",
     "start_time": "2024-12-27T09:22:46.760257Z"
    }
   },
   "cell_type": "code",
   "source": [
    "# Simulator parameters\n",
    "nx = 10000\n",
    "# nx = 1800\n",
    "total_time = 13000\n",
    "d = 140 * np.ones(nx)\n",
    "dx = 1\n",
    "x = np.arange(0, nx*dx, dx)\n",
    "x -= 4000\n",
    "u_snapshot = [] # store the snapshot of u\n",
    "u_current = np.zeros(nx)\n",
    "t = list([0]) # store the time points\n",
    "dt = 0\n",
    "dt_init = 10.0"
   ],
   "id": "d922260783a49dbd",
   "outputs": [],
   "execution_count": 18
  },
  {
   "metadata": {
    "ExecuteTime": {
     "end_time": "2024-12-27T09:22:46.882718Z",
     "start_time": "2024-12-27T09:22:46.817008Z"
    }
   },
   "cell_type": "code",
   "source": [
    "# Load the pumping curve data at next stage\n",
    "pumping_curve_filepath = datapath + f\"prod/pumping_curve/pumping_curve_stage8.npz\"\n",
    "pumping_curve = Data1D_PumpingCurve.Data1D_PumpingCurve(pumping_curve_filepath)"
   ],
   "id": "5787578950b8667c",
   "outputs": [],
   "execution_count": 19
  },
  {
   "metadata": {
    "ExecuteTime": {
     "end_time": "2024-12-27T09:22:46.942455Z",
     "start_time": "2024-12-27T09:22:46.883714Z"
    }
   },
   "cell_type": "code",
   "source": [
    "end_time_full = pumping_curve.get_end_time()\n",
    "end_time_full"
   ],
   "id": "35ca850876d1fb83",
   "outputs": [
    {
     "data": {
      "text/plain": [
       "datetime.datetime(2020, 3, 18, 14, 39, 26)"
      ]
     },
     "execution_count": 20,
     "metadata": {},
     "output_type": "execute_result"
    }
   ],
   "execution_count": 20
  },
  {
   "metadata": {
    "ExecuteTime": {
     "end_time": "2024-12-27T09:22:47.002191Z",
     "start_time": "2024-12-27T09:22:46.943451Z"
    }
   },
   "cell_type": "code",
   "source": "print(\"The total time of 2 stages is\", (end_time_full - start_time).total_seconds(), \"sec\")",
   "id": "ebc74b3a4f0abee4",
   "outputs": [
    {
     "name": "stdout",
     "output_type": "stream",
     "text": [
      "The total time of 2 stages is 36898.0 sec\n"
     ]
    }
   ],
   "execution_count": 21
  },
  {
   "metadata": {
    "ExecuteTime": {
     "end_time": "2024-12-27T09:22:47.007170Z",
     "start_time": "2024-12-27T09:22:47.003187Z"
    }
   },
   "cell_type": "code",
   "source": "",
   "id": "9474fb389e18b8a3",
   "outputs": [],
   "execution_count": 21
  }
 ],
 "metadata": {
  "kernelspec": {
   "display_name": "Python 3",
   "language": "python",
   "name": "python3"
  },
  "language_info": {
   "codemirror_mode": {
    "name": "ipython",
    "version": 2
   },
   "file_extension": ".py",
   "mimetype": "text/x-python",
   "name": "python",
   "nbconvert_exporter": "python",
   "pygments_lexer": "ipython2",
   "version": "2.7.6"
  }
 },
 "nbformat": 4,
 "nbformat_minor": 5
}
