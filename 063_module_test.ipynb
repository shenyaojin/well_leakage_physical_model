{
 "cells": [
  {
   "metadata": {},
   "cell_type": "markdown",
   "source": "This script is basically a reconstruction of 062. ",
   "id": "2e42850e3d450263"
  },
  {
   "cell_type": "code",
   "id": "initial_id",
   "metadata": {
    "collapsed": true,
    "ExecuteTime": {
     "end_time": "2025-01-15T16:29:16.912780Z",
     "start_time": "2025-01-15T16:29:16.906658Z"
    }
   },
   "source": [
    "import os\n",
    "os.listdir()"
   ],
   "outputs": [
    {
     "data": {
      "text/plain": [
       "['243_22562_220-pycharm-support-libs', 'lib', 'data', 'DSS_analyzer_Mariner']"
      ]
     },
     "execution_count": 1,
     "metadata": {},
     "output_type": "execute_result"
    }
   ],
   "execution_count": 1
  },
  {
   "metadata": {
    "ExecuteTime": {
     "end_time": "2025-01-15T16:29:16.937532Z",
     "start_time": "2025-01-15T16:29:16.913897Z"
    }
   },
   "cell_type": "code",
   "source": [
    "%load_ext autoreload\n",
    "%autoreload 2"
   ],
   "id": "d2b15ec0a1ddb740",
   "outputs": [],
   "execution_count": 2
  },
  {
   "metadata": {
    "ExecuteTime": {
     "end_time": "2025-01-15T16:29:22.334874Z",
     "start_time": "2025-01-15T16:29:19.217251Z"
    }
   },
   "cell_type": "code",
   "source": [
    "import numpy as np\n",
    "import matplotlib.pyplot as plt\n",
    "from DSS_analyzer_Mariner import Data1D_GAUGE, Data1D_PumpingCurve\n",
    "from scipy.interpolate import interp1d\n",
    "from copy import deepcopy"
   ],
   "id": "e2faca313ec92174",
   "outputs": [],
   "execution_count": 3
  },
  {
   "metadata": {
    "ExecuteTime": {
     "end_time": "2025-01-15T16:29:22.446549Z",
     "start_time": "2025-01-15T16:29:22.433149Z"
    }
   },
   "cell_type": "code",
   "source": [
    "# Specify the datapath\n",
    "datapath = \"./data\"\n",
    "\n",
    "# Pressure gauge data (Only S well)\n",
    "gauge_data_foler = datapath + \"/gauge_data_swell\""
   ],
   "id": "1d8164b12407385a",
   "outputs": [],
   "execution_count": 4
  },
  {
   "metadata": {
    "ExecuteTime": {
     "end_time": "2025-01-15T16:29:24.547925Z",
     "start_time": "2025-01-15T16:29:22.794002Z"
    }
   },
   "cell_type": "code",
   "source": [
    "# Load the pressure gauge data. Most close to the first stage is gauge 6. For the stage 8 I need to use gauge 7.\n",
    "gauge_dataframe = Data1D_GAUGE.Data1D_GAUGE(gauge_data_foler + f\"/gauge6_data_swell.npz\")\n",
    "gauge_dataframe_next = Data1D_GAUGE.Data1D_GAUGE(gauge_data_foler + f\"/gauge7_data_swell.npz\")\n",
    "\n",
    "# Load the pumping curve data (stage7; stage8)\n",
    "pumping_curve_filepath = datapath + f\"/pumping_curve/pumping_curve_stage7.npz\"\n",
    "pumping_curve_dataframe = Data1D_PumpingCurve.Data1D_PumpingCurve(pumping_curve_filepath)"
   ],
   "id": "7671893919ef8072",
   "outputs": [],
   "execution_count": 5
  },
  {
   "metadata": {
    "ExecuteTime": {
     "end_time": "2025-01-15T16:29:24.675598Z",
     "start_time": "2025-01-15T16:29:24.666934Z"
    }
   },
   "cell_type": "code",
   "source": [
    "stage7_start_time = pumping_curve_dataframe.get_start_time()\n",
    "stage7_end_time = pumping_curve_dataframe.get_end_time()"
   ],
   "id": "253a716149c1bce1",
   "outputs": [],
   "execution_count": 6
  },
  {
   "metadata": {
    "ExecuteTime": {
     "end_time": "2025-01-15T16:29:24.699812Z",
     "start_time": "2025-01-15T16:29:24.687261Z"
    }
   },
   "cell_type": "code",
   "source": [
    "pumping_curve_filepath_next = datapath + f\"/pumping_curve/pumping_curve_stage8.npz\"\n",
    "pumping_curve_dataframe_next = Data1D_PumpingCurve.Data1D_PumpingCurve(pumping_curve_filepath_next)"
   ],
   "id": "47129e33355e0737",
   "outputs": [],
   "execution_count": 7
  },
  {
   "metadata": {
    "ExecuteTime": {
     "end_time": "2025-01-15T16:29:24.759858Z",
     "start_time": "2025-01-15T16:29:24.751219Z"
    }
   },
   "cell_type": "code",
   "source": [
    "stage8_start_time = pumping_curve_dataframe_next.get_start_time()\n",
    "stage8_end_time = pumping_curve_dataframe_next.get_end_time()"
   ],
   "id": "f301db73c18316e1",
   "outputs": [],
   "execution_count": 8
  },
  {
   "metadata": {
    "ExecuteTime": {
     "end_time": "2025-01-15T16:29:25.349985Z",
     "start_time": "2025-01-15T16:29:24.809493Z"
    }
   },
   "cell_type": "code",
   "source": [
    "# Crop the pressure gauge data\n",
    "gauge_dataframe.crop(stage7_start_time, stage8_end_time)"
   ],
   "id": "f83513c92f314d81",
   "outputs": [],
   "execution_count": 9
  },
  {
   "metadata": {
    "ExecuteTime": {
     "end_time": "2025-01-15T16:29:25.382875Z",
     "start_time": "2025-01-15T16:29:25.374388Z"
    }
   },
   "cell_type": "code",
   "source": [
    "gauge_md_idx = np.array([265, 520,  789, 1043, 1312, 1567])\n",
    "frac_hit_idx = np.array([589, 830])"
   ],
   "id": "a75001df4f8250b0",
   "outputs": [],
   "execution_count": 10
  },
  {
   "metadata": {
    "ExecuteTime": {
     "end_time": "2025-01-15T16:29:25.444983Z",
     "start_time": "2025-01-15T16:29:25.436468Z"
    }
   },
   "cell_type": "code",
   "source": [
    "def interpolate_gauge_data(time):\n",
    "    gauge_data = gauge_dataframe.data\n",
    "    gauge_taxis = gauge_dataframe.calculate_time()\n",
    "    gauge_interpolator = interp1d(gauge_taxis * 3600, gauge_data, kind='linear')\n",
    "    return gauge_interpolator(time)"
   ],
   "id": "c2b8a5f110528296",
   "outputs": [],
   "execution_count": 11
  },
  {
   "metadata": {
    "ExecuteTime": {
     "end_time": "2025-01-15T16:29:25.495899Z",
     "start_time": "2025-01-15T16:29:25.487550Z"
    }
   },
   "cell_type": "code",
   "source": [
    "# Simulator parameters\n",
    "nx = 5000\n",
    "# nx = 1800\n",
    "total_time = 13000\n",
    "d = 140 * np.ones(nx)\n",
    "dx = 1\n",
    "x = np.arange(0, nx*dx, dx)\n",
    "x = x - nx * dx / 2 # make the center of the domain as 0\n",
    "u_snapshot = [] # store the snapshot of u\n",
    "u_current = np.zeros(nx)\n",
    "t = list([0]) # store the time points\n",
    "dt = 0\n",
    "dt_init = 10.0"
   ],
   "id": "f6921ea1f6ec6949",
   "outputs": [],
   "execution_count": 12
  },
  {
   "metadata": {},
   "cell_type": "markdown",
   "source": [
    "# Phase 1\n",
    "In this script, I'll investigate the possibility packing the code into a module.\n",
    "\n",
    "Develop the code on **haynesville** then call the module here."
   ],
   "id": "3491747a88e2b564"
  },
  {
   "metadata": {},
   "cell_type": "code",
   "outputs": [],
   "execution_count": null,
   "source": "",
   "id": "ed3a8ae2bfe3fe16"
  }
 ],
 "metadata": {
  "kernelspec": {
   "display_name": "Python 3",
   "language": "python",
   "name": "python3"
  },
  "language_info": {
   "codemirror_mode": {
    "name": "ipython",
    "version": 2
   },
   "file_extension": ".py",
   "mimetype": "text/x-python",
   "name": "python",
   "nbconvert_exporter": "python",
   "pygments_lexer": "ipython2",
   "version": "2.7.6"
  }
 },
 "nbformat": 4,
 "nbformat_minor": 5
}
