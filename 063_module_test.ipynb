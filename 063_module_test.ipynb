{
 "cells": [
  {
   "cell_type": "code",
   "id": "initial_id",
   "metadata": {
    "collapsed": true,
    "ExecuteTime": {
     "end_time": "2025-01-14T06:43:34.397141Z",
     "start_time": "2025-01-14T06:43:34.394229Z"
    }
   },
   "source": [
    "import os\n",
    "os.listdir()"
   ],
   "outputs": [
    {
     "data": {
      "text/plain": [
       "['243_22562_220-pycharm-support-libs', 'data', 'DSS_analyzer_Mariner']"
      ]
     },
     "execution_count": 2,
     "metadata": {},
     "output_type": "execute_result"
    }
   ],
   "execution_count": 2
  },
  {
   "metadata": {
    "ExecuteTime": {
     "end_time": "2025-01-14T06:44:00.584352Z",
     "start_time": "2025-01-14T06:44:00.571410Z"
    }
   },
   "cell_type": "code",
   "source": [
    "%load_ext autoreload\n",
    "%autoreload 2"
   ],
   "id": "d2b15ec0a1ddb740",
   "outputs": [],
   "execution_count": 3
  },
  {
   "metadata": {
    "ExecuteTime": {
     "end_time": "2025-01-14T06:44:08.192819Z",
     "start_time": "2025-01-14T06:44:07.329040Z"
    }
   },
   "cell_type": "code",
   "source": [
    "import numpy as np\n",
    "import matplotlib.pyplot as plt\n",
    "from DSS_analyzer_Mariner import Data1D_GAUGE, Data1D_PumpingCurve\n",
    "from copy import deepcopy"
   ],
   "id": "e2faca313ec92174",
   "outputs": [],
   "execution_count": 4
  },
  {
   "metadata": {
    "ExecuteTime": {
     "end_time": "2025-01-14T06:45:40.491635Z",
     "start_time": "2025-01-14T06:45:40.480555Z"
    }
   },
   "cell_type": "code",
   "source": [
    "# Specify the datapath\n",
    "datapath = \"./data\"\n",
    "\n",
    "# Pressure gauge data (Only S well)\n",
    "gauge_data_foler = datapath + \"/gauge_data_swell\""
   ],
   "id": "1d8164b12407385a",
   "outputs": [],
   "execution_count": 5
  },
  {
   "metadata": {
    "ExecuteTime": {
     "end_time": "2025-01-14T06:53:18.836579Z",
     "start_time": "2025-01-14T06:53:17.277296Z"
    }
   },
   "cell_type": "code",
   "source": [
    "# Load the pressure gauge data. Most close to the first stage is gauge 6. For the stage 8 I need to use gauge 7.\n",
    "gauge_dataframe = Data1D_GAUGE.Data1D_GAUGE(gauge_data_foler + f\"/gauge6_data_swell.npz\")\n",
    "gauge_dataframe_next = Data1D_GAUGE.Data1D_GAUGE(gauge_data_foler + f\"/gauge7_data_swell.npz\")\n",
    "\n",
    "# Load the pumping curve data (stage7; stage8)\n",
    "pumping_curve_filepath = datapath + f\"/pumping_curve/pumping_curve_stage7.npz\"\n",
    "pumping_curve_dataframe = Data1D_PumpingCurve.Data1D_PumpingCurve(pumping_curve_filepath)"
   ],
   "id": "7671893919ef8072",
   "outputs": [],
   "execution_count": 10
  },
  {
   "metadata": {},
   "cell_type": "code",
   "outputs": [],
   "execution_count": null,
   "source": "",
   "id": "253a716149c1bce1"
  }
 ],
 "metadata": {
  "kernelspec": {
   "display_name": "Python 3",
   "language": "python",
   "name": "python3"
  },
  "language_info": {
   "codemirror_mode": {
    "name": "ipython",
    "version": 2
   },
   "file_extension": ".py",
   "mimetype": "text/x-python",
   "name": "python",
   "nbconvert_exporter": "python",
   "pygments_lexer": "ipython2",
   "version": "2.7.6"
  }
 },
 "nbformat": 4,
 "nbformat_minor": 5
}
