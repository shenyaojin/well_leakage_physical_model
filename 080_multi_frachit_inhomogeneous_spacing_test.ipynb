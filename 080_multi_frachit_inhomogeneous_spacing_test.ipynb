{
 "cells": [
  {
   "cell_type": "code",
   "id": "initial_id",
   "metadata": {
    "collapsed": true,
    "ExecuteTime": {
     "end_time": "2025-01-31T17:03:12.711503Z",
     "start_time": "2025-01-31T17:03:12.704974Z"
    }
   },
   "source": [
    "import os\n",
    "\n",
    "from pandas.conftest import datapath\n",
    "\n",
    "os.listdir()"
   ],
   "outputs": [
    {
     "data": {
      "text/plain": [
       "['243_22562_220-pycharm-support-libs',\n",
       " 'Phase1.npz',\n",
       " '._.DS_Store',\n",
       " 'data',\n",
       " '243_23654_177-pycharm-support-libs',\n",
       " 'phase3_new.npz',\n",
       " 'Phase2.npz',\n",
       " 'pds',\n",
       " '.DS_Store',\n",
       " 'Phase3_prev.npz',\n",
       " 'Phase3.npz']"
      ]
     },
     "execution_count": 1,
     "metadata": {},
     "output_type": "execute_result"
    }
   ],
   "execution_count": 1
  },
  {
   "metadata": {
    "ExecuteTime": {
     "end_time": "2025-01-31T17:03:31.739434Z",
     "start_time": "2025-01-31T17:03:31.726883Z"
    }
   },
   "cell_type": "code",
   "source": [
    "%load_ext autoreload\n",
    "%autoreload 2"
   ],
   "id": "716dd4899a053d04",
   "outputs": [],
   "execution_count": 2
  },
  {
   "metadata": {
    "ExecuteTime": {
     "end_time": "2025-01-31T17:03:42.267485Z",
     "start_time": "2025-01-31T17:03:41.604307Z"
    }
   },
   "cell_type": "code",
   "source": [
    "import numpy as np\n",
    "import matplotlib.pyplot as plt"
   ],
   "id": "6fe09708585d023",
   "outputs": [],
   "execution_count": 3
  },
  {
   "metadata": {
    "ExecuteTime": {
     "end_time": "2025-01-31T17:21:11.759663Z",
     "start_time": "2025-01-31T17:21:11.688052Z"
    }
   },
   "cell_type": "code",
   "source": [
    "from pds.DSS_analyzer_Mariner import Data1D_GAUGE, Data1D_PumpingCurve\n",
    "from pds.core import pds, mesh_utils"
   ],
   "id": "84fe70c67fc8fff6",
   "outputs": [],
   "execution_count": 26
  },
  {
   "metadata": {
    "ExecuteTime": {
     "end_time": "2025-01-31T17:04:36.598579Z",
     "start_time": "2025-01-31T17:04:36.588040Z"
    }
   },
   "cell_type": "code",
   "source": [
    "datapath = \"./data\"\n",
    "# Gauge data\n",
    "gauge_data_folder = datapath + \"/gauge_data_swell\""
   ],
   "id": "524fb00dfb0a552b",
   "outputs": [],
   "execution_count": 6
  },
  {
   "metadata": {
    "ExecuteTime": {
     "end_time": "2025-01-31T17:05:33.561114Z",
     "start_time": "2025-01-31T17:05:31.272206Z"
    }
   },
   "cell_type": "code",
   "source": [
    "# Load the pressure gauge data. Most close to the first stage is gauge 6. For the stage 8 I need to use gauge 7.\n",
    "gauge_dataframe = Data1D_GAUGE.Data1D_GAUGE(gauge_data_folder + f\"/gauge6_data_swell.npz\")\n",
    "gauge_dataframe_next = Data1D_GAUGE.Data1D_GAUGE(gauge_data_folder + f\"/gauge7_data_swell.npz\")\n",
    "\n",
    "# Load the pumping curve data (stage7; stage8)\n",
    "pumping_curve_filepath = datapath + f\"/pumping_curve/pumping_curve_stage7.npz\"\n",
    "pumping_curve_dataframe = Data1D_PumpingCurve.Data1D_PumpingCurve(pumping_curve_filepath)"
   ],
   "id": "d270a39a993d36f1",
   "outputs": [],
   "execution_count": 8
  },
  {
   "metadata": {
    "ExecuteTime": {
     "end_time": "2025-01-31T17:16:16.531805Z",
     "start_time": "2025-01-31T17:16:16.487633Z"
    }
   },
   "cell_type": "code",
   "source": [
    "stage7_start_time = pumping_curve_dataframe.get_start_time()\n",
    "stage7_end_time = pumping_curve_dataframe.get_end_time()\n",
    "pumping_curve_filepath_next = datapath + f\"/pumping_curve/pumping_curve_stage8.npz\"\n",
    "pumping_curve_dataframe_next = Data1D_PumpingCurve.Data1D_PumpingCurve(pumping_curve_filepath_next)\n",
    "stage8_start_time = pumping_curve_dataframe_next.get_start_time()\n",
    "stage8_end_time = pumping_curve_dataframe_next.get_end_time()\n",
    "# Crop the pressure gauge data\n",
    "gauge_dataframe.crop(stage7_start_time, stage8_end_time)"
   ],
   "id": "bc85d3399f1d174",
   "outputs": [],
   "execution_count": 17
  },
  {
   "metadata": {
    "ExecuteTime": {
     "end_time": "2025-01-31T17:37:27.324532Z",
     "start_time": "2025-01-31T17:37:26.869756Z"
    }
   },
   "cell_type": "code",
   "source": [
    "# Load the frac hit data\n",
    "frac_hit_datapath = datapath + \"/geometry/frac_hit/\"\n",
    "from pds.DSS_analyzer_Mariner import Data3D_geometry\n",
    "frac_hit_dataframe_stage7 = Data3D_geometry.Data3D_geometry(frac_hit_datapath + \"frac_hit_stage_7_swell.npz\")\n",
    "frac_hit_dataframe_stage8 = Data3D_geometry.Data3D_geometry(frac_hit_datapath + \"frac_hit_stage_8_swell.npz\")"
   ],
   "id": "44aaf6856b0f4614",
   "outputs": [],
   "execution_count": 27
  },
  {
   "metadata": {
    "ExecuteTime": {
     "end_time": "2025-01-31T17:47:04.764052Z",
     "start_time": "2025-01-31T17:47:04.719661Z"
    }
   },
   "cell_type": "code",
   "source": [
    "# Load the gauge md data\n",
    "gauge_md_datapath = datapath + \"/geometry/gauge_md_swell.npz\"\n",
    "gauge_md_dataframe = Data3D_geometry.Data3D_geometry(gauge_md_datapath)"
   ],
   "id": "10a3df39ad828ac0",
   "outputs": [],
   "execution_count": 28
  },
  {
   "metadata": {
    "ExecuteTime": {
     "end_time": "2025-01-31T18:46:24.505469Z",
     "start_time": "2025-01-31T18:46:24.493486Z"
    }
   },
   "cell_type": "code",
   "source": [
    "# Extract the frac hit data and gauge md data\n",
    "frac_hit_md_stg7 = frac_hit_dataframe_stage7.data\n",
    "frac_hit_md_stg8 = frac_hit_dataframe_stage8.data\n",
    "gauge_md = gauge_md_dataframe.data[4:10]"
   ],
   "id": "3eff6c92a8726392",
   "outputs": [],
   "execution_count": 60
  },
  {
   "metadata": {
    "ExecuteTime": {
     "end_time": "2025-01-31T18:46:25.120110Z",
     "start_time": "2025-01-31T18:46:25.107524Z"
    }
   },
   "cell_type": "code",
   "source": [
    "print(frac_hit_md_stg8)\n",
    "print(np.round(frac_hit_md_stg8))"
   ],
   "id": "90d121a8d815b5ef",
   "outputs": [
    {
     "name": "stdout",
     "output_type": "stream",
     "text": [
      "[14940.    14976.36  15009.09  15063.63  15100.    15118.182]\n",
      "[14940. 14976. 15009. 15064. 15100. 15118.]\n"
     ]
    }
   ],
   "execution_count": 61
  },
  {
   "metadata": {
    "ExecuteTime": {
     "end_time": "2025-01-31T18:46:25.298386Z",
     "start_time": "2025-01-31T18:46:25.285482Z"
    }
   },
   "cell_type": "code",
   "source": [
    "# define the mesh\n",
    "dx = 1\n",
    "nx = 5500\n",
    "x = np.arange(12500, 12500 + nx * dx, dx)\n",
    "# refine the mesh round the frac hits\n",
    "# stage 7, refine the mesh around frac hits.\n",
    "for frac_hit_iter in np.round(frac_hit_md_stg7):\n",
    "    x = mesh_utils.refine_mesh(x, [frac_hit_iter - 1, frac_hit_iter + 1], 5)\n",
    "# stage 8, refine the mesh around frac hits.\n",
    "for frac_hit_iter in np.round(frac_hit_md_stg8):\n",
    "    x = mesh_utils.refine_mesh(x, [frac_hit_iter - 1, frac_hit_iter + 1], 5)"
   ],
   "id": "4b46d18b0d1972d0",
   "outputs": [],
   "execution_count": 62
  },
  {
   "metadata": {
    "ExecuteTime": {
     "end_time": "2025-01-31T18:46:25.734913Z",
     "start_time": "2025-01-31T18:46:25.723157Z"
    }
   },
   "cell_type": "code",
   "source": [
    "# update the number of nodes\n",
    "nx = len(x)"
   ],
   "id": "4acd26c7cf87a3cc",
   "outputs": [],
   "execution_count": 63
  },
  {
   "metadata": {
    "ExecuteTime": {
     "end_time": "2025-01-31T18:46:26.350385Z",
     "start_time": "2025-01-31T18:46:26.337325Z"
    }
   },
   "cell_type": "code",
   "source": [
    "# update the frac hit index and gauge index\n",
    "frac_hit_idx_stg7 = [mesh_utils.locate(x, frac_hit_iter)[0] for frac_hit_iter in frac_hit_md_stg7]\n",
    "frac_hit_idx_stg8 = [mesh_utils.locate(x, frac_hit_iter)[0] for frac_hit_iter in frac_hit_md_stg8]\n",
    "gauge_idx = [mesh_utils.locate(x, gauge_iter)[0] for gauge_iter in gauge_md]"
   ],
   "id": "169757f9d3fdbddb",
   "outputs": [],
   "execution_count": 64
  },
  {
   "metadata": {
    "ExecuteTime": {
     "end_time": "2025-01-31T18:50:59.167725Z",
     "start_time": "2025-01-31T18:50:59.052304Z"
    }
   },
   "cell_type": "code",
   "source": [
    "# Plot the location of the pressure gauge and frac hit\n",
    "plt.figure(figsize=(12, 2))\n",
    "plt.plot(x, np.zeros_like(x), 'k-', label='Mesh')\n",
    "for gauge_md_iter in gauge_md:\n",
    "    # no legend\n",
    "    plt.axvline(x=gauge_md_iter, color='r', linestyle='--')\n",
    "plt.plot(frac_hit_md_stg7, np.zeros_like(frac_hit_md_stg7), 'bo', label='Frac Hit Stage 7')\n",
    "plt.plot(frac_hit_md_stg8, np.zeros_like(frac_hit_md_stg8), 'go', label='Frac Hit Stage 8')\n",
    "plt.xlabel('Measured Depth/MD (ft)')\n",
    "plt.title('Pressure Gauge and Frac Hit Locations(multi source)')\n",
    "plt.legend()\n",
    "plt.show()"
   ],
   "id": "1118f64ba0c7b84b",
   "outputs": [
    {
     "data": {
      "text/plain": [
       "<Figure size 1200x200 with 1 Axes>"
      ],
      "image/png": "[encoded data removed]"
     },
     "metadata": {},
     "output_type": "display_data"
    }
   ],
   "execution_count": 72
  },
  {
   "metadata": {
    "ExecuteTime": {
     "end_time": "2025-01-31T18:52:11.417463Z",
     "start_time": "2025-01-31T18:52:11.405784Z"
    }
   },
   "cell_type": "code",
   "source": [
    "# Set other parameters\n",
    "d = 140\n",
    "d_array = np.ones_like(x) * d\n",
    "\n",
    "t0 = 0 # Phase 1 starts at 0"
   ],
   "id": "157f78bd37998e56",
   "outputs": [],
   "execution_count": 74
  },
  {
   "metadata": {},
   "cell_type": "markdown",
   "source": "# Phase 1",
   "id": "19a9a5d0463fe0c8"
  },
  {
   "metadata": {
    "ExecuteTime": {
     "end_time": "2025-01-31T18:52:26.903883Z",
     "start_time": "2025-01-31T18:52:26.892035Z"
    }
   },
   "cell_type": "code",
   "source": "pds_frame_phase1 = pds.PDS1D_MultiSource()",
   "id": "8cca8bfd149cde5d",
   "outputs": [],
   "execution_count": 77
  },
  {
   "metadata": {
    "ExecuteTime": {
     "end_time": "2025-01-31T18:52:27.119133Z",
     "start_time": "2025-01-31T18:52:27.106608Z"
    }
   },
   "cell_type": "code",
   "source": [
    "pds_frame_phase1.set_mesh(x)\n",
    "pds_frame_phase1.set_diffusivity(d_array)\n",
    "pds_frame_phase1.set_bcs('Neumann', 'Neumann')\n",
    "pds_frame_phase1.set_t0(t0) # Phase 1 starts at 0"
   ],
   "id": "dbd7fb0a79dc350b",
   "outputs": [],
   "execution_count": 78
  },
  {
   "metadata": {
    "ExecuteTime": {
     "end_time": "2025-01-31T18:52:49.432120Z",
     "start_time": "2025-01-31T18:52:49.420366Z"
    }
   },
   "cell_type": "code",
   "source": [
    "# Set the source idx\n",
    "pds_frame_phase1.set_sourceidx(frac_hit_idx_stg7)"
   ],
   "id": "2101cba289689c17",
   "outputs": [],
   "execution_count": 79
  },
  {
   "metadata": {
    "ExecuteTime": {
     "end_time": "2025-01-31T18:52:57.934107Z",
     "start_time": "2025-01-31T18:52:57.816959Z"
    }
   },
   "cell_type": "code",
   "source": [
    "# Process the pressure gauge data to get the source term\n",
    "phase_1_pg_dataframe = gauge_dataframe.copy()\n",
    "phase_1_pg_dataframe.crop(stage7_start_time, stage7_end_time)"
   ],
   "id": "ba08eff6971f8936",
   "outputs": [],
   "execution_count": 80
  },
  {
   "metadata": {
    "ExecuteTime": {
     "end_time": "2025-01-31T18:53:03.514365Z",
     "start_time": "2025-01-31T18:53:03.346963Z"
    }
   },
   "cell_type": "code",
   "source": [
    "# QC the pressure gauge data\n",
    "phase_1_pg_dataframe.plot_simple()"
   ],
   "id": "2f336da0839a171a",
   "outputs": [
    {
     "data": {
      "text/plain": [
       "<Figure size 640x480 with 1 Axes>"
      ],
      "image/png": "[encoded data removed]"
     },
     "metadata": {},
     "output_type": "display_data"
    }
   ],
   "execution_count": 81
  },
  {
   "metadata": {
    "ExecuteTime": {
     "end_time": "2025-01-31T18:54:17.274039Z",
     "start_time": "2025-01-31T18:54:17.262694Z"
    }
   },
   "cell_type": "code",
   "source": [
    "# Create the source term array\n",
    "source_phase1_list = []\n",
    "for source_iter in range(len(frac_hit_idx_stg7)):\n",
    "    source_phase1_list.append(phase_1_pg_dataframe)"
   ],
   "id": "cbc300e3bcd1b267",
   "outputs": [],
   "execution_count": 82
  },
  {
   "metadata": {
    "ExecuteTime": {
     "end_time": "2025-01-31T18:54:27.942090Z",
     "start_time": "2025-01-31T18:54:27.930446Z"
    }
   },
   "cell_type": "code",
   "source": "pds_frame_phase1.set_source(source_phase1_list)",
   "id": "5e38376f96380dc0",
   "outputs": [],
   "execution_count": 83
  },
  {
   "metadata": {
    "ExecuteTime": {
     "end_time": "2025-01-31T18:59:01.231240Z",
     "start_time": "2025-01-31T18:59:00.727450Z"
    }
   },
   "cell_type": "code",
   "source": [
    "u_initial = np.zeros(nx)\n",
    "u_initial += phase_1_pg_dataframe.data[0]\n",
    "pds_frame_phase1.set_initial(u_initial)"
   ],
   "id": "6e8ee53c103a17c",
   "outputs": [],
   "execution_count": 92
  },
  {
   "metadata": {
    "ExecuteTime": {
     "end_time": "2025-01-31T18:59:02.369235Z",
     "start_time": "2025-01-31T18:59:02.357279Z"
    }
   },
   "cell_type": "code",
   "source": [
    "pds_frame_phase1.solve(optimizer= True, dt_init = 2, print_progress=True,\n",
    "                  max_dt=30, min_dt=1e-4, tol=1e-3, safety_factor=0.9, p=2)"
   ],
   "id": "a4d5d6385ee1ce01",
   "outputs": [
    {
     "name": "stdout",
     "output_type": "stream",
     "text": [
      "Each source term must be a mariner DataFrame. But got <class 'pds.DSS_analyzer_Mariner.Data1D_GAUGE.Data1D_GAUGE'>.\n",
      "Self check failed. Please check the parameters.\n"
     ]
    }
   ],
   "execution_count": 93
  },
  {
   "metadata": {},
   "cell_type": "code",
   "outputs": [],
   "execution_count": null,
   "source": "",
   "id": "7c6349b705da9d4e"
  }
 ],
 "metadata": {
  "kernelspec": {
   "display_name": "Python 3",
   "language": "python",
   "name": "python3"
  },
  "language_info": {
   "codemirror_mode": {
    "name": "ipython",
    "version": 2
   },
   "file_extension": ".py",
   "mimetype": "text/x-python",
   "name": "python",
   "nbconvert_exporter": "python",
   "pygments_lexer": "ipython2",
   "version": "2.7.6"
  }
 },
 "nbformat": 4,
 "nbformat_minor": 5
}
