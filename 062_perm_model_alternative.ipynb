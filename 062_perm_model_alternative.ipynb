{
 "cells": [
  {
   "cell_type": "code",
   "execution_count": null,
   "id": "2aa7f4c5c3b1f3b8",
   "metadata": {},
   "outputs": [],
   "source": [
    "%load_ext autoreload\n",
    "%autoreload 2"
   ]
  },
  {
   "cell_type": "code",
   "execution_count": null,
   "id": "e8f3b6d55675bfa0",
   "metadata": {},
   "outputs": [],
   "source": [
    "import os\n",
    "os.chdir('e:\\\\Projects\\\\Mariner\\\\student_folders\\\\shenyao\\\\dataiov3\\\\output')"
   ]
  },
  {
   "cell_type": "code",
   "execution_count": null,
   "id": "80191da4806b1d31",
   "metadata": {},
   "outputs": [],
   "source": [
    "import numpy as np\n",
    "import matplotlib.pyplot as plt\n",
    "from .pds.DSS_analyzer_Mariner import Data1D_GAUGE, Data1D_PumpingCurve\n",
    "from copy import deepcopy"
   ]
  },
  {
   "cell_type": "code",
   "execution_count": null,
   "id": "74b15e16d85d73e0",
   "metadata": {},
   "outputs": [],
   "source": [
    "datapath = \"./\"\n",
    "gauge_data_folder = datapath + \"s_well/gauge_data/\"\n",
    "\n",
    "# Load pressure gauge\n",
    "gauge_dataframe = Data1D_GAUGE.Data1D_GAUGE(gauge_data_folder + f\"gauge6_data_swell.npz\")\n",
    "\n",
    "# Load pumping curve\n",
    "pumping_curve_filepath = datapath + f\"prod/pumping_curve/pumping_curve_stage7.npz\"\n",
    "pumping_curve = Data1D_PumpingCurve.Data1D_PumpingCurve(pumping_curve_filepath)"
   ]
  },
  {
   "cell_type": "code",
   "execution_count": null,
   "id": "a304d9cc5b685073",
   "metadata": {},
   "outputs": [],
   "source": [
    "# Load pumping curve/next stage\n",
    "pumping_curve_filepath_next = datapath + f\"prod/pumping_curve/pumping_curve_stage8.npz\"\n",
    "pumping_curve_next = Data1D_PumpingCurve.Data1D_PumpingCurve(pumping_curve_filepath_next)"
   ]
  },
  {
   "cell_type": "code",
   "execution_count": null,
   "id": "3b41d5a95c60866c",
   "metadata": {},
   "outputs": [],
   "source": [
    "# Crop the pressure gauge data,\n",
    "start_time = pumping_curve.get_start_time()\n",
    "end_time = pumping_curve_next.get_end_time()\n",
    "gauge_dataframe.crop(start_time, end_time)"
   ]
  },
  {
   "cell_type": "code",
   "execution_count": null,
   "id": "b04d9189a692d300",
   "metadata": {},
   "outputs": [],
   "source": [
    "gauge_md_index = np.array([265, 520,  789, 1043, 1312, 1567])\n",
    "frac_hit_index = np.array([589, 830])"
   ]
  },
  {
   "cell_type": "code",
   "execution_count": null,
   "id": "2b5ea10fea2d1d29",
   "metadata": {},
   "outputs": [],
   "source": [
    "# Interpolate the gauge data for any time point, the function would return the interpolated value\n",
    "from scipy.interpolate import interp1d\n",
    "def interpolate_gauge_data(time):\n",
    "    gauge_data = gauge_dataframe.data\n",
    "    gauge_taxis = gauge_dataframe.calculate_time()\n",
    "    gauge_interpolator = interp1d(gauge_taxis * 3600, gauge_data, kind='linear')\n",
    "    return gauge_interpolator(time)"
   ]
  },
  {
   "cell_type": "code",
   "execution_count": null,
   "id": "7a1abe4e5744574e",
   "metadata": {},
   "outputs": [],
   "source": [
    "# Simulator parameters\n",
    "nx = 5000\n",
    "# nx = 1800\n",
    "total_time = 13000\n",
    "d = 140 * np.ones(nx)\n",
    "dx = 1\n",
    "x = np.arange(0, nx*dx, dx)\n",
    "x = x - nx * dx / 2 # make the center of the domain as 0\n",
    "u_snapshot = [] # store the snapshot of u\n",
    "u_current = np.zeros(nx)\n",
    "t = list([0]) # store the time points\n",
    "dt = 0\n",
    "dt_init = 10.0"
   ]
  },
  {
   "cell_type": "markdown",
   "id": "8ff33cf5edb94cf3",
   "metadata": {},
   "source": [
    "# Phase 1\n",
    "## Define simulator"
   ]
  },
  {
   "cell_type": "code",
   "execution_count": null,
   "id": "3ce08b6f097175a3",
   "metadata": {},
   "outputs": [],
   "source": [
    "# Simulator\n",
    "def build_matrix_phase1(dt):\n",
    "    alpha = d * dt / dx**2\n",
    "\n",
    "    A = np.zeros((nx, nx))\n",
    "\n",
    "    for i in range(1, nx-1):\n",
    "        A[i, i-1] = -alpha[i]\n",
    "        A[i, i] = 1 + 2 * alpha[i]\n",
    "        A[i, i+1] = -alpha[i]\n",
    "\n",
    "    A[0, 0] = 1\n",
    "    A[-1, -1] = 1\n",
    "    A[0, 1] = -1\n",
    "    A[-1, -2] = -1\n",
    "\n",
    "    # Source term\n",
    "    phase1_frac_hit_index = int(np.where(x == frac_hit_index[0])[0])\n",
    "    A[phase1_frac_hit_index, :] = 0\n",
    "    A[phase1_frac_hit_index, phase1_frac_hit_index] = 1\n",
    "\n",
    "    return A\n",
    "\n",
    "def build_rhs_phase1(u_current, t):\n",
    "    rhs = u_current.copy()\n",
    "    rhs[0] = 0\n",
    "    rhs[-1] = 0\n",
    "    # Source term.\n",
    "    phase1_frac_hit_index = int(np.where(x == frac_hit_index[0])[0])\n",
    "    rhs[phase1_frac_hit_index] = interpolate_gauge_data(t)\n",
    "    # print(f\"Time: {t}, Source: {interpolate_gauge_data(t)}\") # debug info\n",
    "    return rhs"
   ]
  },
  {
   "cell_type": "code",
   "execution_count": null,
   "id": "ffa1381a289dce1a",
   "metadata": {},
   "outputs": [],
   "source": [
    "# Create snapshot\n",
    "u_current = gauge_dataframe.data[0] * np.ones_like(u_current) # initial condition\n",
    "u_snapshot.append(u_current.copy())"
   ]
  },
  {
   "cell_type": "code",
   "execution_count": null,
   "id": "ff99ba69087382bf",
   "metadata": {},
   "outputs": [],
   "source": [
    "#\n",
    "# full step solver\n",
    "def full_step_phase1(u_current, dt, t):\n",
    "    A = build_matrix_phase1(dt)\n",
    "    rhs = build_rhs_phase1(u_current, t)\n",
    "    return np.linalg.solve(A, rhs)\n",
    "\n",
    "# half step solver\n",
    "def half_step_phase1(u_current, dt, t):\n",
    "    dt_half = dt / 2\n",
    "    A_half = build_matrix_phase1(dt_half)\n",
    "    rhs_half = build_rhs_phase1(u_current, t)\n",
    "    u_middle = np.linalg.solve(A_half, rhs_half)\n",
    "\n",
    "    b_half = build_rhs_phase1(u_middle, t)\n",
    "    u_final = np.linalg.solve(A_half, b_half)\n",
    "\n",
    "    return u_final"
   ]
  },
  {
   "cell_type": "code",
   "execution_count": null,
   "id": "371a2794a5f43148",
   "metadata": {},
   "outputs": [],
   "source": [
    "# Time sampling optimizer\n",
    "def adjust_dt(dt_current, error, tol=1e-3):\n",
    "    safety_factor = 0.9\n",
    "    p = 2\n",
    "\n",
    "    dt_new = safety_factor * dt_current * (tol / max(error, 1e-16))**(1/(p+1))\n",
    "\n",
    "    dt_new = min(2.0 * dt_init, max(0.5 * dt_current, dt_new))\n",
    "\n",
    "    return dt_new"
   ]
  },
  {
   "cell_type": "code",
   "execution_count": null,
   "id": "e3287a38c148b5f6",
   "metadata": {},
   "outputs": [],
   "source": [
    "# test the full step\n",
    "dt = dt_init\n",
    "\n",
    "u_current = full_step_phase1(u_current, dt, t[-1])\n",
    "u_snapshot.append(u_current.copy())\n",
    "t.append(t[-1] + dt)"
   ]
  },
  {
   "cell_type": "code",
   "execution_count": null,
   "id": "6270463705089691",
   "metadata": {},
   "outputs": [],
   "source": [
    "u_current_half = half_step_phase1(u_current, dt, t[-1])"
   ]
  },
  {
   "cell_type": "code",
   "execution_count": null,
   "id": "8b9ca4c3157aea08",
   "metadata": {},
   "outputs": [],
   "source": [
    "u_current"
   ]
  },
  {
   "cell_type": "code",
   "execution_count": null,
   "id": "ef35729ab02f60b4",
   "metadata": {},
   "outputs": [],
   "source": [
    "u_current_half"
   ]
  },
  {
   "cell_type": "markdown",
   "id": "7bc571b3503d58c",
   "metadata": {},
   "source": [
    "## Simulation: stage 1"
   ]
  },
  {
   "cell_type": "code",
   "execution_count": null,
   "id": "db963006f281b6d1",
   "metadata": {},
   "outputs": [],
   "source": [
    "while t[-1] < total_time: # time loop\n",
    "    print(\"dt = \", dt)\n",
    "    # calculate the full step\n",
    "    u_current = full_step_phase1(u_current, dt, t[-1])\n",
    "\n",
    "    # calculate the half step\n",
    "    u_current_half = half_step_phase1(u_current, dt, t[-1])\n",
    "\n",
    "    # calculate the error\n",
    "    error = np.linalg.norm(u_current_half - u_current) / np.linalg.norm(u_current)\n",
    "    # print(f\"Time: {t[-1]}, Error: {error}\")\n",
    "    # adjust the time step\n",
    "    dt = adjust_dt(dt, error)\n",
    "\n",
    "    if error <= 1e-3:\n",
    "        # store the snapshot if the error is small enough.\n",
    "        u_snapshot.append(u_current.copy())\n",
    "        t.append(t[-1] + dt)\n",
    "\n",
    "        # update the time step\n",
    "        dt = min(dt, 10)\n",
    "    else:\n",
    "        # the error is too large, reduce the time step. Don't store the snapshot.\n",
    "        dt = max(0.5 * dt, 0.5)\n",
    "\n",
    "    # store the snapshot\n",
    "    u_snapshot.append(u_current.copy())\n",
    "    print(f\"Time: {t[-1]}, Error: {error:.6f}\")\n",
    "    t.append(t[-1] + dt)"
   ]
  },
  {
   "cell_type": "markdown",
   "id": "e2c34d5b153e7ad",
   "metadata": {},
   "source": [
    "# Phase 2"
   ]
  },
  {
   "cell_type": "code",
   "execution_count": null,
   "id": "a5c7675c55a677e8",
   "metadata": {},
   "outputs": [],
   "source": [
    "total_time_interval = 3000 # I define the time in this phase"
   ]
  },
  {
   "cell_type": "markdown",
   "id": "6c33cab2dd4607bc",
   "metadata": {},
   "source": [
    "## Simulator\n",
    "\n",
    "In this case, I'll make the fractures in the stage 1 keeps the pressure and permeability. In this phase"
   ]
  },
  {
   "cell_type": "code",
   "execution_count": null,
   "id": "b3a5e5856bc03432",
   "metadata": {},
   "outputs": [],
   "source": [
    "# define Simulator\n",
    "def build_matrix_phase2(dt):\n",
    "    alpha = d * dt / dx**2\n",
    "\n",
    "    A = np.zeros((nx, nx))\n",
    "\n",
    "    for i in range(1, nx-1):\n",
    "        A[i, i-1] = -alpha[i]\n",
    "        A[i, i] = 1 + 2 * alpha[i]\n",
    "        A[i, i+1] = -alpha[i]\n",
    "\n",
    "    A[0, 0] = 1\n",
    "    A[-1, -1] = 1\n",
    "    A[0, 1] = -1\n",
    "    A[-1, -2] = -1\n",
    "\n",
    "    # Source term\n",
    "    phase1_frac_hit_index = int(np.where(x == frac_hit_index[0])[0])\n",
    "    A[phase1_frac_hit_index, :] = 0\n",
    "    A[phase1_frac_hit_index, phase1_frac_hit_index] = 1\n",
    "\n",
    "    return A\n",
    "\n",
    "def build_rhs_phase2(u_current, t):\n",
    "    rhs = u_current.copy()\n",
    "    rhs[0] = 0\n",
    "    rhs[-1] = 0\n",
    "    # Source term. In this case, use the pressure data in pg.\n",
    "    phase1_frac_hit_index = int(np.where(x == frac_hit_index[0])[0])\n",
    "    rhs[phase1_frac_hit_index] = interpolate_gauge_data(t)\n",
    "    return rhs"
   ]
  },
  {
   "cell_type": "code",
   "execution_count": null,
   "id": "6783ae9c59dc86eb",
   "metadata": {},
   "outputs": [],
   "source": [
    "# full step\n",
    "def full_step_phase2(u_current, dt, t):\n",
    "    A = build_matrix_phase2(dt)\n",
    "    rhs = build_rhs_phase2(u_current, t)\n",
    "    return np.linalg.solve(A, rhs)\n",
    "\n",
    "# half step\n",
    "def half_step_phase2(u_current, dt, t):\n",
    "    dt_half = dt / 2\n",
    "    A_half = build_matrix_phase2(dt_half)\n",
    "    rhs_half = build_rhs_phase2(u_current, t)\n",
    "    u_middle = np.linalg.solve(A_half, rhs_half)\n",
    "\n",
    "    b_half = build_rhs_phase2(u_middle, t)\n",
    "    u_final = np.linalg.solve(A_half, b_half)\n",
    "\n",
    "    return u_final"
   ]
  },
  {
   "cell_type": "code",
   "execution_count": null,
   "id": "7967c3f9310994f7",
   "metadata": {},
   "outputs": [],
   "source": [
    "# Wrapping up the simulation.\n",
    "def pressure_diffusion_phase2(u_init, d):\n",
    "    total_time_phase2 = total_time + total_time_interval # decide the end time\n",
    "    # Create a new taxis to handle multiple d change\n",
    "    dt = dt_init\n",
    "    taxis_tmp = t.copy()\n",
    "    u_snapshot_tmp = u_snapshot.copy()\n",
    "    u_current = u_init.copy()\n",
    "    while taxis_tmp[-1] < total_time_phase2:\n",
    "        u_current = full_step_phase1(u_current, dt, taxis_tmp[-1])\n",
    "        u_current_half = half_step_phase1(u_current, dt, taxis_tmp[-1])\n",
    "        error = np.linalg.norm(u_current_half - u_current) / np.linalg.norm(u_current)\n",
    "\n",
    "        dt = adjust_dt(dt, error)\n",
    "\n",
    "\n",
    "        if error <= 1e-3:\n",
    "            # store the snapshot if the error is small enough.\n",
    "            u_snapshot_tmp.append(u_current.copy())\n",
    "            taxis_tmp.append(taxis_tmp[-1] + dt)\n",
    "\n",
    "            # update the time step\n",
    "            dt = min(dt, 10)\n",
    "        else:\n",
    "            # the error is too large, reduce the time step. Don't store the snapshot.\n",
    "            dt = max(0.5 * dt, 0.5)\n",
    "\n",
    "        # store the snapshot\n",
    "        u_snapshot_tmp.append(u_current.copy())\n",
    "        print(f\"Time: {taxis_tmp[-1]}, Error: {error:.6f}\")\n",
    "        taxis_tmp.append(taxis_tmp[-1] + dt)\n",
    "\n",
    "    # then return the copy. Though it is space consuming\n",
    "    result_snapshot = np.array(u_snapshot_tmp)\n",
    "    result_t = np.array(taxis_tmp)\n",
    "\n",
    "    return result_snapshot, result_t"
   ]
  },
  {
   "cell_type": "code",
   "execution_count": null,
   "id": "79d1f779d6a8879b",
   "metadata": {},
   "outputs": [],
   "source": [
    "u_snapshot, t = pressure_diffusion_phase2(u_snapshot[-1], d)"
   ]
  },
  {
   "cell_type": "code",
   "execution_count": null,
   "id": "8f3531d565be57e3",
   "metadata": {},
   "outputs": [],
   "source": [
    "# Plot the result for QC. Check the specific channel.\n",
    "plt.figure()\n",
    "plt.plot(t, u_snapshot[:, int(np.where(x == frac_hit_index[0])[0])], label='frac_hit')\n",
    "\n",
    "plt.plot(t, u_snapshot[:, int(np.where(x == frac_hit_index[0])[0]) + 40], label='frac_hit + 40 ft')\n",
    "\n",
    "plt.plot(t, u_snapshot[:, int(np.where(x == frac_hit_index[0])[0])] + 100, label='frac_hit + 100 ft')\n",
    "\n",
    "plt.legend()\n",
    "\n",
    "plt.title(\"Pressure at different locations\\n single stage/single fracture\")\n",
    "plt.show()"
   ]
  },
  {
   "cell_type": "code",
   "execution_count": null,
   "id": "efd34b40f7f261dd",
   "metadata": {},
   "outputs": [],
   "source": [
    "# imshow the result\n",
    "plt.figure()\n",
    "plt.imshow(u_snapshot.T, aspect='auto')\n",
    "plt.colorbar()\n",
    "plt.show()"
   ]
  },
  {
   "cell_type": "markdown",
   "id": "8c6d152ee84a383d",
   "metadata": {},
   "source": [
    "# Phase 3: stage 2.\n",
    "\n",
    "Here I will try different diffusivity drop."
   ]
  },
  {
   "cell_type": "code",
   "execution_count": null,
   "id": "36693fd332b3beb7",
   "metadata": {},
   "outputs": [],
   "source": [
    "diffusivity_drop_ratio = np.array([0.5, 0.3, 0.1, 0.05, 0.01, 0.001])"
   ]
  },
  {
   "cell_type": "code",
   "execution_count": null,
   "id": "c3378261bc378162",
   "metadata": {},
   "outputs": [],
   "source": [
    "# Simulator for phase 3.\n",
    "def build_matrix_phase3(dt):\n",
    "    alpha = d * dt / dx**2\n",
    "\n",
    "    A = np.zeros((nx, nx))\n",
    "\n",
    "    for i in range(1, nx-1):\n",
    "        A[i, i-1] = -alpha[i]\n",
    "        A[i, i] = 1 + 2 * alpha[i]\n",
    "        A[i, i+1] = -alpha[i]\n",
    "\n",
    "    A[0, 0] = 1\n",
    "    A[-1, -1] = 1\n",
    "    A[0, 1] = -1\n",
    "    A[-1, -2] = -1\n",
    "\n",
    "    # Source term\n",
    "    phase3_frac_hit_index = int(np.where(x == frac_hit_index[1])[0])\n",
    "    A[phase3_frac_hit_index, :] = 0\n",
    "    A[phase3_frac_hit_index, phase3_frac_hit_index] = 1\n",
    "\n",
    "    return A\n",
    "\n",
    "def build_rhs_phase3(u_current, t):\n",
    "    rhs = u_current.copy()\n",
    "    rhs[0] = 0\n",
    "    rhs[-1] = 0\n",
    "    # Source term.\n",
    "    phase3_frac_hit_index = int(np.where(x == frac_hit_index[1])[0])\n",
    "    rhs[phase3_frac_hit_index] = interpolate_gauge_data(t)\n",
    "    # print(f\"Time: {t}, Source: {interpolate_gauge_data(t)}\") # debug info\n",
    "    return rhs"
   ]
  },
  {
   "cell_type": "code",
   "execution_count": null,
   "id": "a4002561bdd9ae50",
   "metadata": {},
   "outputs": [],
   "source": [
    "# full step\n",
    "def full_step_phase3(u_current, dt, t):\n",
    "    A = build_matrix_phase3(dt)\n",
    "    rhs = build_rhs_phase3(u_current, t)\n",
    "    return np.linalg.solve(A, rhs)\n",
    "\n",
    "# half step\n",
    "def half_step_phase3(u_current, dt, t):\n",
    "    dt_half = dt / 2\n",
    "    A_half = build_matrix_phase3(dt_half)\n",
    "    rhs_half = build_rhs_phase3(u_current, t)\n",
    "    u_middle = np.linalg.solve(A_half, rhs_half)\n",
    "\n",
    "    b_half = build_rhs_phase3(u_middle, t)\n",
    "    u_final = np.linalg.solve(A_half, b_half)\n",
    "\n",
    "    return u_final"
   ]
  },
  {
   "cell_type": "code",
   "execution_count": null,
   "id": "f610be877022e799",
   "metadata": {},
   "outputs": [],
   "source": [
    "def pressure_diffusion_phase3(u_init, d):\n",
    "    total_time_phase3 = 36898\n",
    "\n",
    "    dt = dt_init  # Assuming dt_init is defined somewhere above\n",
    "\n",
    "    # Instead of using arrays for dynamic appending, use Python lists\n",
    "    taxis_tmp_list = list(t)          # Start with the existing time array converted to a list\n",
    "    u_snapshot_tmp_list = [u_snapshot]  # Start with a list containing the initial snapshot (which is np.array)\n",
    "\n",
    "    u_current = u_init.copy()\n",
    "\n",
    "    while taxis_tmp_list[-1] < total_time_phase3:\n",
    "        u_current = full_step_phase3(u_current, dt, taxis_tmp_list[-1])\n",
    "        u_current_half = half_step_phase3(u_current, dt, taxis_tmp_list[-1])\n",
    "        error = np.linalg.norm(u_current_half - u_current) / np.linalg.norm(u_current)\n",
    "\n",
    "        dt = adjust_dt(dt, error)\n",
    "\n",
    "        if error <= 1e-3:\n",
    "            # Store the snapshot if the error is small enough\n",
    "            u_snapshot_tmp_list.append(u_current.copy())\n",
    "            taxis_tmp_list.append(taxis_tmp_list[-1] + dt)\n",
    "\n",
    "            # Update the time step\n",
    "            dt = min(dt, 10)\n",
    "        else:\n",
    "            # The error is too large, reduce the time step. Don't store the snapshot.\n",
    "            dt = max(0.5 * dt, 0.5)\n",
    "\n",
    "        # Store the snapshot again according to your original code logic\n",
    "        u_snapshot_tmp_list.append(u_current.copy())\n",
    "        print(f\"Time: {taxis_tmp_list[-1]}, Error: {error:.6f}, size = {u_snapshot_tmp_list[-1].shape} and {u_current.shape}\")\n",
    "        taxis_tmp_list.append(taxis_tmp_list[-1] + dt)\n",
    "\n",
    "    # Convert the lists back to NumPy arrays at the end\n",
    "    result_snapshot = u_snapshot_tmp_list\n",
    "    result_t = taxis_tmp_list\n",
    "\n",
    "    return result_snapshot, result_t"
   ]
  },
  {
   "cell_type": "code",
   "execution_count": null,
   "id": "b2569f544f561c53",
   "metadata": {},
   "outputs": [],
   "source": [
    "# Create phase 3 snapshot, (nx, nt, len(diff_change_ratio))\n",
    "phase3_snapshots = []\n",
    "phase3_taxis = []\n",
    "\n",
    "# Update the gauge data info\n",
    "gauge_dataframe = Data1D_GAUGE.Data1D_GAUGE(gauge_data_folder + f\"gauge7_data_swell.npz\")\n",
    "\n",
    "for diff_ratio in diffusivity_drop_ratio:\n",
    "    phase1_frac_hit_index = int(np.where(x == frac_hit_index[0])[0]) # get the index of the first fracture\n",
    "    d_phase3 = deepcopy(d)\n",
    "    d_phase3[phase1_frac_hit_index:] = d_phase3[phase1_frac_hit_index:] * diff_ratio\n",
    "    snapshot_tmp, t_tmp = pressure_diffusion_phase3(u_snapshot[-1], d_phase3)\n",
    "    phase3_snapshots.append(snapshot_tmp)\n",
    "    phase3_taxis.append(t_tmp)"
   ]
  },
  {
   "cell_type": "code",
   "execution_count": null,
   "id": "fd29f2d4636729c8",
   "metadata": {},
   "outputs": [],
   "source": [
    "stg3_snapshot_list = []\n",
    "snapshot_list = []\n",
    "t_list = []\n",
    "for i in range(len(diffusivity_drop_ratio)):\n",
    "    stg3_snapshot_list.append(phase3_snapshots[i][1:])\n",
    "    t_list.append(phase3_taxis[i])\n",
    "    # concatenate the snapshot (stage 1 + stage 2)\n",
    "    snapshot_list.append(np.concatenate((u_snapshot, phase3_snapshots[i][1:]), axis=0))"
   ]
  },
  {
   "cell_type": "code",
   "execution_count": null,
   "id": "406957a9b4d2fec6",
   "metadata": {},
   "outputs": [],
   "source": [
    "# imshow the result\n",
    "plt.figure()\n",
    "plt.imshow(snapshot_list[0].T, aspect='auto', cmap='bwr', extent=[0, 36898, -2500, 2500])\n",
    "plt.colorbar()\n",
    "plt.title(f\"Diffusivity drop ratio: {diffusivity_drop_ratio[0]}\")\n",
    "plt.xlabel(\"Time (s)\")\n",
    "plt.ylabel(\"Distance (ft)\")\n",
    "# invert the y axis\n",
    "plt.gca().invert_yaxis()\n",
    "plt.show()"
   ]
  },
  {
   "cell_type": "code",
   "execution_count": null,
   "id": "73bcaf2ecf696411",
   "metadata": {},
   "outputs": [],
   "source": [
    "# Loop the result to plot the result\n",
    "for i in range(len(diffusivity_drop_ratio)):\n",
    "    plt.figure()\n",
    "    plt.imshow(snapshot_list[i].T, aspect='auto', cmap='bwr', extent=[0, 36898, -2500, 2500])\n",
    "    plt.colorbar()\n",
    "    plt.title(f\"Diffusivity drop ratio: {diffusivity_drop_ratio[i]}\")\n",
    "    plt.xlabel(\"Time (s)\")\n",
    "    plt.ylabel(\"Distance (ft)\")\n",
    "    # invert the y axis\n",
    "    plt.gca().invert_yaxis()\n",
    "    plt.show()"
   ]
  },
  {
   "cell_type": "code",
   "execution_count": null,
   "id": "bc72d7fa26fe5d36",
   "metadata": {},
   "outputs": [],
   "source": []
  },
  {
   "cell_type": "code",
   "execution_count": null,
   "id": "14dc24046f085318",
   "metadata": {},
   "outputs": [],
   "source": [
    "%load_ext autoreload\n",
    "%autoreload 2"
   ]
  },
  {
   "cell_type": "code",
   "execution_count": null,
   "id": "8b77cc296f7ce1e8",
   "metadata": {},
   "outputs": [],
   "source": [
    "import numpy as np\n",
    "import matplotlib.pyplot as plt\n",
    "from DSS_analyzer_Mariner import Data1D_GAUGE, Data1D_PumpingCurve\n",
    "from copy import deepcopy"
   ]
  },
  {
   "cell_type": "code",
   "execution_count": null,
   "id": "5c797d0b4cda9cea",
   "metadata": {},
   "outputs": [],
   "source": [
    "datapath = \"./\"\n",
    "gauge_data_folder = datapath + \"s_well/gauge_data/\"\n",
    "\n",
    "# Load pressure gauge\n",
    "gauge_dataframe = Data1D_GAUGE.Data1D_GAUGE(gauge_data_folder + f\"gauge6_data_swell.npz\")\n",
    "\n",
    "# Load pumping curve\n",
    "pumping_curve_filepath = datapath + f\"prod/pumping_curve/pumping_curve_stage7.npz\"\n",
    "pumping_curve = Data1D_PumpingCurve.Data1D_PumpingCurve(pumping_curve_filepath)"
   ]
  },
  {
   "cell_type": "code",
   "execution_count": null,
   "id": "72416ce18a0130b7",
   "metadata": {},
   "outputs": [],
   "source": [
    "# Load pumping curve/next stage\n",
    "pumping_curve_filepath_next = datapath + f\"prod/pumping_curve/pumping_curve_stage8.npz\"\n",
    "pumping_curve_next = Data1D_PumpingCurve.Data1D_PumpingCurve(pumping_curve_filepath_next)"
   ]
  },
  {
   "cell_type": "code",
   "execution_count": null,
   "id": "c73fdf84e2031d3a",
   "metadata": {},
   "outputs": [],
   "source": [
    "# Crop the pressure gauge data,\n",
    "start_time = pumping_curve.get_start_time()\n",
    "end_time = pumping_curve_next.get_end_time()\n",
    "gauge_dataframe.crop(start_time, end_time)"
   ]
  },
  {
   "cell_type": "code",
   "execution_count": null,
   "id": "223d293fb6e5778",
   "metadata": {},
   "outputs": [],
   "source": [
    "gauge_md_index = np.array([265, 520,  789, 1043, 1312, 1567])\n",
    "frac_hit_index = np.array([589, 830])"
   ]
  },
  {
   "cell_type": "code",
   "execution_count": null,
   "id": "c61b69a31ab60747",
   "metadata": {},
   "outputs": [],
   "source": [
    "# Interpolate the gauge data for any time point, the function would return the interpolated value\n",
    "from scipy.interpolate import interp1d\n",
    "def interpolate_gauge_data(time):\n",
    "    gauge_data = gauge_dataframe.data\n",
    "    gauge_taxis = gauge_dataframe.calculate_time()\n",
    "    gauge_interpolator = interp1d(gauge_taxis * 3600, gauge_data, kind='linear')\n",
    "    return gauge_interpolator(time)"
   ]
  },
  {
   "cell_type": "code",
   "execution_count": null,
   "id": "9ae6b7229a4aa5d8",
   "metadata": {},
   "outputs": [],
   "source": [
    "# Simulator parameters\n",
    "nx = 5000\n",
    "# nx = 1800\n",
    "total_time = 13000\n",
    "d = 140 * np.ones(nx)\n",
    "dx = 1\n",
    "x = np.arange(0, nx*dx, dx)\n",
    "x = x - nx * dx / 2 # make the center of the domain as 0\n",
    "u_snapshot = [] # store the snapshot of u\n",
    "u_current = np.zeros(nx)\n",
    "t = list([0]) # store the time points\n",
    "dt = 0\n",
    "dt_init = 10.0"
   ]
  },
  {
   "cell_type": "markdown",
   "id": "cc7327615fe76648",
   "metadata": {},
   "source": [
    "# Phase 1\n",
    "## Define simulator"
   ]
  },
  {
   "cell_type": "code",
   "execution_count": null,
   "id": "a39a0e32a73d4bcb",
   "metadata": {},
   "outputs": [],
   "source": [
    "# Simulator\n",
    "def build_matrix_phase1(dt):\n",
    "    alpha = d * dt / dx**2\n",
    "\n",
    "    A = np.zeros((nx, nx))\n",
    "\n",
    "    for i in range(1, nx-1):\n",
    "        A[i, i-1] = -alpha[i]\n",
    "        A[i, i] = 1 + 2 * alpha[i]\n",
    "        A[i, i+1] = -alpha[i]\n",
    "\n",
    "    A[0, 0] = 1\n",
    "    A[-1, -1] = 1\n",
    "    A[0, 1] = -1\n",
    "    A[-1, -2] = -1\n",
    "\n",
    "    # Source term\n",
    "    phase1_frac_hit_index = int(np.where(x == frac_hit_index[0])[0])\n",
    "    A[phase1_frac_hit_index, :] = 0\n",
    "    A[phase1_frac_hit_index, phase1_frac_hit_index] = 1\n",
    "\n",
    "    return A\n",
    "\n",
    "def build_rhs_phase1(u_current, t):\n",
    "    rhs = u_current.copy()\n",
    "    rhs[0] = 0\n",
    "    rhs[-1] = 0\n",
    "    # Source term.\n",
    "    phase1_frac_hit_index = int(np.where(x == frac_hit_index[0])[0])\n",
    "    rhs[phase1_frac_hit_index] = interpolate_gauge_data(t)\n",
    "    # print(f\"Time: {t}, Source: {interpolate_gauge_data(t)}\") # debug info\n",
    "    return rhs"
   ]
  },
  {
   "cell_type": "code",
   "execution_count": null,
   "id": "e9edc4572caeae38",
   "metadata": {},
   "outputs": [],
   "source": [
    "# Create snapshot\n",
    "u_current = gauge_dataframe.data[0] * np.ones_like(u_current) # initial condition\n",
    "u_snapshot.append(u_current.copy())"
   ]
  },
  {
   "cell_type": "code",
   "execution_count": null,
   "id": "78ed7d60705c5aa7",
   "metadata": {},
   "outputs": [],
   "source": [
    "#\n",
    "# full step solver\n",
    "def full_step_phase1(u_current, dt, t):\n",
    "    A = build_matrix_phase1(dt)\n",
    "    rhs = build_rhs_phase1(u_current, t)\n",
    "    return np.linalg.solve(A, rhs)\n",
    "\n",
    "# half step solver\n",
    "def half_step_phase1(u_current, dt, t):\n",
    "    dt_half = dt / 2\n",
    "    A_half = build_matrix_phase1(dt_half)\n",
    "    rhs_half = build_rhs_phase1(u_current, t)\n",
    "    u_middle = np.linalg.solve(A_half, rhs_half)\n",
    "\n",
    "    b_half = build_rhs_phase1(u_middle, t)\n",
    "    u_final = np.linalg.solve(A_half, b_half)\n",
    "\n",
    "    return u_final"
   ]
  },
  {
   "cell_type": "code",
   "execution_count": null,
   "id": "827d3f17a35ffa0f",
   "metadata": {},
   "outputs": [],
   "source": [
    "# Time sampling optimizer\n",
    "def adjust_dt(dt_current, error, tol=1e-3):\n",
    "    safety_factor = 0.9\n",
    "    p = 2\n",
    "\n",
    "    dt_new = safety_factor * dt_current * (tol / max(error, 1e-16))**(1/(p+1))\n",
    "\n",
    "    dt_new = min(2.0 * dt_init, max(0.5 * dt_current, dt_new))\n",
    "\n",
    "    return dt_new"
   ]
  },
  {
   "cell_type": "code",
   "execution_count": null,
   "id": "2989385c69a1e274",
   "metadata": {},
   "outputs": [],
   "source": [
    "# test the full step\n",
    "dt = dt_init\n",
    "\n",
    "u_current = full_step_phase1(u_current, dt, t[-1])\n",
    "u_snapshot.append(u_current.copy())\n",
    "t.append(t[-1] + dt)"
   ]
  },
  {
   "cell_type": "markdown",
   "id": "eb6171b89b3450dc",
   "metadata": {},
   "source": [
    "## Simulation: stage 1"
   ]
  },
  {
   "cell_type": "code",
   "execution_count": null,
   "id": "26a20c683c938e6e",
   "metadata": {},
   "outputs": [],
   "source": [
    "while t[-1] < total_time: # time loop\n",
    "    print(\"dt = \", dt)\n",
    "    # calculate the full step\n",
    "    u_current = full_step_phase1(u_current, dt, t[-1])\n",
    "\n",
    "    # calculate the half step\n",
    "    u_current_half = half_step_phase1(u_current, dt, t[-1])\n",
    "\n",
    "    # calculate the error\n",
    "    error = np.linalg.norm(u_current_half - u_current) / np.linalg.norm(u_current)\n",
    "    # print(f\"Time: {t[-1]}, Error: {error}\")\n",
    "    # adjust the time step\n",
    "    dt = adjust_dt(dt, error)\n",
    "\n",
    "    if error <= 1e-3:\n",
    "        # store the snapshot if the error is small enough.\n",
    "        u_snapshot.append(u_current.copy())\n",
    "        t.append(t[-1] + dt)\n",
    "\n",
    "        # update the time step\n",
    "        dt = min(dt, 10)\n",
    "    else:\n",
    "        # the error is too large, reduce the time step. Don't store the snapshot.\n",
    "        dt = max(0.5 * dt, 0.5)\n",
    "\n",
    "    # store the snapshot\n",
    "    u_snapshot.append(u_current.copy())\n",
    "    print(f\"Time: {t[-1]}, Error: {error:.6f}\")\n",
    "    t.append(t[-1] + dt)"
   ]
  },
  {
   "cell_type": "markdown",
   "id": "e30b5578aebb7c7f",
   "metadata": {},
   "source": [
    "# Phase 2"
   ]
  },
  {
   "cell_type": "code",
   "execution_count": null,
   "id": "b6af7544962c14ed",
   "metadata": {},
   "outputs": [],
   "source": [
    "total_time_interval = 3000 # I define the time in this phase"
   ]
  },
  {
   "cell_type": "markdown",
   "id": "960ad28bfd41de55",
   "metadata": {},
   "source": [
    "## Simulator\n",
    "\n",
    "In this case, I'll make the fractures in the stage 1 keeps the pressure and permeability. In this phase"
   ]
  },
  {
   "cell_type": "code",
   "execution_count": null,
   "id": "23db6a750ce698e1",
   "metadata": {},
   "outputs": [],
   "source": [
    "# define Simulator\n",
    "def build_matrix_phase2(dt):\n",
    "    alpha = d * dt / dx**2\n",
    "\n",
    "    A = np.zeros((nx, nx))\n",
    "\n",
    "    for i in range(1, nx-1):\n",
    "        A[i, i-1] = -alpha[i]\n",
    "        A[i, i] = 1 + 2 * alpha[i]\n",
    "        A[i, i+1] = -alpha[i]\n",
    "\n",
    "    A[0, 0] = 1\n",
    "    A[-1, -1] = 1\n",
    "    A[0, 1] = -1\n",
    "    A[-1, -2] = -1\n",
    "\n",
    "    # Source term\n",
    "    phase1_frac_hit_index = int(np.where(x == frac_hit_index[0])[0])\n",
    "    A[phase1_frac_hit_index, :] = 0\n",
    "    A[phase1_frac_hit_index, phase1_frac_hit_index] = 1\n",
    "\n",
    "    return A\n",
    "\n",
    "def build_rhs_phase2(u_current, t):\n",
    "    rhs = u_current.copy()\n",
    "    rhs[0] = 0\n",
    "    rhs[-1] = 0\n",
    "    # Source term. In this case, use the pressure data in pg.\n",
    "    phase1_frac_hit_index = int(np.where(x == frac_hit_index[0])[0])\n",
    "    rhs[phase1_frac_hit_index] = interpolate_gauge_data(t)\n",
    "    return rhs"
   ]
  },
  {
   "cell_type": "code",
   "execution_count": null,
   "id": "3a8c8a311c58cb85",
   "metadata": {},
   "outputs": [],
   "source": [
    "# full step\n",
    "def full_step_phase2(u_current, dt, t):\n",
    "    A = build_matrix_phase2(dt)\n",
    "    rhs = build_rhs_phase2(u_current, t)\n",
    "    return np.linalg.solve(A, rhs)\n",
    "\n",
    "# half step\n",
    "def half_step_phase2(u_current, dt, t):\n",
    "    dt_half = dt / 2\n",
    "    A_half = build_matrix_phase2(dt_half)\n",
    "    rhs_half = build_rhs_phase2(u_current, t)\n",
    "    u_middle = np.linalg.solve(A_half, rhs_half)\n",
    "\n",
    "    b_half = build_rhs_phase2(u_middle, t)\n",
    "    u_final = np.linalg.solve(A_half, b_half)\n",
    "\n",
    "    return u_final"
   ]
  },
  {
   "cell_type": "code",
   "execution_count": null,
   "id": "ac32420afe45c900",
   "metadata": {},
   "outputs": [],
   "source": [
    "# Wrapping up the simulation.\n",
    "def pressure_diffusion_phase2(u_init, d):\n",
    "    total_time_phase2 = total_time + total_time_interval # decide the end time\n",
    "    # Create a new taxis to handle multiple d change\n",
    "    dt = dt_init\n",
    "    taxis_tmp = t.copy()\n",
    "    u_snapshot_tmp = u_snapshot.copy()\n",
    "    u_current = u_init.copy()\n",
    "    while taxis_tmp[-1] < total_time_phase2:\n",
    "        u_current = full_step_phase1(u_current, dt, taxis_tmp[-1])\n",
    "        u_current_half = half_step_phase1(u_current, dt, taxis_tmp[-1])\n",
    "        error = np.linalg.norm(u_current_half - u_current) / np.linalg.norm(u_current)\n",
    "\n",
    "        dt = adjust_dt(dt, error)\n",
    "\n",
    "\n",
    "        if error <= 1e-3:\n",
    "            # store the snapshot if the error is small enough.\n",
    "            u_snapshot_tmp.append(u_current.copy())\n",
    "            taxis_tmp.append(taxis_tmp[-1] + dt)\n",
    "\n",
    "            # update the time step\n",
    "            dt = min(dt, 10)\n",
    "        else:\n",
    "            # the error is too large, reduce the time step. Don't store the snapshot.\n",
    "            dt = max(0.5 * dt, 0.5)\n",
    "\n",
    "        # store the snapshot\n",
    "        u_snapshot_tmp.append(u_current.copy())\n",
    "        print(f\"Time: {taxis_tmp[-1]}, Error: {error:.6f}\")\n",
    "        taxis_tmp.append(taxis_tmp[-1] + dt)\n",
    "\n",
    "    # then return the copy. Though it is space consuming\n",
    "    result_snapshot = np.array(u_snapshot_tmp)\n",
    "    result_t = np.array(taxis_tmp)\n",
    "\n",
    "    return result_snapshot, result_t"
   ]
  },
  {
   "cell_type": "code",
   "execution_count": null,
   "id": "5f492ae7d5c5d1ed",
   "metadata": {},
   "outputs": [],
   "source": [
    "u_snapshot, t = pressure_diffusion_phase2(u_snapshot[-1], d)"
   ]
  },
  {
   "cell_type": "code",
   "execution_count": null,
   "id": "7e7d32b90c230349",
   "metadata": {},
   "outputs": [],
   "source": [
    "# Plot the result for QC. Check the specific channel.\n",
    "plt.figure()\n",
    "plt.plot(t, u_snapshot[:, int(np.where(x == frac_hit_index[0])[0])], label='frac_hit')\n",
    "\n",
    "plt.plot(t, u_snapshot[:, int(np.where(x == frac_hit_index[0])[0]) + 40], label='frac_hit + 40 ft')\n",
    "\n",
    "plt.plot(t, u_snapshot[:, int(np.where(x == frac_hit_index[0])[0])] + 100, label='frac_hit + 100 ft')\n",
    "\n",
    "plt.legend()\n",
    "\n",
    "plt.title(\"Pressure at different locations\\n single stage/single fracture\")\n",
    "plt.show()"
   ]
  },
  {
   "cell_type": "code",
   "execution_count": null,
   "id": "89bd227cdeefd160",
   "metadata": {},
   "outputs": [],
   "source": [
    "# imshow the result\n",
    "plt.figure()\n",
    "plt.imshow(u_snapshot.T, aspect='auto')\n",
    "plt.colorbar()\n",
    "plt.show()"
   ]
  },
  {
   "cell_type": "markdown",
   "id": "4a85f59200a1e510",
   "metadata": {},
   "source": [
    "# Phase 3: stage 2.\n",
    "\n",
    "Here I will try different diffusivity drop."
   ]
  },
  {
   "cell_type": "code",
   "execution_count": null,
   "id": "300b1915a26d4437",
   "metadata": {},
   "outputs": [],
   "source": [
    "diffusivity_drop_ratio = np.array([0.5, 0.3, 0.1, 0.05, 0.01, 0.001])"
   ]
  },
  {
   "cell_type": "code",
   "execution_count": null,
   "id": "3eeaf400bf684aed",
   "metadata": {},
   "outputs": [],
   "source": [
    "# Simulator for phase 3.\n",
    "def build_matrix_phase3(dt):\n",
    "    alpha = d * dt / dx**2\n",
    "\n",
    "    A = np.zeros((nx, nx))\n",
    "\n",
    "    for i in range(1, nx-1):\n",
    "        A[i, i-1] = -alpha[i]\n",
    "        A[i, i] = 1 + 2 * alpha[i]\n",
    "        A[i, i+1] = -alpha[i]\n",
    "\n",
    "    A[0, 0] = 1\n",
    "    A[-1, -1] = 1\n",
    "    A[0, 1] = -1\n",
    "    A[-1, -2] = -1\n",
    "\n",
    "    # Source term\n",
    "    phase3_frac_hit_index = int(np.where(x == frac_hit_index[1])[0])\n",
    "    A[phase3_frac_hit_index, :] = 0\n",
    "    A[phase3_frac_hit_index, phase3_frac_hit_index] = 1\n",
    "\n",
    "    return A\n",
    "\n",
    "def build_rhs_phase3(u_current, t):\n",
    "    rhs = u_current.copy()\n",
    "    rhs[0] = 0\n",
    "    rhs[-1] = 0\n",
    "    # Source term.\n",
    "    phase3_frac_hit_index = int(np.where(x == frac_hit_index[1])[0])\n",
    "    rhs[phase3_frac_hit_index] = interpolate_gauge_data(t)\n",
    "    # print(f\"Time: {t}, Source: {interpolate_gauge_data(t)}\") # debug info\n",
    "    return rhs"
   ]
  },
  {
   "cell_type": "code",
   "execution_count": null,
   "id": "94b1820f5de8281f",
   "metadata": {},
   "outputs": [],
   "source": [
    "# full step\n",
    "def full_step_phase3(u_current, dt, t):\n",
    "    A = build_matrix_phase3(dt)\n",
    "    rhs = build_rhs_phase3(u_current, t)\n",
    "    return np.linalg.solve(A, rhs)\n",
    "\n",
    "# half step\n",
    "def half_step_phase3(u_current, dt, t):\n",
    "    dt_half = dt / 2\n",
    "    A_half = build_matrix_phase3(dt_half)\n",
    "    rhs_half = build_rhs_phase3(u_current, t)\n",
    "    u_middle = np.linalg.solve(A_half, rhs_half)\n",
    "\n",
    "    b_half = build_rhs_phase3(u_middle, t)\n",
    "    u_final = np.linalg.solve(A_half, b_half)\n",
    "\n",
    "    return u_final"
   ]
  },
  {
   "cell_type": "code",
   "execution_count": null,
   "id": "7858d18d1bd23cc1",
   "metadata": {},
   "outputs": [],
   "source": [
    "def pressure_diffusion_phase3(u_init, d):\n",
    "    total_time_phase3 = 36898\n",
    "\n",
    "    dt = dt_init  # Assuming dt_init is defined somewhere above\n",
    "\n",
    "    # Instead of using arrays for dynamic appending, use Python lists\n",
    "    taxis_tmp_list = list(t)          # Start with the existing time array converted to a list\n",
    "    u_snapshot_tmp_list = [u_snapshot]  # Start with a list containing the initial snapshot (which is np.array)\n",
    "\n",
    "    u_current = u_init.copy()\n",
    "\n",
    "    while taxis_tmp_list[-1] < total_time_phase3:\n",
    "        u_current = full_step_phase3(u_current, dt, taxis_tmp_list[-1])\n",
    "        u_current_half = half_step_phase3(u_current, dt, taxis_tmp_list[-1])\n",
    "        error = np.linalg.norm(u_current_half - u_current) / np.linalg.norm(u_current)\n",
    "\n",
    "        dt = adjust_dt(dt, error)\n",
    "\n",
    "        if error <= 1e-3:\n",
    "            # Store the snapshot if the error is small enough\n",
    "            u_snapshot_tmp_list.append(u_current.copy())\n",
    "            taxis_tmp_list.append(taxis_tmp_list[-1] + dt)\n",
    "\n",
    "            # Update the time step\n",
    "            dt = min(dt, 10)\n",
    "        else:\n",
    "            # The error is too large, reduce the time step. Don't store the snapshot.\n",
    "            dt = max(0.5 * dt, 0.5)\n",
    "\n",
    "        # Store the snapshot again according to your original code logic\n",
    "        u_snapshot_tmp_list.append(u_current.copy())\n",
    "        print(f\"Time: {taxis_tmp_list[-1]}, Error: {error:.6f}, size = {u_snapshot_tmp_list[-1].shape} and {u_current.shape}\")\n",
    "        taxis_tmp_list.append(taxis_tmp_list[-1] + dt)\n",
    "\n",
    "    # Convert the lists back to NumPy arrays at the end\n",
    "    result_snapshot = u_snapshot_tmp_list\n",
    "    result_t = taxis_tmp_list\n",
    "\n",
    "    return result_snapshot, result_t"
   ]
  },
  {
   "cell_type": "code",
   "execution_count": null,
   "id": "23c1f1c0d4f6dd27",
   "metadata": {},
   "outputs": [],
   "source": [
    "# Create phase 3 snapshot, (nx, nt, len(diff_change_ratio))\n",
    "phase3_snapshots = []\n",
    "phase3_taxis = []\n",
    "\n",
    "# Update the gauge data info\n",
    "gauge_dataframe = Data1D_GAUGE.Data1D_GAUGE(gauge_data_folder + f\"gauge7_data_swell.npz\")\n",
    "\n",
    "for diff_ratio in diffusivity_drop_ratio:\n",
    "    phase1_frac_hit_index = int(np.where(x == frac_hit_index[0])[0]) # get the index of the first fracture\n",
    "    d_phase3 = deepcopy(d)\n",
    "    d_phase3[phase1_frac_hit_index:] = d_phase3[phase1_frac_hit_index:] * diff_ratio\n",
    "    snapshot_tmp, t_tmp = pressure_diffusion_phase3(u_snapshot[-1], d_phase3)\n",
    "    phase3_snapshots.append(snapshot_tmp)\n",
    "    phase3_taxis.append(t_tmp)"
   ]
  },
  {
   "cell_type": "code",
   "execution_count": null,
   "id": "6458493b72d507aa",
   "metadata": {},
   "outputs": [],
   "source": [
    "stg3_snapshot_list = []\n",
    "snapshot_list = []\n",
    "t_list = []\n",
    "for i in range(len(diffusivity_drop_ratio)):\n",
    "    stg3_snapshot_list.append(phase3_snapshots[i][1:])\n",
    "    t_list.append(phase3_taxis[i])\n",
    "    # concatenate the snapshot (stage 1 + stage 2)\n",
    "    snapshot_list.append(np.concatenate((u_snapshot, phase3_snapshots[i][1:]), axis=0))"
   ]
  },
  {
   "cell_type": "code",
   "execution_count": null,
   "id": "3e6b5db493f3a6a4",
   "metadata": {},
   "outputs": [],
   "source": [
    "# imshow the result\n",
    "plt.figure()\n",
    "plt.imshow(snapshot_list[0].T, aspect='auto', cmap='bwr', extent=[0, 36898, -2500, 2500])\n",
    "plt.colorbar()\n",
    "plt.title(f\"Diffusivity drop ratio: {diffusivity_drop_ratio[0]}\")\n",
    "plt.xlabel(\"Time (s)\")\n",
    "plt.ylabel(\"Distance (ft)\")\n",
    "# invert the y axis\n",
    "plt.gca().invert_yaxis()\n",
    "plt.show()"
   ]
  },
  {
   "cell_type": "code",
   "execution_count": null,
   "id": "2092eb7843c51fac",
   "metadata": {},
   "outputs": [],
   "source": [
    "# Loop the result to plot the result\n",
    "for i in range(len(diffusivity_drop_ratio)):\n",
    "    plt.figure()\n",
    "    plt.imshow(snapshot_list[i].T, aspect='auto', cmap='bwr', extent=[0, 36898, -2500, 2500])\n",
    "    plt.colorbar()\n",
    "    plt.title(f\"Diffusivity drop ratio: {diffusivity_drop_ratio[i]}\")\n",
    "    plt.xlabel(\"Time (s)\")\n",
    "    plt.ylabel(\"Distance (ft)\")\n",
    "    # invert the y axis\n",
    "    plt.gca().invert_yaxis()\n",
    "    plt.show()"
   ]
  },
  {
   "cell_type": "code",
   "execution_count": null,
   "id": "98f979adfaa569a8",
   "metadata": {},
   "outputs": [],
   "source": []
  }
 ],
 "metadata": {
  "kernelspec": {
   "display_name": "base",
   "language": "python",
   "name": "python3"
  },
  "language_info": {
   "codemirror_mode": {
    "name": "ipython",
    "version": 3
   },
   "file_extension": ".py",
   "mimetype": "text/x-python",
   "name": "python",
   "nbconvert_exporter": "python",
   "pygments_lexer": "ipython3",
   "version": "3.12.7"
  }
 },
 "nbformat": 4,
 "nbformat_minor": 5
}
