{
 "cells": [
  {
   "cell_type": "code",
   "execution_count": 1,
   "metadata": {},
   "outputs": [],
   "source": [
    "import numpy as np\n",
    "import matplotlib.pyplot as plt"
   ]
  },
  {
   "cell_type": "code",
   "execution_count": 2,
   "metadata": {},
   "outputs": [],
   "source": [
    "nx, dx = 100, 1\n",
    "nt, dt = 100, 0.01\n",
    "\n",
    "x = np.linspace(0, nx*dx, nx)\n",
    "u = np.zeros((nt, nx))\n",
    "t = np.linspace(0, nt*dt, nt)"
   ]
  },
  {
   "cell_type": "code",
   "execution_count": 3,
   "metadata": {},
   "outputs": [],
   "source": [
    "# initial condition\n",
    "d = 10\n",
    "u[0, :] = 100\n",
    "\n",
    "for n in range(1, nt):\n",
    "    # Form A\n",
    "    A = np.zeros((nx, nx))\n",
    "    b = np.zeros(nx)\n",
    "\n",
    "    alpha = d * dt / dx**2\n",
    "\n",
    "    for i in range(1, nx-1):\n",
    "        A[i, i-1] = -alpha\n",
    "        A[i, i] = 1 + 2*alpha\n",
    "        A[i, i+1] = -alpha\n",
    "    \n",
    "    A[0, 0] = 1\n",
    "    A[-1, -1] = 1\n",
    "    \n",
    "    A[0, 1] = -1\n",
    "    A[-1, -2] = -1\n",
    "\n",
    "    b = u[n-1, :]\n",
    "    b[0] = 0\n",
    "    b[-1] = 0\n",
    "\n",
    "    u[n, :] = np.linalg.solve(A, b)"
   ]
  },
  {
   "cell_type": "code",
   "execution_count": null,
   "metadata": {},
   "outputs": [],
   "source": []
  }
 ],
 "metadata": {
  "kernelspec": {
   "display_name": "base",
   "language": "python",
   "name": "python3"
  },
  "language_info": {
   "codemirror_mode": {
    "name": "ipython",
    "version": 3
   },
   "file_extension": ".py",
   "mimetype": "text/x-python",
   "name": "python",
   "nbconvert_exporter": "python",
   "pygments_lexer": "ipython3",
   "version": "3.9.17"
  }
 },
 "nbformat": 4,
 "nbformat_minor": 2
}
