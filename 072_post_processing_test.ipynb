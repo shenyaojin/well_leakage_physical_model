{
 "cells": [
  {
   "cell_type": "code",
   "id": "initial_id",
   "metadata": {
    "collapsed": true,
    "ExecuteTime": {
     "end_time": "2025-01-27T04:34:32.383768Z",
     "start_time": "2025-01-27T04:34:32.380482Z"
    }
   },
   "source": "# Migrate to DAS data analysis",
   "outputs": [],
   "execution_count": 1
  },
  {
   "metadata": {
    "ExecuteTime": {
     "end_time": "2025-01-27T04:34:37.942092Z",
     "start_time": "2025-01-27T04:34:37.935954Z"
    }
   },
   "cell_type": "code",
   "source": [
    "import os\n",
    "os.listdir()"
   ],
   "id": "d50ff5e0e72a9454",
   "outputs": [
    {
     "data": {
      "text/plain": [
       "['243_22562_220-pycharm-support-libs',\n",
       " '._.DS_Store',\n",
       " 'data',\n",
       " 'pds',\n",
       " '.DS_Store']"
      ]
     },
     "execution_count": 2,
     "metadata": {},
     "output_type": "execute_result"
    }
   ],
   "execution_count": 2
  },
  {
   "metadata": {
    "ExecuteTime": {
     "end_time": "2025-01-27T04:34:51.802197Z",
     "start_time": "2025-01-27T04:34:51.759460Z"
    }
   },
   "cell_type": "code",
   "source": [
    "%load_ext autoreload\n",
    "%autoreload 2"
   ],
   "id": "924323a640656531",
   "outputs": [],
   "execution_count": 3
  },
  {
   "metadata": {},
   "cell_type": "code",
   "outputs": [],
   "execution_count": null,
   "source": "",
   "id": "2058a5958bd68a15"
  }
 ],
 "metadata": {
  "kernelspec": {
   "display_name": "Python 3",
   "language": "python",
   "name": "python3"
  },
  "language_info": {
   "codemirror_mode": {
    "name": "ipython",
    "version": 2
   },
   "file_extension": ".py",
   "mimetype": "text/x-python",
   "name": "python",
   "nbconvert_exporter": "python",
   "pygments_lexer": "ipython2",
   "version": "2.7.6"
  }
 },
 "nbformat": 4,
 "nbformat_minor": 5
}
