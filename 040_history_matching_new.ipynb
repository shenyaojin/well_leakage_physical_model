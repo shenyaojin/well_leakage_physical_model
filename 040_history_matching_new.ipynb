{
 "cells": [
  {
   "cell_type": "code",
   "metadata": {},
   "source": [
    "# do history matching on the original stage 5/6/7 to match the wave front\n",
    "# Then I can do the simulation\n",
    "import numpy as np\n",
    "import matplotlib.pyplot as plt\n",
    "from datetime import datetime\n",
    "from tqdm import tqdm"
   ],
   "outputs": [],
   "execution_count": null
  },
  {
   "cell_type": "code",
   "metadata": {},
   "source": [
    "# 1. do the history matching for the stage 7 and stage 8\n",
    "# Load the data from stage 7\n",
    "datapath = \"./\"\n",
    "import os"
   ],
   "outputs": [],
   "execution_count": null
  },
  {
   "cell_type": "markdown",
   "metadata": {},
   "source": [
    "# Stage 7 DAS/gauge data history matching"
   ]
  },
  {
   "metadata": {},
   "cell_type": "code",
   "source": "coeff = 0.3",
   "outputs": [],
   "execution_count": null
  },
  {
   "cell_type": "markdown",
   "metadata": {},
   "source": [
    "## Plot the LF-DAS/gauge data at stage 7/S well"
   ]
  },
  {
   "cell_type": "code",
   "metadata": {},
   "source": [
    "# Load DAS data\n",
    "stage = 7 \n",
    "\n",
    "# file path\n",
    "DASdata_filepath = datapath + f\"s_well/DASdata/LFDASdata_stg{stage}_swell.npz\"\n",
    "gauge_data_folder = datapath + \"s_well/gauge_data/\"\n",
    "pumping_curve_filepath = datapath + f\"prod/pumping_curve/pumping_curve_stage{stage}.npz\"\n",
    "\n",
    "# Load the geometry\n",
    "gauge_md_geometry = datapath + \"s_well/geometry/gauge_md_swell.npz\"\n",
    "frac_hit_geometry = datapath + f\"s_well/geometry/frac_hit/frac_hit_stage_{stage}_swell.npz\""
   ],
   "outputs": [],
   "execution_count": null
  },
  {
   "cell_type": "code",
   "metadata": {},
   "source": [
    "# Load the data\n",
    "from DSS_analyzer_Mariner import Data1D_GAUGE, Data2D_XT_DSS, Data3D_geometry, Data1D_PumpingCurve\n",
    "\n",
    "pumping_curve_dataframe = Data1D_PumpingCurve.Data1D_PumpingCurve(pumping_curve_filepath)\n",
    "gauge_md_geometry_dataframe = Data3D_geometry.Data3D_geometry(gauge_md_geometry)\n",
    "frac_hit_geometry_dataframe = Data3D_geometry.Data3D_geometry(frac_hit_geometry)\n",
    "DASdata = Data2D_XT_DSS.Data2D()\n",
    "DASdata.loadnpz(DASdata_filepath)"
   ],
   "outputs": [],
   "execution_count": null
  },
  {
   "metadata": {},
   "cell_type": "code",
   "source": [
    "# Plot the DAS data with gauge data. Then I'll crop the depth and time range.\n",
    "start_time = pumping_curve_dataframe.get_start_time()\n",
    "end_time = pumping_curve_dataframe.get_end_time()\n",
    "\n",
    "# Load the depth range of the DAS data, from the geometry file <- frac_hit\n",
    "depth_range = np.array([np.min(frac_hit_geometry_dataframe.data) - 600, np.max(frac_hit_geometry_dataframe.data) + 300])"
   ],
   "outputs": [],
   "execution_count": null
  },
  {
   "metadata": {},
   "cell_type": "code",
   "source": "print(f\"Depth range: {depth_range} ft\")",
   "outputs": [],
   "execution_count": null
  },
  {
   "metadata": {},
   "cell_type": "code",
   "source": [
    "# Use depth data to crop the DAS data and find the guage data in the depth range\n",
    "ind = np.array(np.where(np.logical_and(gauge_md_geometry_dataframe.data <= depth_range[1], gauge_md_geometry_dataframe.data >= depth_range[0]))).flatten()"
   ],
   "outputs": [],
   "execution_count": null
  },
  {
   "metadata": {},
   "cell_type": "code",
   "source": "print(f\"Index of the gauge data in the depth range: {ind}\")",
   "outputs": [],
   "execution_count": null
  },
  {
   "metadata": {},
   "cell_type": "code",
   "source": [
    "# Crop the DAS data using the depth range\n",
    "DASdata.select_depth(depth_range[0], depth_range[1])"
   ],
   "outputs": [],
   "execution_count": null
  },
  {
   "metadata": {},
   "cell_type": "code",
   "source": [
    "# Load the gauge data. I have the index.\n",
    "gauge_dataframe_all = []\n",
    "for iter in tqdm(ind):\n",
    "    gauge_dataframe = Data1D_GAUGE.Data1D_GAUGE(gauge_data_folder + f\"gauge{iter+1}_data_swell.npz\") # +1 because the gauge index starts from 1\n",
    "    gauge_dataframe.crop(start_time, end_time) # crop the data to the pumping time to match the DAS data\n",
    "    gauge_dataframe_all.append(gauge_dataframe)"
   ],
   "outputs": [],
   "execution_count": null
  },
  {
   "metadata": {},
   "cell_type": "code",
   "source": [
    "DASdata.cal_timestamp_from_taxis()\n",
    "cx = np.array([-1, 1])"
   ],
   "outputs": [],
   "execution_count": null
  },
  {
   "metadata": {},
   "cell_type": "code",
   "source": "from datetime import timedelta",
   "outputs": [],
   "execution_count": null
  },
  {
   "metadata": {},
   "cell_type": "code",
   "source": [
    "# Form the scalar\n",
    "tmp_taxis = np.repeat(gauge_dataframe_all[0].taxis[0] + timedelta(minutes=10), 2)\n",
    "scalar_value = 300\n",
    "tmp_value = np.array([ gauge_md_geometry_dataframe.data[ind][0] - 50, (scalar_value * - coeff + gauge_md_geometry_dataframe.data[ind][0] - 50)])"
   ],
   "outputs": [],
   "execution_count": null
  },
  {
   "metadata": {},
   "cell_type": "code",
   "source": [
    "fig = plt.figure(figsize=(10, 6))\n",
    "ax1 = plt.subplot2grid((6, 4), (0, 0), rowspan=4, colspan=4)\n",
    "for i in range(len(gauge_md_geometry_dataframe.data[ind])):\n",
    "    ax1.axhline(y=gauge_md_geometry_dataframe.data[ind][i], color='black', linestyle='--')\n",
    "    ax1.plot(gauge_dataframe_all[i].taxis, (gauge_dataframe_all[i].data - gauge_dataframe_all[i].data[0]) * - coeff + gauge_md_geometry_dataframe.data[ind][i], color='cyan', linewidth=2)\n",
    "ax1.plot(tmp_taxis, tmp_value, color = 'black', linewidth=5) # scalar\n",
    "ax1.text(tmp_taxis[0] + timedelta(minutes=3), tmp_value[0] - scalar_value/7, f\"{scalar_value} psi\", fontsize=12, color='black')\n",
    "img1 = DASdata.plot_water_on_ax(ax1, use_timestamp=True)\n",
    "img1.set_clim(cx * 1e3)\n",
    "plt.title(f\"Stage {stage} LF-DAS data with fracture hit location in S well\")\n",
    "# Plot the fracture hit location\n",
    "for i in range(len(frac_hit_geometry_dataframe.data)):\n",
    "    ax1.axhline(y=frac_hit_geometry_dataframe.data[i], color='red', linestyle='--')\n",
    "\n",
    "ax2 = plt.subplot2grid((6, 4), (4, 0), rowspan=2, colspan=4, sharex=ax1)\n",
    "pumping_curve_dataframe.plot_all_vars(ax2)\n",
    "\n",
    "plt.tight_layout()\n",
    "plt.show()"
   ],
   "outputs": [],
   "execution_count": null
  },
  {
   "metadata": {},
   "cell_type": "markdown",
   "source": "## Set up history matching grid"
  },
  {
   "metadata": {},
   "cell_type": "code",
   "source": [
    "# Crop the data to get the window\n",
    "# History matching\n",
    "# Parameter setup\n",
    "start_injection_time = datetime(2020, 3, 18, 4, 38, 00)\n",
    "# Define diffusivity\n",
    "d = 700 # ft^2/s\n",
    "\n",
    "# end time will do no matter what\n",
    "end_injection_time = datetime(2020, 3, 18, 4, 46, 00)"
   ],
   "outputs": [],
   "execution_count": null
  },
  {
   "metadata": {},
   "cell_type": "code",
   "source": [
    "# Based on the LFDAS data, set up the space-time window\n",
    "x = np.linspace(DASdata.mds[0], DASdata.mds[-1], len(DASdata.mds))\n",
    "t = DASdata.taxis\n",
    "\n",
    "dx = x[1] - x[0]\n",
    "dt = t[1] - t[0]\n",
    "\n",
    "nx = len(x)\n",
    "nt = len(t)\n",
    "\n",
    "U = np.zeros(nx) # solution at the current time step\n",
    "U_snapshot = np.zeros((nx, nt)) # solution at each time step"
   ],
   "outputs": [],
   "execution_count": null
  },
  {
   "metadata": {},
   "cell_type": "markdown",
   "source": "## Look at the DAS data"
  },
  {
   "metadata": {},
   "cell_type": "code",
   "source": [
    "DASdata_new = DASdata.copy()\n",
    "DASdata_new.select_time(start_injection_time, end_injection_time)"
   ],
   "outputs": [],
   "execution_count": null
  },
  {
   "metadata": {},
   "cell_type": "code",
   "source": [
    "# Plot the cropped DAS data\n",
    "fig, ax = plt.subplots(figsize=(4, 8))\n",
    "img = DASdata_new.plot_water_on_ax(ax, use_timestamp=False)\n",
    "img.set_clim(cx * 1e3)\n",
    "for i in range(len(frac_hit_geometry_dataframe.data)):\n",
    "    ax.axhline(y=frac_hit_geometry_dataframe.data[i], color='black', linestyle='--')\n",
    "plt.title(f\"Stage {stage} LF-DAS data we are going to history match\")\n",
    "plt.show()"
   ],
   "outputs": [],
   "execution_count": null
  },
  {
   "metadata": {},
   "cell_type": "code",
   "source": "",
   "outputs": [],
   "execution_count": null
  }
 ],
 "metadata": {
  "kernelspec": {
   "display_name": "Python 3 (ipykernel)",
   "language": "python",
   "name": "python3"
  }
 },
 "nbformat": 4,
 "nbformat_minor": 2
}
