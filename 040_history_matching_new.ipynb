{
 "cells": [
  {
   "cell_type": "code",
   "execution_count": null,
   "metadata": {},
   "outputs": [],
   "source": [
    "# do history matching on the original stage 5/6/7 to match the wave front\n",
    "# Then I can do the simulation\n",
    "import numpy as np\n",
    "import matplotlib.pyplot as plt\n",
    "from datetime import datetime"
   ]
  },
  {
   "cell_type": "code",
   "execution_count": 4,
   "metadata": {},
   "outputs": [],
   "source": [
    "# 1. do the history matching for the stage 7 and stage 8\n",
    "# Load the data from stage 7\n",
    "datapath = \"./\"\n",
    "import os"
   ]
  },
  {
   "cell_type": "markdown",
   "metadata": {},
   "source": [
    "# Stage 7 DAS/gauge data history matching"
   ]
  },
  {
   "cell_type": "markdown",
   "metadata": {},
   "source": [
    "## Plot the LF-DAS/gauge data at stage 7/S well"
   ]
  },
  {
   "cell_type": "code",
   "execution_count": 12,
   "metadata": {},
   "outputs": [],
   "source": [
    "# Load DAS data\n",
    "stage = 7 \n",
    "\n",
    "# file path\n",
    "DASdata_filepath = datapath + f\"s_well/DASdata/LFDASdata_stg{stage}_swell.npz\"\n",
    "gauge_data_folder = datapath + \"s_well/gauge_data/\"\n",
    "pumping_curve_filepath = datapath + f\"prod/pumping_curve/pumping_curve_stage{stage}.npz\"\n",
    "\n",
    "# Load the geometry\n",
    "gauge_md_geometry = datapath + \"s_well/geometry/gauge_md_swell.npz\"\n",
    "frac_hit_geometry = datapath + f\"s_well/geometry/frac_hit/frac_hit_stage_{stage}_swell.npz\""
   ]
  },
  {
   "cell_type": "code",
   "execution_count": 13,
   "metadata": {},
   "outputs": [],
   "source": [
    "# Load the data\n",
    "from DSS_analyzer_Mariner import Data1D_GAUGE, Data2D_XT_DSS, Data3D_geometry, Data1D_PumpingCurve\n",
    "\n",
    "pumping_curve_dataframe = Data1D_PumpingCurve.Data1D_PumpingCurve(pumping_curve_filepath)\n",
    "gauge_md_geometry_dataframe = Data3D_geometry.Data3D_geometry(gauge_md_geometry)\n",
    "frac_hit_geometry_dataframe = Data3D_geometry.Data3D_geometry(frac_hit_geometry)\n",
    "DASdata = Data2D_XT_DSS.Data2D()\n",
    "DASdata.loadnpz(DASdata_filepath)"
   ]
  },
  {
   "cell_type": "code",
   "execution_count": null,
   "metadata": {},
   "outputs": [],
   "source": []
  }
 ],
 "metadata": {
  "kernelspec": {
   "display_name": "Python 3 (ipykernel)",
   "language": "python",
   "name": "python3"
  },
  "language_info": {
   "codemirror_mode": {
    "name": "ipython",
    "version": 3
   },
   "file_extension": ".py",
   "mimetype": "text/x-python",
   "name": "python",
   "nbconvert_exporter": "python",
   "pygments_lexer": "ipython3",
   "version": "3.9.17"
  }
 },
 "nbformat": 4,
 "nbformat_minor": 2
}
