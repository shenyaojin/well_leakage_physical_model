{
 "cells": [
  {
   "metadata": {
    "ExecuteTime": {
     "end_time": "2024-12-09T21:26:44.490618Z",
     "start_time": "2024-12-09T21:26:44.402636Z"
    }
   },
   "cell_type": "code",
   "source": [
    "%load_ext autoreload\n",
    "%autoreload 2"
   ],
   "id": "6e795e914c3b6217",
   "outputs": [
    {
     "name": "stdout",
     "output_type": "stream",
     "text": [
      "The autoreload extension is already loaded. To reload it, use:\n",
      "  %reload_ext autoreload\n"
     ]
    }
   ],
   "execution_count": 11
  },
  {
   "cell_type": "code",
   "id": "initial_id",
   "metadata": {
    "collapsed": true,
    "ExecuteTime": {
     "end_time": "2024-12-09T21:26:53.553665Z",
     "start_time": "2024-12-09T21:26:46.434622Z"
    }
   },
   "source": [
    "import numpy as np\n",
    "import matplotlib.pyplot as plt\n",
    "from DSS_analyzer_Mariner import Data1D_GAUGE, Data1D_PumpingCurve\n",
    "datapath = \"./\"\n",
    "gauge_data_folder = datapath + \"s_well/gauge_data/\"\n",
    "gauge_dataframe = Data1D_GAUGE.Data1D_GAUGE(gauge_data_folder + f\"gauge6_data_swell.npz\")\n",
    "# Plot the gauge data\n",
    "from DSS_analyzer_Mariner import Data1D_PumpingCurve\n",
    "pumping_curve_filepath = datapath + f\"prod/pumping_curve/pumping_curve_stage7.npz\"\n",
    "pumping_curve = Data1D_PumpingCurve.Data1D_PumpingCurve(pumping_curve_filepath)\n",
    "\n",
    "# Crop the pressure gauge data,\n",
    "start_time = pumping_curve.get_start_time()\n",
    "end_time = pumping_curve.get_end_time()\n",
    "gauge_dataframe.crop(start_time, end_time)\n",
    "\n",
    "gauge_md_index = np.array([265, 520,  789, 1043, 1312, 1567])\n",
    "frac_hit_index = np.array([589, 830])"
   ],
   "outputs": [],
   "execution_count": 12
  },
  {
   "metadata": {
    "ExecuteTime": {
     "end_time": "2024-12-09T21:26:53.639596Z",
     "start_time": "2024-12-09T21:26:53.555657Z"
    }
   },
   "cell_type": "code",
   "source": [
    "# Interpolate the gauge data for any time point, the function would return the interpolated value\n",
    "from scipy.interpolate import interp1d\n",
    "def interpolate_gauge_data(time):\n",
    "    gauge_data = gauge_dataframe.data\n",
    "    gauge_taxis = gauge_dataframe.calculate_time()\n",
    "    gauge_interpolator = interp1d(gauge_taxis * 3600, gauge_data, kind='linear')\n",
    "    return gauge_interpolator(time)"
   ],
   "id": "91a9484700f9b13c",
   "outputs": [],
   "execution_count": 13
  },
  {
   "metadata": {
    "ExecuteTime": {
     "end_time": "2024-12-09T21:26:53.725600Z",
     "start_time": "2024-12-09T21:26:53.642583Z"
    }
   },
   "cell_type": "code",
   "source": [
    "# Simulator parameters\n",
    "nx = 19000\n",
    "# nx = 1800\n",
    "total_time = 13000\n",
    "d = 140 * np.ones(nx)\n",
    "dx = 1\n",
    "x = np.arange(0, nx*dx, dx)\n",
    "x -= 8000\n",
    "u_snapshot = [] # store the snapshot of u\n",
    "u_current = np.zeros(nx)\n",
    "t = list([0]) # store the time points\n",
    "dt = 0\n",
    "dt_init = 5.0"
   ],
   "id": "42ce4d5f44fbe9f5",
   "outputs": [],
   "execution_count": 14
  },
  {
   "metadata": {
    "ExecuteTime": {
     "end_time": "2024-12-09T21:26:53.803666Z",
     "start_time": "2024-12-09T21:26:53.728587Z"
    }
   },
   "cell_type": "code",
   "source": [
    "# Simulator\n",
    "def build_matrix_phase1(dt):\n",
    "    alpha = d * dt / dx**2\n",
    "    \n",
    "    A = np.zeros((nx, nx))\n",
    "    \n",
    "    for i in range(1, nx-1):\n",
    "        A[i, i-1] = -alpha[i]\n",
    "        A[i, i] = 1 + 2 * alpha[i]\n",
    "        A[i, i+1] = -alpha[i]\n",
    "    \n",
    "    A[0, 0] = 1\n",
    "    A[-1, -1] = 1\n",
    "    A[0, 1] = -1\n",
    "    A[-1, -2] = -1\n",
    "    \n",
    "    # Source term\n",
    "    A[frac_hit_index[0], :] = 0\n",
    "    A[frac_hit_index[0], frac_hit_index[0]] = 1\n",
    "    \n",
    "    return A\n",
    "\n",
    "def build_rhs_phase1(u_current, t):\n",
    "    rhs = u_current.copy()\n",
    "    rhs[0] = 0\n",
    "    rhs[-1] = 0\n",
    "    # Source term.\n",
    "    rhs[frac_hit_index[0]] = interpolate_gauge_data(t)\n",
    "    # print(f\"Time: {t}, Source: {interpolate_gauge_data(t)}\") # debug info\n",
    "    return rhs"
   ],
   "id": "144d04fa0752b109",
   "outputs": [],
   "execution_count": 15
  },
  {
   "metadata": {
    "ExecuteTime": {
     "end_time": "2024-12-09T21:26:53.886625Z",
     "start_time": "2024-12-09T21:26:53.805658Z"
    }
   },
   "cell_type": "code",
   "source": [
    "u_current = gauge_dataframe.data[0] * np.ones_like(u_current) # initial condition\n",
    "u_snapshot.append(u_current.copy())"
   ],
   "id": "1fc8790fa21104ef",
   "outputs": [],
   "execution_count": 16
  },
  {
   "metadata": {
    "ExecuteTime": {
     "end_time": "2024-12-09T21:26:53.975621Z",
     "start_time": "2024-12-09T21:26:53.888617Z"
    }
   },
   "cell_type": "code",
   "source": [
    "# full step\n",
    "def full_step_phase1(u_current, dt, t):\n",
    "    A = build_matrix_phase1(dt)\n",
    "    rhs = build_rhs_phase1(u_current, t)\n",
    "    return np.linalg.solve(A, rhs)\n",
    "\n",
    "# half step\n",
    "def half_step_phase1(u_current, dt, t):\n",
    "    dt_half = dt / 2\n",
    "    A_half = build_matrix_phase1(dt_half)\n",
    "    rhs_half = build_rhs_phase1(u_current, t)\n",
    "    u_middle = np.linalg.solve(A_half, rhs_half)\n",
    "    \n",
    "    b_half = build_rhs_phase1(u_middle, t)\n",
    "    u_final = np.linalg.solve(A_half, b_half)\n",
    "    \n",
    "    return u_final"
   ],
   "id": "a2c11292de3f4f61",
   "outputs": [],
   "execution_count": 17
  },
  {
   "metadata": {
    "ExecuteTime": {
     "end_time": "2024-12-09T21:26:54.056665Z",
     "start_time": "2024-12-09T21:26:53.976617Z"
    }
   },
   "cell_type": "code",
   "source": [
    "# Time sampling optimizer\n",
    "def adjust_dt(dt_current, error, tol=1e-3):\n",
    "    safety_factor = 0.9\n",
    "    p = 2\n",
    "    \n",
    "    dt_new = safety_factor * dt_current * (tol / max(error, 1e-16))**(1/(p+1))\n",
    "    \n",
    "    dt_new = min(2.0 * dt_init, max(0.5 * dt_current, dt_new))\n",
    "    \n",
    "    return dt_new"
   ],
   "id": "c4e4fc073c49cfd9",
   "outputs": [],
   "execution_count": 18
  },
  {
   "metadata": {
    "ExecuteTime": {
     "end_time": "2024-12-09T21:27:14.904699Z",
     "start_time": "2024-12-09T21:26:54.057660Z"
    }
   },
   "cell_type": "code",
   "source": [
    "# test the full step\n",
    "dt = dt_init\n",
    "\n",
    "u_current = full_step_phase1(u_current, dt, t[-1])\n",
    "u_snapshot.append(u_current.copy())\n",
    "t.append(t[-1] + dt)"
   ],
   "id": "e986a0d55b33de86",
   "outputs": [],
   "execution_count": 19
  },
  {
   "metadata": {
    "jupyter": {
     "is_executing": true
    },
    "ExecuteTime": {
     "start_time": "2024-12-09T21:27:14.906691Z"
    }
   },
   "cell_type": "code",
   "source": [
    "while t[-1] < total_time: # time loop\n",
    "    print(\"dt = \", dt)\n",
    "    # calculate the full step\n",
    "    u_current = full_step_phase1(u_current, dt, t[-1])\n",
    "    \n",
    "    # calculate the half step\n",
    "    u_current_half = half_step_phase1(u_current, dt, t[-1])\n",
    "    \n",
    "    # calculate the error\n",
    "    error = np.linalg.norm(u_current_half - u_current) / np.linalg.norm(u_current)\n",
    "    # print(f\"Time: {t[-1]}, Error: {error}\")\n",
    "    # adjust the time step\n",
    "    dt = adjust_dt(dt, error)\n",
    "    \n",
    "    if error <= 1e-3:\n",
    "        # store the snapshot if the error is small enough.\n",
    "        u_snapshot.append(u_current.copy())\n",
    "        t.append(t[-1] + dt)\n",
    "        \n",
    "        # update the time step\n",
    "        dt = min(dt, 10)\n",
    "    else:\n",
    "        # the error is too large, reduce the time step. Don't store the snapshot.\n",
    "        dt = max(0.5 * dt, 0.5)\n",
    "    \n",
    "    # store the snapshot\n",
    "    u_snapshot.append(u_current.copy())\n",
    "    print(f\"Time: {t[-1]}, Error: {error:.6f}\")\n",
    "    t.append(t[-1] + dt)"
   ],
   "id": "acd90657f0bcf207",
   "outputs": [
    {
     "name": "stdout",
     "output_type": "stream",
     "text": [
      "dt =  5.0\n",
      "Time: 15.0, Error: 0.000000\n",
      "dt =  10.0\n",
      "Time: 35.0, Error: 0.000001\n",
      "dt =  10.0\n",
      "Time: 55.0, Error: 0.000002\n",
      "dt =  10.0\n",
      "Time: 75.0, Error: 0.000002\n",
      "dt =  10.0\n",
      "Time: 95.0, Error: 0.000002\n",
      "dt =  10.0\n",
      "Time: 115.0, Error: 0.000003\n",
      "dt =  10.0\n",
      "Time: 135.0, Error: 0.000003\n",
      "dt =  10.0\n",
      "Time: 155.0, Error: 0.000003\n",
      "dt =  10.0\n",
      "Time: 175.0, Error: 0.000002\n",
      "dt =  10.0\n",
      "Time: 195.0, Error: 0.000002\n",
      "dt =  10.0\n",
      "Time: 215.0, Error: 0.000005\n",
      "dt =  10.0\n",
      "Time: 235.0, Error: 0.000009\n",
      "dt =  10.0\n",
      "Time: 255.0, Error: 0.000012\n",
      "dt =  10.0\n",
      "Time: 275.0, Error: 0.000015\n",
      "dt =  10.0\n",
      "Time: 295.0, Error: 0.000016\n",
      "dt =  10.0\n",
      "Time: 315.0, Error: 0.000017\n",
      "dt =  10.0\n",
      "Time: 335.0, Error: 0.000018\n",
      "dt =  10.0\n",
      "Time: 355.0, Error: 0.000018\n",
      "dt =  10.0\n",
      "Time: 375.0, Error: 0.000019\n",
      "dt =  10.0\n",
      "Time: 395.0, Error: 0.000019\n",
      "dt =  10.0\n",
      "Time: 415.0, Error: 0.000019\n",
      "dt =  10.0\n",
      "Time: 435.0, Error: 0.000019\n",
      "dt =  10.0\n",
      "Time: 455.0, Error: 0.000019\n",
      "dt =  10.0\n",
      "Time: 475.0, Error: 0.000019\n",
      "dt =  10.0\n",
      "Time: 495.0, Error: 0.000019\n",
      "dt =  10.0\n",
      "Time: 515.0, Error: 0.000019\n",
      "dt =  10.0\n",
      "Time: 535.0, Error: 0.000019\n",
      "dt =  10.0\n",
      "Time: 555.0, Error: 0.000019\n",
      "dt =  10.0\n",
      "Time: 575.0, Error: 0.000019\n",
      "dt =  10.0\n",
      "Time: 595.0, Error: 0.000019\n",
      "dt =  10.0\n",
      "Time: 615.0, Error: 0.000019\n",
      "dt =  10.0\n",
      "Time: 635.0, Error: 0.000019\n",
      "dt =  10.0\n",
      "Time: 655.0, Error: 0.000019\n",
      "dt =  10.0\n",
      "Time: 675.0, Error: 0.000019\n",
      "dt =  10.0\n",
      "Time: 695.0, Error: 0.000020\n",
      "dt =  10.0\n",
      "Time: 715.0, Error: 0.000020\n",
      "dt =  10.0\n",
      "Time: 735.0, Error: 0.000020\n",
      "dt =  10.0\n",
      "Time: 755.0, Error: 0.000021\n",
      "dt =  10.0\n",
      "Time: 775.0, Error: 0.000020\n",
      "dt =  10.0\n",
      "Time: 795.0, Error: 0.000020\n",
      "dt =  10.0\n",
      "Time: 815.0, Error: 0.000020\n",
      "dt =  10.0\n",
      "Time: 835.0, Error: 0.000020\n",
      "dt =  10.0\n",
      "Time: 855.0, Error: 0.000020\n",
      "dt =  10.0\n",
      "Time: 875.0, Error: 0.000020\n",
      "dt =  10.0\n",
      "Time: 895.0, Error: 0.000019\n",
      "dt =  10.0\n",
      "Time: 915.0, Error: 0.000019\n",
      "dt =  10.0\n",
      "Time: 935.0, Error: 0.000019\n",
      "dt =  10.0\n",
      "Time: 955.0, Error: 0.000019\n",
      "dt =  10.0\n",
      "Time: 975.0, Error: 0.000020\n",
      "dt =  10.0\n",
      "Time: 995.0, Error: 0.000471\n",
      "dt =  10.0\n",
      "Time: 1015.0, Error: 0.000390\n",
      "dt =  10.0\n",
      "Time: 1035.0, Error: 0.000302\n",
      "dt =  10.0\n",
      "Time: 1055.0, Error: 0.000245\n",
      "dt =  10.0\n",
      "Time: 1075.0, Error: 0.000210\n",
      "dt =  10.0\n",
      "Time: 1095.0, Error: 0.000184\n",
      "dt =  10.0\n",
      "Time: 1115.0, Error: 0.000166\n",
      "dt =  10.0\n",
      "Time: 1135.0, Error: 0.000151\n",
      "dt =  10.0\n",
      "Time: 1155.0, Error: 0.000139\n",
      "dt =  10.0\n",
      "Time: 1175.0, Error: 0.000129\n",
      "dt =  10.0\n",
      "Time: 1195.0, Error: 0.000121\n",
      "dt =  10.0\n",
      "Time: 1215.0, Error: 0.000114\n",
      "dt =  10.0\n",
      "Time: 1235.0, Error: 0.000108\n",
      "dt =  10.0\n",
      "Time: 1255.0, Error: 0.000103\n",
      "dt =  10.0\n",
      "Time: 1275.0, Error: 0.000098\n",
      "dt =  10.0\n",
      "Time: 1295.0, Error: 0.000093\n",
      "dt =  10.0\n",
      "Time: 1315.0, Error: 0.000086\n",
      "dt =  10.0\n",
      "Time: 1335.0, Error: 0.000086\n",
      "dt =  10.0\n",
      "Time: 1355.0, Error: 0.000084\n",
      "dt =  10.0\n",
      "Time: 1375.0, Error: 0.000079\n",
      "dt =  10.0\n"
     ]
    }
   ],
   "execution_count": null
  },
  {
   "metadata": {
    "jupyter": {
     "is_executing": true
    }
   },
   "cell_type": "code",
   "source": [
    "# plot the results\n",
    "plt.figure(figsize=(10, 6))\n",
    "plt.imshow(np.array(u_snapshot).T, aspect='auto', cmap='bwr', extent=[0, t[-1], 0, frac_hit_index[-1] + 400])\n",
    "plt.colorbar()\n",
    "plt.xlabel(\"Time (s)\")\n",
    "plt.ylabel(\"Distance (ft)\")\n",
    "plt.show()"
   ],
   "id": "34de6cb6014fcea",
   "outputs": [],
   "execution_count": null
  },
  {
   "metadata": {},
   "cell_type": "markdown",
   "source": "# After stage 1 simulation, before stage 2 simulation. ",
   "id": "2dffa1f0f7de98fd"
  },
  {
   "metadata": {
    "jupyter": {
     "is_executing": true
    }
   },
   "cell_type": "code",
   "source": "total_time_interval = 3000",
   "id": "37895dd2a91c992e",
   "outputs": [],
   "execution_count": null
  },
  {
   "metadata": {
    "jupyter": {
     "is_executing": true
    }
   },
   "cell_type": "code",
   "source": [
    "# Simulator\n",
    "def build_matrix_phase2(dt):\n",
    "    alpha = d * dt / dx**2\n",
    "    \n",
    "    A = np.zeros((nx, nx))\n",
    "    \n",
    "    for i in range(1, nx-1):\n",
    "        A[i, i-1] = -alpha[i]\n",
    "        A[i, i] = 1 + 2 * alpha[i]\n",
    "        A[i, i+1] = -alpha[i]\n",
    "    \n",
    "    A[0, 0] = 1\n",
    "    A[-1, -1] = 1\n",
    "    A[0, 1] = -1\n",
    "    A[-1, -2] = -1\n",
    "    \n",
    "    # Source term: there is no source term in phase 2.\n",
    "    return A\n",
    "\n",
    "def build_rhs_phase2(u_current, t):\n",
    "    rhs = u_current.copy()\n",
    "    rhs[0] = 0\n",
    "    rhs[-1] = 0\n",
    "    # Source term. There is no source term in phase 2.\n",
    "    return rhs\n",
    "\n",
    "# full step\n",
    "def full_step_phase2(u_current, dt, t):\n",
    "    A = build_matrix_phase2(dt)\n",
    "    rhs = build_rhs_phase2(u_current, t)\n",
    "    return np.linalg.solve(A, rhs)\n",
    "\n",
    "# half step\n",
    "def half_step_phase2(u_current, dt, t):\n",
    "    dt_half = dt / 2\n",
    "    A_half = build_matrix_phase2(dt_half)\n",
    "    rhs_half = build_rhs_phase2(u_current, t)\n",
    "    u_middle = np.linalg.solve(A_half, rhs_half)\n",
    "    \n",
    "    b_half = build_rhs_phase2(u_middle, t)\n",
    "    u_final = np.linalg.solve(A_half, b_half)\n",
    "    \n",
    "    return u_final"
   ],
   "id": "b5d8bb44a03e142a",
   "outputs": [],
   "execution_count": null
  },
  {
   "metadata": {
    "jupyter": {
     "is_executing": true
    }
   },
   "cell_type": "code",
   "source": [
    "total_time += total_time_interval # update the total time, now it's stage1 injection + after stage1 + stage2 injection\n",
    "while t[-1] < total_time: # time loop\n",
    "    print(\"dt = \", dt)\n",
    "    # calculate the full step\n",
    "    u_current = full_step_phase2(u_current, dt, t[-1])\n",
    "    \n",
    "    # calculate the half step\n",
    "    u_current_half = half_step_phase2(u_current, dt, t[-1])\n",
    "    \n",
    "    # calculate the error\n",
    "    error = np.linalg.norm(u_current_half - u_current) / np.linalg.norm(u_current)\n",
    "    # print(f\"Time: {t[-1]}, Error: {error}\")\n",
    "    # adjust the time step\n",
    "    dt = adjust_dt(dt, error)\n",
    "    \n",
    "    if error <= 1e-3:\n",
    "        # store the snapshot if the error is small enough.\n",
    "        u_snapshot.append(u_current.copy())\n",
    "        t.append(t[-1] + dt)\n",
    "        \n",
    "        # update the time step\n",
    "        dt = min(dt, 10)\n",
    "    else:\n",
    "        # the error is too large, reduce the time step. Don't store the snapshot.\n",
    "        dt = max(0.5 * dt, 0.5)\n",
    "    \n",
    "    # store the snapshot\n",
    "    u_snapshot.append(u_current.copy())\n",
    "    print(f\"Time: {t[-1]}, Error: {error:.6f}\")\n",
    "    t.append(t[-1] + dt)"
   ],
   "id": "47448406b7c0ce42",
   "outputs": [],
   "execution_count": null
  },
  {
   "metadata": {},
   "cell_type": "code",
   "outputs": [],
   "execution_count": null,
   "source": "",
   "id": "b2fd9f3229cc0428"
  }
 ],
 "metadata": {
  "kernelspec": {
   "display_name": "Python 3",
   "language": "python",
   "name": "python3"
  },
  "language_info": {
   "codemirror_mode": {
    "name": "ipython",
    "version": 2
   },
   "file_extension": ".py",
   "mimetype": "text/x-python",
   "name": "python",
   "nbconvert_exporter": "python",
   "pygments_lexer": "ipython2",
   "version": "2.7.6"
  }
 },
 "nbformat": 4,
 "nbformat_minor": 5
}
