{
 "cells": [
  {
   "metadata": {
    "ExecuteTime": {
     "end_time": "2024-12-29T06:08:11.798723Z",
     "start_time": "2024-12-29T06:08:11.765868Z"
    }
   },
   "cell_type": "code",
   "source": [
    "%load_ext autoreload\n",
    "%autoreload 2"
   ],
   "id": "6e795e914c3b6217",
   "outputs": [
    {
     "name": "stdout",
     "output_type": "stream",
     "text": [
      "The autoreload extension is already loaded. To reload it, use:\n",
      "  %reload_ext autoreload\n"
     ]
    }
   ],
   "execution_count": 2
  },
  {
   "cell_type": "code",
   "id": "initial_id",
   "metadata": {
    "collapsed": true,
    "ExecuteTime": {
     "end_time": "2024-12-29T06:08:17.910792Z",
     "start_time": "2024-12-29T06:08:13.035275Z"
    }
   },
   "source": [
    "import numpy as np\n",
    "import matplotlib.pyplot as plt\n",
    "from DSS_analyzer_Mariner import Data1D_GAUGE, Data1D_PumpingCurve\n",
    "datapath = \"./\"\n",
    "gauge_data_folder = datapath + \"s_well/gauge_data/\"\n",
    "gauge_dataframe = Data1D_GAUGE.Data1D_GAUGE(gauge_data_folder + f\"gauge6_data_swell.npz\")\n",
    "# Plot the gauge data\n",
    "from DSS_analyzer_Mariner import Data1D_PumpingCurve\n",
    "pumping_curve_filepath = datapath + f\"prod/pumping_curve/pumping_curve_stage7.npz\"\n",
    "pumping_curve = Data1D_PumpingCurve.Data1D_PumpingCurve(pumping_curve_filepath)\n",
    "\n",
    "# Crop the pressure gauge data,\n",
    "start_time = pumping_curve.get_start_time()\n",
    "end_time = pumping_curve.get_end_time()\n",
    "gauge_dataframe.crop(start_time, end_time)\n",
    "\n",
    "gauge_md_index = np.array([265, 520,  789, 1043, 1312, 1567])\n",
    "frac_hit_index = np.array([589, 830])"
   ],
   "outputs": [],
   "execution_count": 3
  },
  {
   "metadata": {
    "ExecuteTime": {
     "end_time": "2024-12-29T06:08:18.102946Z",
     "start_time": "2024-12-29T06:08:17.911788Z"
    }
   },
   "cell_type": "code",
   "source": [
    "# Interpolate the gauge data for any time point, the function would return the interpolated value\n",
    "from scipy.interpolate import interp1d\n",
    "def interpolate_gauge_data(time):\n",
    "    gauge_data = gauge_dataframe.data\n",
    "    gauge_taxis = gauge_dataframe.calculate_time()\n",
    "    gauge_interpolator = interp1d(gauge_taxis * 3600, gauge_data, kind='linear')\n",
    "    return gauge_interpolator(time)"
   ],
   "id": "91a9484700f9b13c",
   "outputs": [],
   "execution_count": 4
  },
  {
   "metadata": {
    "ExecuteTime": {
     "end_time": "2024-12-29T06:08:18.158700Z",
     "start_time": "2024-12-29T06:08:18.103941Z"
    }
   },
   "cell_type": "code",
   "source": [
    "# Simulator parameters\n",
    "nx = 10000\n",
    "# nx = 1800\n",
    "total_time = 13000\n",
    "d = 140 * np.ones(nx)\n",
    "dx = 1\n",
    "x = np.arange(0, nx*dx, dx)\n",
    "x -= 4000\n",
    "u_snapshot = [] # store the snapshot of u\n",
    "u_current = np.zeros(nx)\n",
    "t = list([0]) # store the time points\n",
    "dt = 0\n",
    "dt_init = 10.0"
   ],
   "id": "42ce4d5f44fbe9f5",
   "outputs": [],
   "execution_count": 5
  },
  {
   "metadata": {
    "ExecuteTime": {
     "end_time": "2024-12-29T06:08:18.218436Z",
     "start_time": "2024-12-29T06:08:18.160691Z"
    }
   },
   "cell_type": "code",
   "source": [
    "# Simulator\n",
    "def build_matrix_phase1(dt):\n",
    "    alpha = d * dt / dx**2\n",
    "    \n",
    "    A = np.zeros((nx, nx))\n",
    "    \n",
    "    for i in range(1, nx-1):\n",
    "        A[i, i-1] = -alpha[i]\n",
    "        A[i, i] = 1 + 2 * alpha[i]\n",
    "        A[i, i+1] = -alpha[i]\n",
    "    \n",
    "    A[0, 0] = 1\n",
    "    A[-1, -1] = 1\n",
    "    A[0, 1] = -1\n",
    "    A[-1, -2] = -1\n",
    "    \n",
    "# Simulator\n",
    "def build_matrix_phase1(dt):\n",
    "    alpha = d * dt / dx**2\n",
    "    \n",
    "    A = np.zeros((nx, nx))\n",
    "    \n",
    "    for i in range(1, nx-1):\n",
    "        A[i, i-1] = -alpha[i]\n",
    "        A[i, i] = 1 + 2 * alpha[i]\n",
    "        A[i, i+1] = -alpha[i]\n",
    "    \n",
    "    A[0, 0] = 1\n",
    "    A[-1, -1] = 1\n",
    "    A[0, 1] = -1\n",
    "    A[-1, -2] = -1\n",
    "    \n",
    "    # Source term\n",
    "    phase1_frac_hit_index = int(np.where(x == frac_hit_index[0])[0])\n",
    "    A[phase1_frac_hit_index, :] = 0\n",
    "    A[phase1_frac_hit_index, phase1_frac_hit_index] = 1\n",
    "    \n",
    "    return A\n",
    "\n",
    "def build_rhs_phase1(u_current, t):\n",
    "    rhs = u_current.copy()\n",
    "    rhs[0] = 0\n",
    "    rhs[-1] = 0\n",
    "    # Source term.\n",
    "    rhs[frac_hit_index[0]] = interpolate_gauge_data(t)\n",
    "    # print(f\"Time: {t}, Source: {interpolate_gauge_data(t)}\") # debug info\n",
    "    return rhs"
   ],
   "id": "144d04fa0752b109",
   "outputs": [],
   "execution_count": 6
  },
  {
   "metadata": {
    "ExecuteTime": {
     "end_time": "2024-12-29T06:08:18.271204Z",
     "start_time": "2024-12-29T06:08:18.219432Z"
    }
   },
   "cell_type": "code",
   "source": [
    "u_current = gauge_dataframe.data[0] * np.ones_like(u_current) # initial condition\n",
    "u_snapshot.append(u_current.copy())"
   ],
   "id": "1fc8790fa21104ef",
   "outputs": [],
   "execution_count": 7
  },
  {
   "metadata": {
    "ExecuteTime": {
     "end_time": "2024-12-29T06:08:18.325963Z",
     "start_time": "2024-12-29T06:08:18.272200Z"
    }
   },
   "cell_type": "code",
   "source": [
    "# full step\n",
    "def full_step_phase1(u_current, dt, t):\n",
    "    A = build_matrix_phase1(dt)\n",
    "    rhs = build_rhs_phase1(u_current, t)\n",
    "    return np.linalg.solve(A, rhs)\n",
    "\n",
    "# half step\n",
    "def half_step_phase1(u_current, dt, t):\n",
    "    dt_half = dt / 2\n",
    "    A_half = build_matrix_phase1(dt_half)\n",
    "    rhs_half = build_rhs_phase1(u_current, t)\n",
    "    u_middle = np.linalg.solve(A_half, rhs_half)\n",
    "    \n",
    "    b_half = build_rhs_phase1(u_middle, t)\n",
    "    u_final = np.linalg.solve(A_half, b_half)\n",
    "    \n",
    "    return u_final"
   ],
   "id": "a2c11292de3f4f61",
   "outputs": [],
   "execution_count": 8
  },
  {
   "metadata": {
    "ExecuteTime": {
     "end_time": "2024-12-29T06:08:18.378730Z",
     "start_time": "2024-12-29T06:08:18.326959Z"
    }
   },
   "cell_type": "code",
   "source": [
    "# Time sampling optimizer\n",
    "def adjust_dt(dt_current, error, tol=1e-3):\n",
    "    safety_factor = 0.9\n",
    "    p = 2\n",
    "    \n",
    "    dt_new = safety_factor * dt_current * (tol / max(error, 1e-16))**(1/(p+1))\n",
    "    \n",
    "    dt_new = min(2.0 * dt_init, max(0.5 * dt_current, dt_new))\n",
    "    \n",
    "    return dt_new"
   ],
   "id": "c4e4fc073c49cfd9",
   "outputs": [],
   "execution_count": 9
  },
  {
   "metadata": {
    "ExecuteTime": {
     "end_time": "2024-12-29T06:08:21.854416Z",
     "start_time": "2024-12-29T06:08:18.379726Z"
    }
   },
   "cell_type": "code",
   "source": [
    "# test the full step\n",
    "dt = dt_init\n",
    "\n",
    "u_current = full_step_phase1(u_current, dt, t[-1])\n",
    "u_snapshot.append(u_current.copy())\n",
    "t.append(t[-1] + dt)"
   ],
   "id": "e986a0d55b33de86",
   "outputs": [],
   "execution_count": 10
  },
  {
   "metadata": {
    "jupyter": {
     "is_executing": true
    },
    "ExecuteTime": {
     "start_time": "2024-12-29T06:08:21.855411Z"
    }
   },
   "cell_type": "code",
   "source": [
    "while t[-1] < total_time: # time loop\n",
    "    print(\"dt = \", dt)\n",
    "    # calculate the full step\n",
    "    u_current = full_step_phase1(u_current, dt, t[-1])\n",
    "    \n",
    "    # calculate the half step\n",
    "    u_current_half = half_step_phase1(u_current, dt, t[-1])\n",
    "    \n",
    "    # calculate the error\n",
    "    error = np.linalg.norm(u_current_half - u_current) / np.linalg.norm(u_current)\n",
    "    # print(f\"Time: {t[-1]}, Error: {error}\")\n",
    "    # adjust the time step\n",
    "    dt = adjust_dt(dt, error)\n",
    "    \n",
    "    if error <= 1e-3:\n",
    "        # store the snapshot if the error is small enough.\n",
    "        u_snapshot.append(u_current.copy())\n",
    "        t.append(t[-1] + dt)\n",
    "        \n",
    "        # update the time step\n",
    "        dt = min(dt, 10)\n",
    "    else:\n",
    "        # the error is too large, reduce the time step. Don't store the snapshot.\n",
    "        dt = max(0.5 * dt, 0.5)\n",
    "    \n",
    "    # store the snapshot\n",
    "    u_snapshot.append(u_current.copy())\n",
    "    print(f\"Time: {t[-1]}, Error: {error:.6f}\")\n",
    "    t.append(t[-1] + dt)"
   ],
   "id": "acd90657f0bcf207",
   "outputs": [
    {
     "name": "stdout",
     "output_type": "stream",
     "text": [
      "dt =  10.0\n",
      "Time: 30.0, Error: 0.000000\n",
      "dt =  10\n",
      "Time: 60.0, Error: 0.000000\n",
      "dt =  10\n",
      "Time: 90.0, Error: 0.000000\n",
      "dt =  10\n",
      "Time: 120.0, Error: 0.000000\n",
      "dt =  10\n",
      "Time: 150.0, Error: 0.000000\n",
      "dt =  10\n",
      "Time: 180.0, Error: 0.000000\n",
      "dt =  10\n",
      "Time: 210.0, Error: 0.000000\n",
      "dt =  10\n",
      "Time: 240.0, Error: 0.000001\n",
      "dt =  10\n",
      "Time: 270.0, Error: 0.000001\n",
      "dt =  10\n",
      "Time: 300.0, Error: 0.000002\n",
      "dt =  10\n",
      "Time: 330.0, Error: 0.000003\n",
      "dt =  10\n",
      "Time: 360.0, Error: 0.000003\n",
      "dt =  10\n",
      "Time: 390.0, Error: 0.000004\n",
      "dt =  10\n",
      "Time: 420.0, Error: 0.000004\n",
      "dt =  10\n",
      "Time: 450.0, Error: 0.000004\n",
      "dt =  10\n",
      "Time: 480.0, Error: 0.000005\n",
      "dt =  10\n",
      "Time: 510.0, Error: 0.000005\n",
      "dt =  10\n",
      "Time: 540.0, Error: 0.000005\n",
      "dt =  10\n",
      "Time: 570.0, Error: 0.000006\n",
      "dt =  10\n",
      "Time: 600.0, Error: 0.000006\n",
      "dt =  10\n",
      "Time: 630.0, Error: 0.000006\n",
      "dt =  10\n",
      "Time: 660.0, Error: 0.000006\n",
      "dt =  10\n",
      "Time: 690.0, Error: 0.000007\n",
      "dt =  10\n",
      "Time: 720.0, Error: 0.000007\n",
      "dt =  10\n",
      "Time: 750.0, Error: 0.000007\n",
      "dt =  10\n",
      "Time: 780.0, Error: 0.000007\n",
      "dt =  10\n",
      "Time: 810.0, Error: 0.000008\n",
      "dt =  10\n",
      "Time: 840.0, Error: 0.000008\n",
      "dt =  10\n",
      "Time: 870.0, Error: 0.000008\n",
      "dt =  10\n",
      "Time: 900.0, Error: 0.000008\n",
      "dt =  10\n",
      "Time: 930.0, Error: 0.000008\n",
      "dt =  10\n",
      "Time: 960.0, Error: 0.000008\n",
      "dt =  10\n",
      "Time: 990.0, Error: 0.000009\n",
      "dt =  10\n",
      "Time: 1020.0, Error: 0.000055\n",
      "dt =  10\n",
      "Time: 1050.0, Error: 0.000053\n",
      "dt =  10\n",
      "Time: 1080.0, Error: 0.000051\n",
      "dt =  10\n",
      "Time: 1110.0, Error: 0.000049\n",
      "dt =  10\n",
      "Time: 1140.0, Error: 0.000048\n",
      "dt =  10\n",
      "Time: 1170.0, Error: 0.000047\n",
      "dt =  10\n",
      "Time: 1200.0, Error: 0.000046\n",
      "dt =  10\n",
      "Time: 1230.0, Error: 0.000046\n",
      "dt =  10\n",
      "Time: 1260.0, Error: 0.000045\n",
      "dt =  10\n",
      "Time: 1290.0, Error: 0.000045\n",
      "dt =  10\n",
      "Time: 1320.0, Error: 0.000043\n",
      "dt =  10\n",
      "Time: 1350.0, Error: 0.000044\n",
      "dt =  10\n",
      "Time: 1380.0, Error: 0.000040\n",
      "dt =  10\n",
      "Time: 1410.0, Error: 0.000042\n",
      "dt =  10\n",
      "Time: 1440.0, Error: 0.000042\n",
      "dt =  10\n",
      "Time: 1470.0, Error: 0.000042\n",
      "dt =  10\n",
      "Time: 1500.0, Error: 0.000040\n",
      "dt =  10\n",
      "Time: 1530.0, Error: 0.000039\n",
      "dt =  10\n",
      "Time: 1560.0, Error: 0.000037\n",
      "dt =  10\n",
      "Time: 1590.0, Error: 0.000036\n",
      "dt =  10\n",
      "Time: 1620.0, Error: 0.000038\n",
      "dt =  10\n",
      "Time: 1650.0, Error: 0.000036\n",
      "dt =  10\n",
      "Time: 1680.0, Error: 0.000036\n",
      "dt =  10\n",
      "Time: 1710.0, Error: 0.000037\n",
      "dt =  10\n",
      "Time: 1740.0, Error: 0.000040\n",
      "dt =  10\n",
      "Time: 1770.0, Error: 0.000039\n",
      "dt =  10\n",
      "Time: 1800.0, Error: 0.000038\n",
      "dt =  10\n",
      "Time: 1830.0, Error: 0.000037\n",
      "dt =  10\n",
      "Time: 1860.0, Error: 0.000036\n",
      "dt =  10\n",
      "Time: 1890.0, Error: 0.000035\n",
      "dt =  10\n",
      "Time: 1920.0, Error: 0.000034\n",
      "dt =  10\n",
      "Time: 1950.0, Error: 0.000034\n",
      "dt =  10\n",
      "Time: 1980.0, Error: 0.000034\n",
      "dt =  10\n",
      "Time: 2010.0, Error: 0.000033\n",
      "dt =  10\n",
      "Time: 2040.0, Error: 0.000033\n",
      "dt =  10\n",
      "Time: 2070.0, Error: 0.000034\n",
      "dt =  10\n",
      "Time: 2100.0, Error: 0.000037\n",
      "dt =  10\n",
      "Time: 2130.0, Error: 0.000040\n",
      "dt =  10\n",
      "Time: 2160.0, Error: 0.000039\n",
      "dt =  10\n",
      "Time: 2190.0, Error: 0.000040\n",
      "dt =  10\n"
     ]
    }
   ],
   "execution_count": null
  },
  {
   "metadata": {
    "jupyter": {
     "is_executing": true
    }
   },
   "cell_type": "code",
   "source": [
    "# plot the results\n",
    "plt.figure(figsize=(10, 6))\n",
    "plt.imshow(np.array(u_snapshot).T, aspect='auto', cmap='bwr', extent=[0, t[-1], 0, frac_hit_index[-1] + 400])\n",
    "plt.colorbar()\n",
    "plt.xlabel(\"Time (s)\")\n",
    "plt.ylabel(\"Distance (ft)\")\n",
    "plt.show()"
   ],
   "id": "34de6cb6014fcea",
   "outputs": [],
   "execution_count": null
  },
  {
   "metadata": {},
   "cell_type": "markdown",
   "source": "# After stage 1 simulation, before stage 2 simulation. ",
   "id": "2dffa1f0f7de98fd"
  },
  {
   "metadata": {
    "jupyter": {
     "is_executing": true
    }
   },
   "cell_type": "code",
   "source": "total_time_interval = 3000",
   "id": "37895dd2a91c992e",
   "outputs": [],
   "execution_count": null
  },
  {
   "metadata": {
    "jupyter": {
     "is_executing": true
    }
   },
   "cell_type": "code",
   "source": [
    "# Simulator\n",
    "def build_matrix_phase2(dt):\n",
    "    alpha = d * dt / dx**2\n",
    "    \n",
    "    A = np.zeros((nx, nx))\n",
    "    \n",
    "    for i in range(1, nx-1):\n",
    "        A[i, i-1] = -alpha[i]\n",
    "        A[i, i] = 1 + 2 * alpha[i]\n",
    "        A[i, i+1] = -alpha[i]\n",
    "    \n",
    "    A[0, 0] = 1\n",
    "    A[-1, -1] = 1\n",
    "    A[0, 1] = -1\n",
    "    A[-1, -2] = -1\n",
    "    \n",
    "    # Source term: there is no source term in phase 2.\n",
    "    return A\n",
    "\n",
    "def build_rhs_phase2(u_current, t):\n",
    "    rhs = u_current.copy()\n",
    "    rhs[0] = 0\n",
    "    rhs[-1] = 0\n",
    "    # Source term. There is no source term in phase 2.\n",
    "    return rhs\n",
    "\n",
    "# full step\n",
    "def full_step_phase2(u_current, dt, t):\n",
    "    A = build_matrix_phase2(dt)\n",
    "    rhs = build_rhs_phase2(u_current, t)\n",
    "    return np.linalg.solve(A, rhs)\n",
    "\n",
    "# half step\n",
    "def half_step_phase2(u_current, dt, t):\n",
    "    dt_half = dt / 2\n",
    "    A_half = build_matrix_phase2(dt_half)\n",
    "    rhs_half = build_rhs_phase2(u_current, t)\n",
    "    u_middle = np.linalg.solve(A_half, rhs_half)\n",
    "    \n",
    "    b_half = build_rhs_phase2(u_middle, t)\n",
    "    u_final = np.linalg.solve(A_half, b_half)\n",
    "    \n",
    "    return u_final"
   ],
   "id": "b5d8bb44a03e142a",
   "outputs": [],
   "execution_count": null
  },
  {
   "metadata": {
    "jupyter": {
     "is_executing": true
    }
   },
   "cell_type": "code",
   "source": [
    "total_time += total_time_interval # update the total time, now it's stage1 injection + after stage1 + stage2 injection\n",
    "# change the permeability at the frac hit index\n",
    "d[frac_hit_index[0]] = d[frac_hit_index[0]] / 200\n",
    "while t[-1] < total_time: # time loop\n",
    "    print(\"dt = \", dt)\n",
    "    # calculate the full step\n",
    "    u_current = full_step_phase2(u_current, dt, t[-1])\n",
    "    \n",
    "    # calculate the half step\n",
    "    u_current_half = half_step_phase2(u_current, dt, t[-1])\n",
    "    \n",
    "    # calculate the error\n",
    "    error = np.linalg.norm(u_current_half - u_current) / np.linalg.norm(u_current)\n",
    "    # print(f\"Time: {t[-1]}, Error: {error}\")\n",
    "    # adjust the time step\n",
    "    dt = adjust_dt(dt, error)\n",
    "    \n",
    "    if error <= 1e-3:\n",
    "        # store the snapshot if the error is small enough.\n",
    "        u_snapshot.append(u_current.copy())\n",
    "        t.append(t[-1] + dt)\n",
    "        \n",
    "        # update the time step\n",
    "        dt = min(dt, 10)\n",
    "    else:\n",
    "        # the error is too large, reduce the time step. Don't store the snapshot.\n",
    "        dt = max(0.5 * dt, 0.5)\n",
    "    \n",
    "    # store the snapshot\n",
    "    u_snapshot.append(u_current.copy())\n",
    "    print(f\"Time: {t[-1]}, Error: {error:.6f}\")\n",
    "    t.append(t[-1] + dt)"
   ],
   "id": "47448406b7c0ce42",
   "outputs": [],
   "execution_count": null
  },
  {
   "metadata": {},
   "cell_type": "markdown",
   "source": "# Stage 2 stimulation.",
   "id": "f39ff5687154648b"
  },
  {
   "metadata": {
    "jupyter": {
     "is_executing": true
    }
   },
   "cell_type": "code",
   "source": [
    "total_time_stage2 = 36898 - total_time_interval - total_time\n",
    "total_time += total_time_stage2"
   ],
   "id": "faa4d187d7299ff9",
   "outputs": [],
   "execution_count": null
  },
  {
   "metadata": {
    "jupyter": {
     "is_executing": true
    }
   },
   "cell_type": "code",
   "source": [
    "# Simulator for phase 3. \n",
    "def build_matrix_phase3(dt):\n",
    "    alpha = d * dt / dx**2\n",
    "    \n",
    "    A = np.zeros((nx, nx))\n",
    "    \n",
    "    for i in range(1, nx-1):\n",
    "        A[i, i-1] = -alpha[i]\n",
    "        A[i, i] = 1 + 2 * alpha[i]\n",
    "        A[i, i+1] = -alpha[i]\n",
    "    \n",
    "    A[0, 0] = 1\n",
    "    A[-1, -1] = 1\n",
    "    A[0, 1] = -1\n",
    "    A[-1, -2] = -1\n",
    "    \n",
    "# Simulator\n",
    "def build_matrix_phase3(dt):\n",
    "    alpha = d * dt / dx**2\n",
    "    \n",
    "    A = np.zeros((nx, nx))\n",
    "    \n",
    "    for i in range(1, nx-1):\n",
    "        A[i, i-1] = -alpha[i]\n",
    "        A[i, i] = 1 + 2 * alpha[i]\n",
    "        A[i, i+1] = -alpha[i]\n",
    "    \n",
    "    A[0, 0] = 1\n",
    "    A[-1, -1] = 1\n",
    "    A[0, 1] = -1\n",
    "    A[-1, -2] = -1\n",
    "    \n",
    "    # Source term\n",
    "    phase3_frac_hit_index = int(np.where(x == frac_hit_index[1])[0])\n",
    "    A[phase3_frac_hit_index, :] = 0\n",
    "    A[phase3_frac_hit_index, phase3_frac_hit_index] = 1\n",
    "    \n",
    "    return A\n",
    "\n",
    "def build_rhs_phase3(u_current, t):\n",
    "    rhs = u_current.copy()\n",
    "    rhs[0] = 0\n",
    "    rhs[-1] = 0\n",
    "    # Source term.\n",
    "    rhs[frac_hit_index[1]] = interpolate_gauge_data(t)\n",
    "    # print(f\"Time: {t}, Source: {interpolate_gauge_data(t)}\") # debug info\n",
    "    return rhs"
   ],
   "id": "1f7130e0f0ad1303",
   "outputs": [],
   "execution_count": null
  },
  {
   "metadata": {
    "jupyter": {
     "is_executing": true
    }
   },
   "cell_type": "code",
   "source": [
    "while t[-1] < total_time: # time loop\n",
    "    print(\"dt = \", dt)\n",
    "    # calculate the full step\n",
    "    u_current = full_step_phase2(u_current, dt, t[-1])\n",
    "    \n",
    "    # calculate the half step\n",
    "    u_current_half = half_step_phase2(u_current, dt, t[-1])\n",
    "    \n",
    "    # calculate the error\n",
    "    error = np.linalg.norm(u_current_half - u_current) / np.linalg.norm(u_current)\n",
    "    # print(f\"Time: {t[-1]}, Error: {error}\")\n",
    "    # adjust the time step\n",
    "    dt = adjust_dt(dt, error)\n",
    "    \n",
    "    if error <= 1e-3:\n",
    "        # store the snapshot if the error is small enough.\n",
    "        u_snapshot.append(u_current.copy())\n",
    "        t.append(t[-1] + dt)\n",
    "        \n",
    "        # update the time step\n",
    "        dt = min(dt, 10)\n",
    "    else:\n",
    "        # the error is too large, reduce the time step. Don't store the snapshot.\n",
    "        dt = max(0.5 * dt, 0.5)\n",
    "    \n",
    "    # store the snapshot\n",
    "    u_snapshot.append(u_current.copy())\n",
    "    print(f\"Time: {t[-1]}, Error: {error:.6f}\")\n",
    "    t.append(t[-1] + dt)"
   ],
   "id": "9e28958d63cf6754",
   "outputs": [],
   "execution_count": null
  },
  {
   "metadata": {
    "jupyter": {
     "is_executing": true
    }
   },
   "cell_type": "code",
   "source": [
    "# plot the results and save the results\n",
    "plt.figure(figsize=(10, 6))\n",
    "plt.imshow(np.array(u_snapshot).T, aspect='auto', cmap='bwr', extent=[0, t[-1], 0, frac_hit_index[-1] + 400])\n",
    "plt.colorbar()\n",
    "plt.xlabel(\"Time (s)\")\n",
    "plt.ylabel(\"Distance (ft)\")\n",
    "plt.show()"
   ],
   "id": "8df0f5464454e5d",
   "outputs": [],
   "execution_count": null
  },
  {
   "metadata": {
    "jupyter": {
     "is_executing": true
    }
   },
   "cell_type": "code",
   "source": [
    "# save the results\n",
    "np.savez(\"051_time_sampling_optimizer_test0.npz\", u_snapshot=u_snapshot, t=t)"
   ],
   "id": "f5fc53c0b015f8f2",
   "outputs": [],
   "execution_count": null
  },
  {
   "metadata": {},
   "cell_type": "code",
   "outputs": [],
   "execution_count": null,
   "source": "",
   "id": "bf83a02949dff74e"
  }
 ],
 "metadata": {
  "kernelspec": {
   "display_name": "Python 3",
   "language": "python",
   "name": "python3"
  },
  "language_info": {
   "codemirror_mode": {
    "name": "ipython",
    "version": 2
   },
   "file_extension": ".py",
   "mimetype": "text/x-python",
   "name": "python",
   "nbconvert_exporter": "python",
   "pygments_lexer": "ipython2",
   "version": "2.7.6"
  }
 },
 "nbformat": 4,
 "nbformat_minor": 5
}
