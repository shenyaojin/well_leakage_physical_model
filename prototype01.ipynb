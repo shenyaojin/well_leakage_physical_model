{
 "cells": [
  {
   "cell_type": "code",
   "id": "645156bb8f20cd90",
   "metadata": {
    "ExecuteTime": {
     "end_time": "2024-11-02T16:34:25.819052Z",
     "start_time": "2024-11-02T16:34:12.747973Z"
    }
   },
   "source": [
    "import numpy as np\n",
    "import matplotlib.pyplot as plt\n",
    "import pandas as pd\n",
    "from datetime import datetime"
   ],
   "outputs": [],
   "execution_count": 1
  },
  {
   "cell_type": "code",
   "id": "initial_id",
   "metadata": {
    "collapsed": true,
    "ExecuteTime": {
     "end_time": "2024-11-02T16:34:30.982029Z",
     "start_time": "2024-11-02T16:34:30.543593Z"
    }
   },
   "source": [
    "from PAN import *\n",
    "from DSS_analyzer_Mariner import Data1D_GAUGE"
   ],
   "outputs": [],
   "execution_count": 2
  },
  {
   "cell_type": "code",
   "id": "2a6025f06753e84d",
   "metadata": {
    "ExecuteTime": {
     "end_time": "2024-11-02T16:34:58.724837Z",
     "start_time": "2024-11-02T16:34:57.457106Z"
    }
   },
   "source": [
    "%matplotlib widget\n",
    "%load_ext autoreload\n",
    "%autoreload 2"
   ],
   "outputs": [],
   "execution_count": 3
  },
  {
   "metadata": {},
   "cell_type": "code",
   "outputs": [],
   "execution_count": null,
   "source": "",
   "id": "c15b49d6df60ff6"
  }
 ],
 "metadata": {
  "kernelspec": {
   "display_name": "base",
   "language": "python",
   "name": "python3"
  },
  "language_info": {
   "codemirror_mode": {
    "name": "ipython",
    "version": 3
   },
   "file_extension": ".py",
   "mimetype": "text/x-python",
   "name": "python",
   "nbconvert_exporter": "python",
   "pygments_lexer": "ipython3",
   "version": "3.11.7"
  }
 },
 "nbformat": 4,
 "nbformat_minor": 5
}
