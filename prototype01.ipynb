{
 "cells": [
  {
   "cell_type": "code",
   "id": "645156bb8f20cd90",
   "metadata": {
    "ExecuteTime": {
     "end_time": "2024-11-04T23:01:44.444697Z",
     "start_time": "2024-11-04T23:01:42.154058Z"
    }
   },
   "source": [
    "import os\n",
    "import nu\n",
    "import numpy as np\n",
    "import matplotlib.pyplot as plt\n",
    "import pandas as pd\n",
    "from datetime import datetime"
   ],
   "outputs": [],
   "execution_count": 1
  },
  {
   "cell_type": "code",
   "id": "initial_id",
   "metadata": {
    "collapsed": true,
    "ExecuteTime": {
     "end_time": "2024-11-04T23:01:45.073135Z",
     "start_time": "2024-11-04T23:01:44.445708Z"
    }
   },
   "source": [
    "from PAN import *\n",
    "from DSS_analyzer_Mariner import Data1D_GAUGE, Data3D_geometry"
   ],
   "outputs": [],
   "execution_count": 2
  },
  {
   "cell_type": "code",
   "id": "2a6025f06753e84d",
   "metadata": {
    "ExecuteTime": {
     "end_time": "2024-11-04T23:01:45.144681Z",
     "start_time": "2024-11-04T23:01:45.075058Z"
    }
   },
   "source": [
    "%matplotlib widget\n",
    "%load_ext autoreload\n",
    "%autoreload 2"
   ],
   "outputs": [],
   "execution_count": 3
  },
  {
   "metadata": {
    "ExecuteTime": {
     "end_time": "2024-11-04T23:01:45.156813Z",
     "start_time": "2024-11-04T23:01:45.145485Z"
    }
   },
   "cell_type": "code",
   "source": "# v1, without PAN.",
   "id": "c15b49d6df60ff6",
   "outputs": [],
   "execution_count": 4
  },
  {
   "metadata": {
    "ExecuteTime": {
     "end_time": "2024-11-04T23:01:45.171019Z",
     "start_time": "2024-11-04T23:01:45.158316Z"
    }
   },
   "cell_type": "code",
   "source": [
    "# design grid\n",
    "datapath = \"../../dataiov3/output/\""
   ],
   "id": "902a470a505cf104",
   "outputs": [],
   "execution_count": 5
  },
  {
   "metadata": {
    "ExecuteTime": {
     "end_time": "2024-11-04T23:01:45.184390Z",
     "start_time": "2024-11-04T23:01:45.171965Z"
    }
   },
   "cell_type": "code",
   "source": "s_well_geometry_datapath = datapath + \"s_well/geometry/swell_geometry.npz\"",
   "id": "59034f01e97c15a4",
   "outputs": [],
   "execution_count": 6
  },
  {
   "metadata": {
    "ExecuteTime": {
     "end_time": "2024-11-04T23:01:45.196864Z",
     "start_time": "2024-11-04T23:01:45.185045Z"
    }
   },
   "cell_type": "code",
   "source": [
    "stage_start = 2\n",
    "range = 3\n",
    "stage_num = np.arange(stage_start, stage_start + range, 1)"
   ],
   "id": "46ea946dcbb44731",
   "outputs": [],
   "execution_count": 7
  },
  {
   "metadata": {
    "ExecuteTime": {
     "end_time": "2024-11-04T23:01:45.210336Z",
     "start_time": "2024-11-04T23:01:45.197507Z"
    }
   },
   "cell_type": "code",
   "source": "stage_num",
   "id": "66857e02278c6155",
   "outputs": [
    {
     "data": {
      "text/plain": [
       "array([2, 3, 4])"
      ]
     },
     "execution_count": 8,
     "metadata": {},
     "output_type": "execute_result"
    }
   ],
   "execution_count": 8
  },
  {
   "metadata": {
    "ExecuteTime": {
     "end_time": "2024-11-04T23:01:45.587397Z",
     "start_time": "2024-11-04T23:01:45.210917Z"
    }
   },
   "cell_type": "code",
   "source": [
    "# Do stage 2-4\n",
    "swell_frachit_all = []\n",
    "for stage in stage_num:\n",
    "    s_well_frachit_datapath = datapath + f\"s_well/geometry/frac_hit/frac_hit_stage_{stage}_swell.npz\"\n",
    "    # Load data\n",
    "    s_well_frachit_dataframe = Data3D_geometry.Data3D_geometry(s_well_frachit_datapath)\n",
    "    swell_frachit_all.append(s_well_frachit_dataframe)"
   ],
   "id": "2bf42f32e406a6fd",
   "outputs": [],
   "execution_count": 9
  },
  {
   "metadata": {
    "ExecuteTime": {
     "end_time": "2024-11-04T23:06:16.030947Z",
     "start_time": "2024-11-04T23:06:14.382357Z"
    }
   },
   "cell_type": "code",
   "source": "depth_range = np.array([np.min(swell_frachit_all[-1].data) - 200, np.max(swell_frachit_all[0].data) + 200])",
   "id": "f5074984e9a2617",
   "outputs": [],
   "execution_count": 10
  },
  {
   "metadata": {
    "ExecuteTime": {
     "end_time": "2024-11-04T23:13:19.791023Z",
     "start_time": "2024-11-04T23:13:19.741540Z"
    }
   },
   "cell_type": "code",
   "source": [
    "# do 1ft sampling for the depth range\n",
    "depth_sampling = np.arange(depth_range[0], depth_range[1], 1)"
   ],
   "id": "c807d1a594c81659",
   "outputs": [],
   "execution_count": 13
  },
  {
   "metadata": {
    "ExecuteTime": {
     "end_time": "2024-11-04T23:21:53.052392Z",
     "start_time": "2024-11-04T23:21:53.036172Z"
    }
   },
   "cell_type": "code",
   "source": [
    "# Design grid in time\n",
    "# 1000 time steps\n",
    "dt = 1\n",
    "nt = 1001\n",
    "t = np.arange(0, nt, dt)"
   ],
   "id": "3aca0ef1e6e6bd21",
   "outputs": [],
   "execution_count": 19
  },
  {
   "metadata": {
    "ExecuteTime": {
     "end_time": "2024-11-04T23:21:54.291708Z",
     "start_time": "2024-11-04T23:21:54.268424Z"
    }
   },
   "cell_type": "code",
   "source": "# do the simulation\n",
   "id": "9b0274f08b95014c",
   "outputs": [
    {
     "data": {
      "text/plain": [
       "array([   0,    1,    2, ...,  998,  999, 1000])"
      ]
     },
     "execution_count": 20,
     "metadata": {},
     "output_type": "execute_result"
    }
   ],
   "execution_count": 20
  },
  {
   "metadata": {},
   "cell_type": "code",
   "outputs": [],
   "execution_count": null,
   "source": "",
   "id": "8fca038db0709b4e"
  }
 ],
 "metadata": {
  "kernelspec": {
   "display_name": "base",
   "language": "python",
   "name": "python3"
  },
  "language_info": {
   "codemirror_mode": {
    "name": "ipython",
    "version": 3
   },
   "file_extension": ".py",
   "mimetype": "text/x-python",
   "name": "python",
   "nbconvert_exporter": "python",
   "pygments_lexer": "ipython3",
   "version": "3.11.7"
  }
 },
 "nbformat": 4,
 "nbformat_minor": 5
}
