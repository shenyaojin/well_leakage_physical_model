{
 "cells": [
  {
   "cell_type": "code",
   "id": "645156bb8f20cd90",
   "metadata": {
    "ExecuteTime": {
     "end_time": "2024-11-06T04:07:56.771704Z",
     "start_time": "2024-11-06T04:07:56.766679Z"
    }
   },
   "source": [
    "import os\n",
    "import numpy as np\n",
    "import matplotlib.pyplot as plt\n",
    "import pandas as pd\n",
    "from datetime import datetime"
   ],
   "outputs": [],
   "execution_count": 5
  },
  {
   "cell_type": "code",
   "id": "initial_id",
   "metadata": {
    "collapsed": true,
    "ExecuteTime": {
     "end_time": "2024-11-06T04:07:59.040902Z",
     "start_time": "2024-11-06T04:07:59.037265Z"
    }
   },
   "source": [
    "from PAN import *\n",
    "from DSS_analyzer_Mariner import Data1D_GAUGE, Data3D_geometry"
   ],
   "outputs": [],
   "execution_count": 6
  },
  {
   "cell_type": "code",
   "id": "2a6025f06753e84d",
   "metadata": {
    "ExecuteTime": {
     "end_time": "2024-11-06T04:08:07.350808Z",
     "start_time": "2024-11-06T04:08:06.597375Z"
    }
   },
   "source": [
    "%load_ext autoreload\n",
    "%autoreload 2"
   ],
   "outputs": [],
   "execution_count": 8
  },
  {
   "metadata": {
    "ExecuteTime": {
     "end_time": "2024-11-06T04:08:08.912557Z",
     "start_time": "2024-11-06T04:08:08.886777Z"
    }
   },
   "cell_type": "code",
   "source": [
    "dx = 1\n",
    "nx = 1001\n",
    "x = np.arange(0, nx * dx, dx)"
   ],
   "id": "faa6bae5c2c0bf11",
   "outputs": [],
   "execution_count": 9
  },
  {
   "metadata": {
    "ExecuteTime": {
     "end_time": "2024-11-06T04:08:09.879810Z",
     "start_time": "2024-11-06T04:08:09.856690Z"
    }
   },
   "cell_type": "code",
   "source": [
    "# Design grid in time\n",
    "# 1000 time steps\n",
    "dt = 1\n",
    "nt = 1001\n",
    "t = np.arange(0, nt * dt, dt)"
   ],
   "id": "3aca0ef1e6e6bd21",
   "outputs": [],
   "execution_count": 10
  },
  {
   "metadata": {},
   "cell_type": "code",
   "outputs": [],
   "execution_count": 11,
   "source": "%matplotlib notebook",
   "id": "ac9d87b586e40e2c"
  },
  {
   "metadata": {},
   "cell_type": "code",
   "source": "",
   "id": "8fca038db0709b4e",
   "outputs": [],
   "execution_count": null
  }
 ],
 "metadata": {
  "kernelspec": {
   "display_name": "base",
   "language": "python",
   "name": "python3"
  },
  "language_info": {
   "codemirror_mode": {
    "name": "ipython",
    "version": 3
   },
   "file_extension": ".py",
   "mimetype": "text/x-python",
   "name": "python",
   "nbconvert_exporter": "python",
   "pygments_lexer": "ipython3",
   "version": "3.11.7"
  }
 },
 "nbformat": 4,
 "nbformat_minor": 5
}
